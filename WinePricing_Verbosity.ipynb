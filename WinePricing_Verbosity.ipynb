{
  "nbformat": 4,
  "nbformat_minor": 0,
  "metadata": {
    "colab": {
      "provenance": [],
      "authorship_tag": "ABX9TyOqWpQtk4UpjsnlygB72b5X"
    },
    "kernelspec": {
      "name": "python3",
      "display_name": "Python 3"
    },
    "language_info": {
      "name": "python"
    }
  },
  "cells": [
    {
      "cell_type": "markdown",
      "source": [
        "## Background"
      ],
      "metadata": {
        "id": "FXZcKHbVO-X4"
      }
    },
    {
      "cell_type": "markdown",
      "source": [
        "The intent of this analysis is to determine the correlation between the verbosity of wine descriptions and the price points for the wine.  \n",
        "\n",
        "This analysis uses the [Wine Dataset](https://www.kaggle.com/datasets/elvinrustam/wine-dataset) provided by the user Elvin Rustamov on Kaggle. The dataset offers basic details on different wine types sold in Europe."
      ],
      "metadata": {
        "id": "SV4CpWfALwpJ"
      }
    },
    {
      "cell_type": "markdown",
      "source": [
        "### Variables\n",
        "\n",
        "There are 17 variables provided in the original dataset:\n",
        "* **Title**: The name of the name, occasionally includes the winemaker and year.\n",
        "* **Description**: The summary description usually found on the wine lable\n",
        "* **Price**: The retail price of the wine in pounds (£)\n",
        "* **Capacity**: The volume or size of the wine bottle in metric units\n",
        "* **Grape**: The primary grape variety used in making the wine\n",
        "* **Secondary Grape Varieties**: Any additional grape varieties used\n",
        "* **Closure**: How the bottle is sealed\n",
        "* **Country**: Where the wine is produced\n",
        "* **Unit**: Unknown factor, not described in the user's documentation and unclear based on context\n",
        "* **Characteristics**: Tasting notes focused on flavor\n",
        "* **Per bottle / case / each**: If the wine is sold by the case, bottle, etc.\n",
        "* **Type**: The general wine category (e.g. red, white, etc)\n",
        "* **ABV**: Alcohol content in the wine\n",
        "* **Region**: Where the grapes are grown\n",
        "* **Style**: Tasting notes, focused on the sensory experience\n",
        "* **Vintage**: The growing year for the grapes used\n",
        "* **Appellation**: The legally defined growing region for the grapes"
      ],
      "metadata": {
        "id": "YdQ4n9SSk9DB"
      }
    },
    {
      "cell_type": "markdown",
      "source": [
        "## Setup"
      ],
      "metadata": {
        "id": "pHI3jZamMQC2"
      }
    },
    {
      "cell_type": "code",
      "source": [
        "#set working directory and mount Google Drive\n",
        "import os\n",
        "os.getcwd( )\n",
        "from google.colab import drive\n",
        "drive.mount('/content/drive')"
      ],
      "metadata": {
        "colab": {
          "base_uri": "https://localhost:8080/"
        },
        "id": "XRGFaqJ_MUfG",
        "outputId": "d5df46ba-893e-4117-ac74-48cc07364b59"
      },
      "execution_count": 431,
      "outputs": [
        {
          "output_type": "stream",
          "name": "stdout",
          "text": [
            "Drive already mounted at /content/drive; to attempt to forcibly remount, call drive.mount(\"/content/drive\", force_remount=True).\n"
          ]
        }
      ]
    },
    {
      "cell_type": "code",
      "source": [
        "#import needed packages\n",
        "import pandas as pd\n",
        "import numpy as np\n",
        "import seaborn as sns\n",
        "import matplotlib.pyplot as plt\n",
        "import re\n",
        "from statsmodels.stats.outliers_influence import variance_inflation_factor"
      ],
      "metadata": {
        "id": "pdmgOMoLMZa6"
      },
      "execution_count": 432,
      "outputs": []
    },
    {
      "cell_type": "markdown",
      "source": [
        "## Initial Review & Cleaning"
      ],
      "metadata": {
        "id": "sCiky2ZRf9U3"
      }
    },
    {
      "cell_type": "code",
      "source": [
        "#read in dataset, ID variables\n",
        "df = pd.read_csv('/content/drive/MyDrive/Portfolio/data/WineDataset.csv')\n",
        "df.info()"
      ],
      "metadata": {
        "colab": {
          "base_uri": "https://localhost:8080/"
        },
        "id": "aC-5jvQJfis0",
        "outputId": "be13c7e9-007a-4d86-c243-69ca80acf906"
      },
      "execution_count": 433,
      "outputs": [
        {
          "output_type": "stream",
          "name": "stdout",
          "text": [
            "<class 'pandas.core.frame.DataFrame'>\n",
            "RangeIndex: 1290 entries, 0 to 1289\n",
            "Data columns (total 17 columns):\n",
            " #   Column                     Non-Null Count  Dtype  \n",
            "---  ------                     --------------  -----  \n",
            " 0   Title                      1290 non-null   object \n",
            " 1   Description                1286 non-null   object \n",
            " 2   Price                      1290 non-null   object \n",
            " 3   Capacity                   1290 non-null   object \n",
            " 4   Grape                      1275 non-null   object \n",
            " 5   Secondary Grape Varieties  488 non-null    object \n",
            " 6   Closure                    1279 non-null   object \n",
            " 7   Country                    1284 non-null   object \n",
            " 8   Unit                       1281 non-null   float64\n",
            " 9   Characteristics            1253 non-null   object \n",
            " 10  Per bottle / case / each   1290 non-null   object \n",
            " 11  Type                       1285 non-null   object \n",
            " 12  ABV                        1281 non-null   object \n",
            " 13  Region                     1124 non-null   object \n",
            " 14  Style                      1212 non-null   object \n",
            " 15  Vintage                    1283 non-null   object \n",
            " 16  Appellation                644 non-null    object \n",
            "dtypes: float64(1), object(16)\n",
            "memory usage: 171.5+ KB\n"
          ]
        }
      ]
    },
    {
      "cell_type": "code",
      "source": [
        "#check content in variables\n",
        "df.head()"
      ],
      "metadata": {
        "colab": {
          "base_uri": "https://localhost:8080/",
          "height": 591
        },
        "id": "NIwIgZrAOeO4",
        "outputId": "428f7b50-45e3-475a-fcfc-1233ec0934aa"
      },
      "execution_count": 434,
      "outputs": [
        {
          "output_type": "execute_result",
          "data": {
            "text/plain": [
              "                                               Title  \\\n",
              "0                                 The Guv'nor, Spain   \n",
              "1  Bread & Butter 'Winemaker's Selection' Chardon...   \n",
              "2       Oyster Bay Sauvignon Blanc 2022, Marlborough   \n",
              "3                   Louis Latour Mâcon-Lugny 2021/22   \n",
              "4  Bread & Butter 'Winemaker's Selection' Pinot N...   \n",
              "\n",
              "                                         Description              Price  \\\n",
              "0  We asked some of our most prized winemakers wo...   £9.99 per bottle   \n",
              "1  This really does what it says on the tin. It’s...  £15.99 per bottle   \n",
              "2  Oyster Bay has been an award-winning gold-stan...  £12.49 per bottle   \n",
              "3  We’ve sold this wine for thirty years – and fo...  £17.99 per bottle   \n",
              "4  Bread & Butter is that thing that you can coun...  £15.99 per bottle   \n",
              "\n",
              "  Capacity            Grape Secondary Grape Varieties       Closure  \\\n",
              "0     75CL      Tempranillo                       NaN  Natural Cork   \n",
              "1     75CL       Chardonnay                       NaN  Natural Cork   \n",
              "2     75CL  Sauvignon Blanc                       NaN      Screwcap   \n",
              "3     75CL       Chardonnay                       NaN  Natural Cork   \n",
              "4     75CL       Pinot Noir                       NaN  Natural Cork   \n",
              "\n",
              "       Country  Unit                                    Characteristics  \\\n",
              "0        Spain  10.5                  Vanilla, Blackberry, Blackcurrant   \n",
              "1          USA  10.1  Vanilla, Almond, Coconut, Green Apple, Peach, ...   \n",
              "2  New Zealand   9.8  Tropical Fruit, Gooseberry, Grapefruit, Grass,...   \n",
              "3       France  10.1                      Peach, Apricot, Floral, Lemon   \n",
              "4          USA  10.1   Smoke, Black Cherry, Cedar, Raspberry, Red Fruit   \n",
              "\n",
              "  Per bottle / case / each   Type         ABV       Region            Style  \\\n",
              "0               per bottle    Red  ABV 14.00%          NaN     Rich & Juicy   \n",
              "1               per bottle  White  ABV 13.50%   California    Rich & Toasty   \n",
              "2               per bottle  White  ABV 13.00%  Marlborough    Crisp & Zesty   \n",
              "3               per bottle  White  ABV 13.50%     Burgundy   Ripe & Rounded   \n",
              "4               per bottle    Red  ABV 13.50%   California  Smooth & Mellow   \n",
              "\n",
              "  Vintage  Appellation  \n",
              "0      NV          NaN  \n",
              "1    2021  Napa Valley  \n",
              "2    2022          NaN  \n",
              "3    2022        Macon  \n",
              "4    2021  Napa Valley  "
            ],
            "text/html": [
              "\n",
              "  <div id=\"df-6ec1e5ec-1035-45d1-960f-349d5846fd43\" class=\"colab-df-container\">\n",
              "    <div>\n",
              "<style scoped>\n",
              "    .dataframe tbody tr th:only-of-type {\n",
              "        vertical-align: middle;\n",
              "    }\n",
              "\n",
              "    .dataframe tbody tr th {\n",
              "        vertical-align: top;\n",
              "    }\n",
              "\n",
              "    .dataframe thead th {\n",
              "        text-align: right;\n",
              "    }\n",
              "</style>\n",
              "<table border=\"1\" class=\"dataframe\">\n",
              "  <thead>\n",
              "    <tr style=\"text-align: right;\">\n",
              "      <th></th>\n",
              "      <th>Title</th>\n",
              "      <th>Description</th>\n",
              "      <th>Price</th>\n",
              "      <th>Capacity</th>\n",
              "      <th>Grape</th>\n",
              "      <th>Secondary Grape Varieties</th>\n",
              "      <th>Closure</th>\n",
              "      <th>Country</th>\n",
              "      <th>Unit</th>\n",
              "      <th>Characteristics</th>\n",
              "      <th>Per bottle / case / each</th>\n",
              "      <th>Type</th>\n",
              "      <th>ABV</th>\n",
              "      <th>Region</th>\n",
              "      <th>Style</th>\n",
              "      <th>Vintage</th>\n",
              "      <th>Appellation</th>\n",
              "    </tr>\n",
              "  </thead>\n",
              "  <tbody>\n",
              "    <tr>\n",
              "      <th>0</th>\n",
              "      <td>The Guv'nor, Spain</td>\n",
              "      <td>We asked some of our most prized winemakers wo...</td>\n",
              "      <td>£9.99 per bottle</td>\n",
              "      <td>75CL</td>\n",
              "      <td>Tempranillo</td>\n",
              "      <td>NaN</td>\n",
              "      <td>Natural Cork</td>\n",
              "      <td>Spain</td>\n",
              "      <td>10.5</td>\n",
              "      <td>Vanilla, Blackberry, Blackcurrant</td>\n",
              "      <td>per bottle</td>\n",
              "      <td>Red</td>\n",
              "      <td>ABV 14.00%</td>\n",
              "      <td>NaN</td>\n",
              "      <td>Rich &amp; Juicy</td>\n",
              "      <td>NV</td>\n",
              "      <td>NaN</td>\n",
              "    </tr>\n",
              "    <tr>\n",
              "      <th>1</th>\n",
              "      <td>Bread &amp; Butter 'Winemaker's Selection' Chardon...</td>\n",
              "      <td>This really does what it says on the tin. It’s...</td>\n",
              "      <td>£15.99 per bottle</td>\n",
              "      <td>75CL</td>\n",
              "      <td>Chardonnay</td>\n",
              "      <td>NaN</td>\n",
              "      <td>Natural Cork</td>\n",
              "      <td>USA</td>\n",
              "      <td>10.1</td>\n",
              "      <td>Vanilla, Almond, Coconut, Green Apple, Peach, ...</td>\n",
              "      <td>per bottle</td>\n",
              "      <td>White</td>\n",
              "      <td>ABV 13.50%</td>\n",
              "      <td>California</td>\n",
              "      <td>Rich &amp; Toasty</td>\n",
              "      <td>2021</td>\n",
              "      <td>Napa Valley</td>\n",
              "    </tr>\n",
              "    <tr>\n",
              "      <th>2</th>\n",
              "      <td>Oyster Bay Sauvignon Blanc 2022, Marlborough</td>\n",
              "      <td>Oyster Bay has been an award-winning gold-stan...</td>\n",
              "      <td>£12.49 per bottle</td>\n",
              "      <td>75CL</td>\n",
              "      <td>Sauvignon Blanc</td>\n",
              "      <td>NaN</td>\n",
              "      <td>Screwcap</td>\n",
              "      <td>New Zealand</td>\n",
              "      <td>9.8</td>\n",
              "      <td>Tropical Fruit, Gooseberry, Grapefruit, Grass,...</td>\n",
              "      <td>per bottle</td>\n",
              "      <td>White</td>\n",
              "      <td>ABV 13.00%</td>\n",
              "      <td>Marlborough</td>\n",
              "      <td>Crisp &amp; Zesty</td>\n",
              "      <td>2022</td>\n",
              "      <td>NaN</td>\n",
              "    </tr>\n",
              "    <tr>\n",
              "      <th>3</th>\n",
              "      <td>Louis Latour Mâcon-Lugny 2021/22</td>\n",
              "      <td>We’ve sold this wine for thirty years – and fo...</td>\n",
              "      <td>£17.99 per bottle</td>\n",
              "      <td>75CL</td>\n",
              "      <td>Chardonnay</td>\n",
              "      <td>NaN</td>\n",
              "      <td>Natural Cork</td>\n",
              "      <td>France</td>\n",
              "      <td>10.1</td>\n",
              "      <td>Peach, Apricot, Floral, Lemon</td>\n",
              "      <td>per bottle</td>\n",
              "      <td>White</td>\n",
              "      <td>ABV 13.50%</td>\n",
              "      <td>Burgundy</td>\n",
              "      <td>Ripe &amp; Rounded</td>\n",
              "      <td>2022</td>\n",
              "      <td>Macon</td>\n",
              "    </tr>\n",
              "    <tr>\n",
              "      <th>4</th>\n",
              "      <td>Bread &amp; Butter 'Winemaker's Selection' Pinot N...</td>\n",
              "      <td>Bread &amp; Butter is that thing that you can coun...</td>\n",
              "      <td>£15.99 per bottle</td>\n",
              "      <td>75CL</td>\n",
              "      <td>Pinot Noir</td>\n",
              "      <td>NaN</td>\n",
              "      <td>Natural Cork</td>\n",
              "      <td>USA</td>\n",
              "      <td>10.1</td>\n",
              "      <td>Smoke, Black Cherry, Cedar, Raspberry, Red Fruit</td>\n",
              "      <td>per bottle</td>\n",
              "      <td>Red</td>\n",
              "      <td>ABV 13.50%</td>\n",
              "      <td>California</td>\n",
              "      <td>Smooth &amp; Mellow</td>\n",
              "      <td>2021</td>\n",
              "      <td>Napa Valley</td>\n",
              "    </tr>\n",
              "  </tbody>\n",
              "</table>\n",
              "</div>\n",
              "    <div class=\"colab-df-buttons\">\n",
              "\n",
              "  <div class=\"colab-df-container\">\n",
              "    <button class=\"colab-df-convert\" onclick=\"convertToInteractive('df-6ec1e5ec-1035-45d1-960f-349d5846fd43')\"\n",
              "            title=\"Convert this dataframe to an interactive table.\"\n",
              "            style=\"display:none;\">\n",
              "\n",
              "  <svg xmlns=\"http://www.w3.org/2000/svg\" height=\"24px\" viewBox=\"0 -960 960 960\">\n",
              "    <path d=\"M120-120v-720h720v720H120Zm60-500h600v-160H180v160Zm220 220h160v-160H400v160Zm0 220h160v-160H400v160ZM180-400h160v-160H180v160Zm440 0h160v-160H620v160ZM180-180h160v-160H180v160Zm440 0h160v-160H620v160Z\"/>\n",
              "  </svg>\n",
              "    </button>\n",
              "\n",
              "  <style>\n",
              "    .colab-df-container {\n",
              "      display:flex;\n",
              "      gap: 12px;\n",
              "    }\n",
              "\n",
              "    .colab-df-convert {\n",
              "      background-color: #E8F0FE;\n",
              "      border: none;\n",
              "      border-radius: 50%;\n",
              "      cursor: pointer;\n",
              "      display: none;\n",
              "      fill: #1967D2;\n",
              "      height: 32px;\n",
              "      padding: 0 0 0 0;\n",
              "      width: 32px;\n",
              "    }\n",
              "\n",
              "    .colab-df-convert:hover {\n",
              "      background-color: #E2EBFA;\n",
              "      box-shadow: 0px 1px 2px rgba(60, 64, 67, 0.3), 0px 1px 3px 1px rgba(60, 64, 67, 0.15);\n",
              "      fill: #174EA6;\n",
              "    }\n",
              "\n",
              "    .colab-df-buttons div {\n",
              "      margin-bottom: 4px;\n",
              "    }\n",
              "\n",
              "    [theme=dark] .colab-df-convert {\n",
              "      background-color: #3B4455;\n",
              "      fill: #D2E3FC;\n",
              "    }\n",
              "\n",
              "    [theme=dark] .colab-df-convert:hover {\n",
              "      background-color: #434B5C;\n",
              "      box-shadow: 0px 1px 3px 1px rgba(0, 0, 0, 0.15);\n",
              "      filter: drop-shadow(0px 1px 2px rgba(0, 0, 0, 0.3));\n",
              "      fill: #FFFFFF;\n",
              "    }\n",
              "  </style>\n",
              "\n",
              "    <script>\n",
              "      const buttonEl =\n",
              "        document.querySelector('#df-6ec1e5ec-1035-45d1-960f-349d5846fd43 button.colab-df-convert');\n",
              "      buttonEl.style.display =\n",
              "        google.colab.kernel.accessAllowed ? 'block' : 'none';\n",
              "\n",
              "      async function convertToInteractive(key) {\n",
              "        const element = document.querySelector('#df-6ec1e5ec-1035-45d1-960f-349d5846fd43');\n",
              "        const dataTable =\n",
              "          await google.colab.kernel.invokeFunction('convertToInteractive',\n",
              "                                                    [key], {});\n",
              "        if (!dataTable) return;\n",
              "\n",
              "        const docLinkHtml = 'Like what you see? Visit the ' +\n",
              "          '<a target=\"_blank\" href=https://colab.research.google.com/notebooks/data_table.ipynb>data table notebook</a>'\n",
              "          + ' to learn more about interactive tables.';\n",
              "        element.innerHTML = '';\n",
              "        dataTable['output_type'] = 'display_data';\n",
              "        await google.colab.output.renderOutput(dataTable, element);\n",
              "        const docLink = document.createElement('div');\n",
              "        docLink.innerHTML = docLinkHtml;\n",
              "        element.appendChild(docLink);\n",
              "      }\n",
              "    </script>\n",
              "  </div>\n",
              "\n",
              "\n",
              "<div id=\"df-359fe1ce-13db-458f-a1e6-e50a6cde46b9\">\n",
              "  <button class=\"colab-df-quickchart\" onclick=\"quickchart('df-359fe1ce-13db-458f-a1e6-e50a6cde46b9')\"\n",
              "            title=\"Suggest charts\"\n",
              "            style=\"display:none;\">\n",
              "\n",
              "<svg xmlns=\"http://www.w3.org/2000/svg\" height=\"24px\"viewBox=\"0 0 24 24\"\n",
              "     width=\"24px\">\n",
              "    <g>\n",
              "        <path d=\"M19 3H5c-1.1 0-2 .9-2 2v14c0 1.1.9 2 2 2h14c1.1 0 2-.9 2-2V5c0-1.1-.9-2-2-2zM9 17H7v-7h2v7zm4 0h-2V7h2v10zm4 0h-2v-4h2v4z\"/>\n",
              "    </g>\n",
              "</svg>\n",
              "  </button>\n",
              "\n",
              "<style>\n",
              "  .colab-df-quickchart {\n",
              "      --bg-color: #E8F0FE;\n",
              "      --fill-color: #1967D2;\n",
              "      --hover-bg-color: #E2EBFA;\n",
              "      --hover-fill-color: #174EA6;\n",
              "      --disabled-fill-color: #AAA;\n",
              "      --disabled-bg-color: #DDD;\n",
              "  }\n",
              "\n",
              "  [theme=dark] .colab-df-quickchart {\n",
              "      --bg-color: #3B4455;\n",
              "      --fill-color: #D2E3FC;\n",
              "      --hover-bg-color: #434B5C;\n",
              "      --hover-fill-color: #FFFFFF;\n",
              "      --disabled-bg-color: #3B4455;\n",
              "      --disabled-fill-color: #666;\n",
              "  }\n",
              "\n",
              "  .colab-df-quickchart {\n",
              "    background-color: var(--bg-color);\n",
              "    border: none;\n",
              "    border-radius: 50%;\n",
              "    cursor: pointer;\n",
              "    display: none;\n",
              "    fill: var(--fill-color);\n",
              "    height: 32px;\n",
              "    padding: 0;\n",
              "    width: 32px;\n",
              "  }\n",
              "\n",
              "  .colab-df-quickchart:hover {\n",
              "    background-color: var(--hover-bg-color);\n",
              "    box-shadow: 0 1px 2px rgba(60, 64, 67, 0.3), 0 1px 3px 1px rgba(60, 64, 67, 0.15);\n",
              "    fill: var(--button-hover-fill-color);\n",
              "  }\n",
              "\n",
              "  .colab-df-quickchart-complete:disabled,\n",
              "  .colab-df-quickchart-complete:disabled:hover {\n",
              "    background-color: var(--disabled-bg-color);\n",
              "    fill: var(--disabled-fill-color);\n",
              "    box-shadow: none;\n",
              "  }\n",
              "\n",
              "  .colab-df-spinner {\n",
              "    border: 2px solid var(--fill-color);\n",
              "    border-color: transparent;\n",
              "    border-bottom-color: var(--fill-color);\n",
              "    animation:\n",
              "      spin 1s steps(1) infinite;\n",
              "  }\n",
              "\n",
              "  @keyframes spin {\n",
              "    0% {\n",
              "      border-color: transparent;\n",
              "      border-bottom-color: var(--fill-color);\n",
              "      border-left-color: var(--fill-color);\n",
              "    }\n",
              "    20% {\n",
              "      border-color: transparent;\n",
              "      border-left-color: var(--fill-color);\n",
              "      border-top-color: var(--fill-color);\n",
              "    }\n",
              "    30% {\n",
              "      border-color: transparent;\n",
              "      border-left-color: var(--fill-color);\n",
              "      border-top-color: var(--fill-color);\n",
              "      border-right-color: var(--fill-color);\n",
              "    }\n",
              "    40% {\n",
              "      border-color: transparent;\n",
              "      border-right-color: var(--fill-color);\n",
              "      border-top-color: var(--fill-color);\n",
              "    }\n",
              "    60% {\n",
              "      border-color: transparent;\n",
              "      border-right-color: var(--fill-color);\n",
              "    }\n",
              "    80% {\n",
              "      border-color: transparent;\n",
              "      border-right-color: var(--fill-color);\n",
              "      border-bottom-color: var(--fill-color);\n",
              "    }\n",
              "    90% {\n",
              "      border-color: transparent;\n",
              "      border-bottom-color: var(--fill-color);\n",
              "    }\n",
              "  }\n",
              "</style>\n",
              "\n",
              "  <script>\n",
              "    async function quickchart(key) {\n",
              "      const quickchartButtonEl =\n",
              "        document.querySelector('#' + key + ' button');\n",
              "      quickchartButtonEl.disabled = true;  // To prevent multiple clicks.\n",
              "      quickchartButtonEl.classList.add('colab-df-spinner');\n",
              "      try {\n",
              "        const charts = await google.colab.kernel.invokeFunction(\n",
              "            'suggestCharts', [key], {});\n",
              "      } catch (error) {\n",
              "        console.error('Error during call to suggestCharts:', error);\n",
              "      }\n",
              "      quickchartButtonEl.classList.remove('colab-df-spinner');\n",
              "      quickchartButtonEl.classList.add('colab-df-quickchart-complete');\n",
              "    }\n",
              "    (() => {\n",
              "      let quickchartButtonEl =\n",
              "        document.querySelector('#df-359fe1ce-13db-458f-a1e6-e50a6cde46b9 button');\n",
              "      quickchartButtonEl.style.display =\n",
              "        google.colab.kernel.accessAllowed ? 'block' : 'none';\n",
              "    })();\n",
              "  </script>\n",
              "</div>\n",
              "\n",
              "    </div>\n",
              "  </div>\n"
            ]
          },
          "metadata": {},
          "execution_count": 434
        }
      ]
    },
    {
      "cell_type": "code",
      "source": [
        "#check capacity values to assist with cleaning\n",
        "df['Capacity'].value_counts()"
      ],
      "metadata": {
        "colab": {
          "base_uri": "https://localhost:8080/"
        },
        "id": "wkJSZDYMNmg2",
        "outputId": "1144b4b5-0e9b-4468-c462-4a2a3b92b6fa"
      },
      "execution_count": 435,
      "outputs": [
        {
          "output_type": "execute_result",
          "data": {
            "text/plain": [
              "75CL      1193\n",
              "37.5CL      23\n",
              "750ML       18\n",
              "1.5LTR      18\n",
              "150CL       11\n",
              "50CL         8\n",
              "Our          6\n",
              "2.25L        4\n",
              "70CL         3\n",
              "500ML        3\n",
              "300CL        1\n",
              "5LITRE       1\n",
              "375ML        1\n",
              "Name: Capacity, dtype: int64"
            ]
          },
          "metadata": {},
          "execution_count": 435
        }
      ]
    },
    {
      "cell_type": "code",
      "source": [
        "#remove non-standard bottle sizes\n",
        "standard = ['75CL', '750ML']\n",
        "df = df[df['Capacity'].isin(standard)]\n",
        "\n",
        "#confirm change\n",
        "df['Capacity'].value_counts()"
      ],
      "metadata": {
        "colab": {
          "base_uri": "https://localhost:8080/"
        },
        "id": "03mk4RYrNu2f",
        "outputId": "02fba997-6034-42e8-c498-30daf26a32c8"
      },
      "execution_count": 436,
      "outputs": [
        {
          "output_type": "execute_result",
          "data": {
            "text/plain": [
              "75CL     1193\n",
              "750ML      18\n",
              "Name: Capacity, dtype: int64"
            ]
          },
          "metadata": {},
          "execution_count": 436
        }
      ]
    },
    {
      "cell_type": "code",
      "source": [
        "#confirm prices are all in £\n",
        "df[~df['Price'].str.contains('£')]"
      ],
      "metadata": {
        "colab": {
          "base_uri": "https://localhost:8080/",
          "height": 121
        },
        "id": "0_WC9K2BOIr8",
        "outputId": "3406af1f-cecf-442d-9859-9a88c7ef2f21"
      },
      "execution_count": 437,
      "outputs": [
        {
          "output_type": "execute_result",
          "data": {
            "text/plain": [
              "Empty DataFrame\n",
              "Columns: [Title, Description, Price, Capacity, Grape, Secondary Grape Varieties, Closure, Country, Unit, Characteristics, Per bottle / case / each, Type, ABV, Region, Style, Vintage, Appellation]\n",
              "Index: []"
            ],
            "text/html": [
              "\n",
              "  <div id=\"df-ce80e1de-e9ea-43d8-81de-e5ec7966b65f\" class=\"colab-df-container\">\n",
              "    <div>\n",
              "<style scoped>\n",
              "    .dataframe tbody tr th:only-of-type {\n",
              "        vertical-align: middle;\n",
              "    }\n",
              "\n",
              "    .dataframe tbody tr th {\n",
              "        vertical-align: top;\n",
              "    }\n",
              "\n",
              "    .dataframe thead th {\n",
              "        text-align: right;\n",
              "    }\n",
              "</style>\n",
              "<table border=\"1\" class=\"dataframe\">\n",
              "  <thead>\n",
              "    <tr style=\"text-align: right;\">\n",
              "      <th></th>\n",
              "      <th>Title</th>\n",
              "      <th>Description</th>\n",
              "      <th>Price</th>\n",
              "      <th>Capacity</th>\n",
              "      <th>Grape</th>\n",
              "      <th>Secondary Grape Varieties</th>\n",
              "      <th>Closure</th>\n",
              "      <th>Country</th>\n",
              "      <th>Unit</th>\n",
              "      <th>Characteristics</th>\n",
              "      <th>Per bottle / case / each</th>\n",
              "      <th>Type</th>\n",
              "      <th>ABV</th>\n",
              "      <th>Region</th>\n",
              "      <th>Style</th>\n",
              "      <th>Vintage</th>\n",
              "      <th>Appellation</th>\n",
              "    </tr>\n",
              "  </thead>\n",
              "  <tbody>\n",
              "  </tbody>\n",
              "</table>\n",
              "</div>\n",
              "    <div class=\"colab-df-buttons\">\n",
              "\n",
              "  <div class=\"colab-df-container\">\n",
              "    <button class=\"colab-df-convert\" onclick=\"convertToInteractive('df-ce80e1de-e9ea-43d8-81de-e5ec7966b65f')\"\n",
              "            title=\"Convert this dataframe to an interactive table.\"\n",
              "            style=\"display:none;\">\n",
              "\n",
              "  <svg xmlns=\"http://www.w3.org/2000/svg\" height=\"24px\" viewBox=\"0 -960 960 960\">\n",
              "    <path d=\"M120-120v-720h720v720H120Zm60-500h600v-160H180v160Zm220 220h160v-160H400v160Zm0 220h160v-160H400v160ZM180-400h160v-160H180v160Zm440 0h160v-160H620v160ZM180-180h160v-160H180v160Zm440 0h160v-160H620v160Z\"/>\n",
              "  </svg>\n",
              "    </button>\n",
              "\n",
              "  <style>\n",
              "    .colab-df-container {\n",
              "      display:flex;\n",
              "      gap: 12px;\n",
              "    }\n",
              "\n",
              "    .colab-df-convert {\n",
              "      background-color: #E8F0FE;\n",
              "      border: none;\n",
              "      border-radius: 50%;\n",
              "      cursor: pointer;\n",
              "      display: none;\n",
              "      fill: #1967D2;\n",
              "      height: 32px;\n",
              "      padding: 0 0 0 0;\n",
              "      width: 32px;\n",
              "    }\n",
              "\n",
              "    .colab-df-convert:hover {\n",
              "      background-color: #E2EBFA;\n",
              "      box-shadow: 0px 1px 2px rgba(60, 64, 67, 0.3), 0px 1px 3px 1px rgba(60, 64, 67, 0.15);\n",
              "      fill: #174EA6;\n",
              "    }\n",
              "\n",
              "    .colab-df-buttons div {\n",
              "      margin-bottom: 4px;\n",
              "    }\n",
              "\n",
              "    [theme=dark] .colab-df-convert {\n",
              "      background-color: #3B4455;\n",
              "      fill: #D2E3FC;\n",
              "    }\n",
              "\n",
              "    [theme=dark] .colab-df-convert:hover {\n",
              "      background-color: #434B5C;\n",
              "      box-shadow: 0px 1px 3px 1px rgba(0, 0, 0, 0.15);\n",
              "      filter: drop-shadow(0px 1px 2px rgba(0, 0, 0, 0.3));\n",
              "      fill: #FFFFFF;\n",
              "    }\n",
              "  </style>\n",
              "\n",
              "    <script>\n",
              "      const buttonEl =\n",
              "        document.querySelector('#df-ce80e1de-e9ea-43d8-81de-e5ec7966b65f button.colab-df-convert');\n",
              "      buttonEl.style.display =\n",
              "        google.colab.kernel.accessAllowed ? 'block' : 'none';\n",
              "\n",
              "      async function convertToInteractive(key) {\n",
              "        const element = document.querySelector('#df-ce80e1de-e9ea-43d8-81de-e5ec7966b65f');\n",
              "        const dataTable =\n",
              "          await google.colab.kernel.invokeFunction('convertToInteractive',\n",
              "                                                    [key], {});\n",
              "        if (!dataTable) return;\n",
              "\n",
              "        const docLinkHtml = 'Like what you see? Visit the ' +\n",
              "          '<a target=\"_blank\" href=https://colab.research.google.com/notebooks/data_table.ipynb>data table notebook</a>'\n",
              "          + ' to learn more about interactive tables.';\n",
              "        element.innerHTML = '';\n",
              "        dataTable['output_type'] = 'display_data';\n",
              "        await google.colab.output.renderOutput(dataTable, element);\n",
              "        const docLink = document.createElement('div');\n",
              "        docLink.innerHTML = docLinkHtml;\n",
              "        element.appendChild(docLink);\n",
              "      }\n",
              "    </script>\n",
              "  </div>\n",
              "\n",
              "\n",
              "    </div>\n",
              "  </div>\n"
            ]
          },
          "metadata": {},
          "execution_count": 437
        }
      ]
    },
    {
      "cell_type": "markdown",
      "source": [
        "## New dataframe setup"
      ],
      "metadata": {
        "id": "dIBQHaGi6pYo"
      }
    },
    {
      "cell_type": "code",
      "source": [
        "#establish new dataframe\n",
        "d = pd.DataFrame()\n",
        "\n",
        "#separate price and unit\n",
        "d['Price'] = df['Price'].str.extract('([0-9]+\\.[0-9]{2})').astype(np.float64)\n",
        "d['Price_per'] = df['Price'].str.extract('((?<=per).*$)')\n",
        "\n",
        "#ID descriptors of concern for analysis\n",
        "descriptor = ['Description', 'Characteristics', 'Style']\n",
        "\n",
        "#develop counts in descriptors of concern\n",
        "for i in descriptor:\n",
        "  d[i+'_char'] = df[i].str.len()\n",
        "  d[i+'_words'] = df[i].str.split().str.len()\n",
        "\n",
        "counts = ['_char', '_words']\n",
        "\n",
        "for x in counts:\n",
        "  d['Total'+x] = d['Description'+x] + d['Characteristics'+x] + d['Style'+x]\n",
        "\n",
        "d.head()"
      ],
      "metadata": {
        "id": "dWDs4vzt-aJk",
        "colab": {
          "base_uri": "https://localhost:8080/",
          "height": 226
        },
        "outputId": "aad67fd8-c582-49b8-d0c0-078329ed6242"
      },
      "execution_count": 438,
      "outputs": [
        {
          "output_type": "execute_result",
          "data": {
            "text/plain": [
              "   Price Price_per  Description_char  Description_words  Characteristics_char  \\\n",
              "0   9.99    bottle             481.0               78.0                  33.0   \n",
              "1  15.99    bottle             544.0               94.0                  68.0   \n",
              "2  12.49    bottle             664.0              112.0                  78.0   \n",
              "3  17.99    bottle             647.0              112.0                  29.0   \n",
              "4  15.99    bottle             793.0              128.0                  48.0   \n",
              "\n",
              "   Characteristics_words  Style_char  Style_words  Total_char  Total_words  \n",
              "0                    3.0        12.0          3.0       526.0         84.0  \n",
              "1                    9.0        13.0          3.0       625.0        106.0  \n",
              "2                   10.0        13.0          3.0       755.0        125.0  \n",
              "3                    4.0        14.0          3.0       690.0        119.0  \n",
              "4                    7.0        15.0          3.0       856.0        138.0  "
            ],
            "text/html": [
              "\n",
              "  <div id=\"df-909987f6-88e0-40ca-99fc-d33a5a261bfa\" class=\"colab-df-container\">\n",
              "    <div>\n",
              "<style scoped>\n",
              "    .dataframe tbody tr th:only-of-type {\n",
              "        vertical-align: middle;\n",
              "    }\n",
              "\n",
              "    .dataframe tbody tr th {\n",
              "        vertical-align: top;\n",
              "    }\n",
              "\n",
              "    .dataframe thead th {\n",
              "        text-align: right;\n",
              "    }\n",
              "</style>\n",
              "<table border=\"1\" class=\"dataframe\">\n",
              "  <thead>\n",
              "    <tr style=\"text-align: right;\">\n",
              "      <th></th>\n",
              "      <th>Price</th>\n",
              "      <th>Price_per</th>\n",
              "      <th>Description_char</th>\n",
              "      <th>Description_words</th>\n",
              "      <th>Characteristics_char</th>\n",
              "      <th>Characteristics_words</th>\n",
              "      <th>Style_char</th>\n",
              "      <th>Style_words</th>\n",
              "      <th>Total_char</th>\n",
              "      <th>Total_words</th>\n",
              "    </tr>\n",
              "  </thead>\n",
              "  <tbody>\n",
              "    <tr>\n",
              "      <th>0</th>\n",
              "      <td>9.99</td>\n",
              "      <td>bottle</td>\n",
              "      <td>481.0</td>\n",
              "      <td>78.0</td>\n",
              "      <td>33.0</td>\n",
              "      <td>3.0</td>\n",
              "      <td>12.0</td>\n",
              "      <td>3.0</td>\n",
              "      <td>526.0</td>\n",
              "      <td>84.0</td>\n",
              "    </tr>\n",
              "    <tr>\n",
              "      <th>1</th>\n",
              "      <td>15.99</td>\n",
              "      <td>bottle</td>\n",
              "      <td>544.0</td>\n",
              "      <td>94.0</td>\n",
              "      <td>68.0</td>\n",
              "      <td>9.0</td>\n",
              "      <td>13.0</td>\n",
              "      <td>3.0</td>\n",
              "      <td>625.0</td>\n",
              "      <td>106.0</td>\n",
              "    </tr>\n",
              "    <tr>\n",
              "      <th>2</th>\n",
              "      <td>12.49</td>\n",
              "      <td>bottle</td>\n",
              "      <td>664.0</td>\n",
              "      <td>112.0</td>\n",
              "      <td>78.0</td>\n",
              "      <td>10.0</td>\n",
              "      <td>13.0</td>\n",
              "      <td>3.0</td>\n",
              "      <td>755.0</td>\n",
              "      <td>125.0</td>\n",
              "    </tr>\n",
              "    <tr>\n",
              "      <th>3</th>\n",
              "      <td>17.99</td>\n",
              "      <td>bottle</td>\n",
              "      <td>647.0</td>\n",
              "      <td>112.0</td>\n",
              "      <td>29.0</td>\n",
              "      <td>4.0</td>\n",
              "      <td>14.0</td>\n",
              "      <td>3.0</td>\n",
              "      <td>690.0</td>\n",
              "      <td>119.0</td>\n",
              "    </tr>\n",
              "    <tr>\n",
              "      <th>4</th>\n",
              "      <td>15.99</td>\n",
              "      <td>bottle</td>\n",
              "      <td>793.0</td>\n",
              "      <td>128.0</td>\n",
              "      <td>48.0</td>\n",
              "      <td>7.0</td>\n",
              "      <td>15.0</td>\n",
              "      <td>3.0</td>\n",
              "      <td>856.0</td>\n",
              "      <td>138.0</td>\n",
              "    </tr>\n",
              "  </tbody>\n",
              "</table>\n",
              "</div>\n",
              "    <div class=\"colab-df-buttons\">\n",
              "\n",
              "  <div class=\"colab-df-container\">\n",
              "    <button class=\"colab-df-convert\" onclick=\"convertToInteractive('df-909987f6-88e0-40ca-99fc-d33a5a261bfa')\"\n",
              "            title=\"Convert this dataframe to an interactive table.\"\n",
              "            style=\"display:none;\">\n",
              "\n",
              "  <svg xmlns=\"http://www.w3.org/2000/svg\" height=\"24px\" viewBox=\"0 -960 960 960\">\n",
              "    <path d=\"M120-120v-720h720v720H120Zm60-500h600v-160H180v160Zm220 220h160v-160H400v160Zm0 220h160v-160H400v160ZM180-400h160v-160H180v160Zm440 0h160v-160H620v160ZM180-180h160v-160H180v160Zm440 0h160v-160H620v160Z\"/>\n",
              "  </svg>\n",
              "    </button>\n",
              "\n",
              "  <style>\n",
              "    .colab-df-container {\n",
              "      display:flex;\n",
              "      gap: 12px;\n",
              "    }\n",
              "\n",
              "    .colab-df-convert {\n",
              "      background-color: #E8F0FE;\n",
              "      border: none;\n",
              "      border-radius: 50%;\n",
              "      cursor: pointer;\n",
              "      display: none;\n",
              "      fill: #1967D2;\n",
              "      height: 32px;\n",
              "      padding: 0 0 0 0;\n",
              "      width: 32px;\n",
              "    }\n",
              "\n",
              "    .colab-df-convert:hover {\n",
              "      background-color: #E2EBFA;\n",
              "      box-shadow: 0px 1px 2px rgba(60, 64, 67, 0.3), 0px 1px 3px 1px rgba(60, 64, 67, 0.15);\n",
              "      fill: #174EA6;\n",
              "    }\n",
              "\n",
              "    .colab-df-buttons div {\n",
              "      margin-bottom: 4px;\n",
              "    }\n",
              "\n",
              "    [theme=dark] .colab-df-convert {\n",
              "      background-color: #3B4455;\n",
              "      fill: #D2E3FC;\n",
              "    }\n",
              "\n",
              "    [theme=dark] .colab-df-convert:hover {\n",
              "      background-color: #434B5C;\n",
              "      box-shadow: 0px 1px 3px 1px rgba(0, 0, 0, 0.15);\n",
              "      filter: drop-shadow(0px 1px 2px rgba(0, 0, 0, 0.3));\n",
              "      fill: #FFFFFF;\n",
              "    }\n",
              "  </style>\n",
              "\n",
              "    <script>\n",
              "      const buttonEl =\n",
              "        document.querySelector('#df-909987f6-88e0-40ca-99fc-d33a5a261bfa button.colab-df-convert');\n",
              "      buttonEl.style.display =\n",
              "        google.colab.kernel.accessAllowed ? 'block' : 'none';\n",
              "\n",
              "      async function convertToInteractive(key) {\n",
              "        const element = document.querySelector('#df-909987f6-88e0-40ca-99fc-d33a5a261bfa');\n",
              "        const dataTable =\n",
              "          await google.colab.kernel.invokeFunction('convertToInteractive',\n",
              "                                                    [key], {});\n",
              "        if (!dataTable) return;\n",
              "\n",
              "        const docLinkHtml = 'Like what you see? Visit the ' +\n",
              "          '<a target=\"_blank\" href=https://colab.research.google.com/notebooks/data_table.ipynb>data table notebook</a>'\n",
              "          + ' to learn more about interactive tables.';\n",
              "        element.innerHTML = '';\n",
              "        dataTable['output_type'] = 'display_data';\n",
              "        await google.colab.output.renderOutput(dataTable, element);\n",
              "        const docLink = document.createElement('div');\n",
              "        docLink.innerHTML = docLinkHtml;\n",
              "        element.appendChild(docLink);\n",
              "      }\n",
              "    </script>\n",
              "  </div>\n",
              "\n",
              "\n",
              "<div id=\"df-1ebf83f4-c46a-4d54-8fb9-3ecd7a2682af\">\n",
              "  <button class=\"colab-df-quickchart\" onclick=\"quickchart('df-1ebf83f4-c46a-4d54-8fb9-3ecd7a2682af')\"\n",
              "            title=\"Suggest charts\"\n",
              "            style=\"display:none;\">\n",
              "\n",
              "<svg xmlns=\"http://www.w3.org/2000/svg\" height=\"24px\"viewBox=\"0 0 24 24\"\n",
              "     width=\"24px\">\n",
              "    <g>\n",
              "        <path d=\"M19 3H5c-1.1 0-2 .9-2 2v14c0 1.1.9 2 2 2h14c1.1 0 2-.9 2-2V5c0-1.1-.9-2-2-2zM9 17H7v-7h2v7zm4 0h-2V7h2v10zm4 0h-2v-4h2v4z\"/>\n",
              "    </g>\n",
              "</svg>\n",
              "  </button>\n",
              "\n",
              "<style>\n",
              "  .colab-df-quickchart {\n",
              "      --bg-color: #E8F0FE;\n",
              "      --fill-color: #1967D2;\n",
              "      --hover-bg-color: #E2EBFA;\n",
              "      --hover-fill-color: #174EA6;\n",
              "      --disabled-fill-color: #AAA;\n",
              "      --disabled-bg-color: #DDD;\n",
              "  }\n",
              "\n",
              "  [theme=dark] .colab-df-quickchart {\n",
              "      --bg-color: #3B4455;\n",
              "      --fill-color: #D2E3FC;\n",
              "      --hover-bg-color: #434B5C;\n",
              "      --hover-fill-color: #FFFFFF;\n",
              "      --disabled-bg-color: #3B4455;\n",
              "      --disabled-fill-color: #666;\n",
              "  }\n",
              "\n",
              "  .colab-df-quickchart {\n",
              "    background-color: var(--bg-color);\n",
              "    border: none;\n",
              "    border-radius: 50%;\n",
              "    cursor: pointer;\n",
              "    display: none;\n",
              "    fill: var(--fill-color);\n",
              "    height: 32px;\n",
              "    padding: 0;\n",
              "    width: 32px;\n",
              "  }\n",
              "\n",
              "  .colab-df-quickchart:hover {\n",
              "    background-color: var(--hover-bg-color);\n",
              "    box-shadow: 0 1px 2px rgba(60, 64, 67, 0.3), 0 1px 3px 1px rgba(60, 64, 67, 0.15);\n",
              "    fill: var(--button-hover-fill-color);\n",
              "  }\n",
              "\n",
              "  .colab-df-quickchart-complete:disabled,\n",
              "  .colab-df-quickchart-complete:disabled:hover {\n",
              "    background-color: var(--disabled-bg-color);\n",
              "    fill: var(--disabled-fill-color);\n",
              "    box-shadow: none;\n",
              "  }\n",
              "\n",
              "  .colab-df-spinner {\n",
              "    border: 2px solid var(--fill-color);\n",
              "    border-color: transparent;\n",
              "    border-bottom-color: var(--fill-color);\n",
              "    animation:\n",
              "      spin 1s steps(1) infinite;\n",
              "  }\n",
              "\n",
              "  @keyframes spin {\n",
              "    0% {\n",
              "      border-color: transparent;\n",
              "      border-bottom-color: var(--fill-color);\n",
              "      border-left-color: var(--fill-color);\n",
              "    }\n",
              "    20% {\n",
              "      border-color: transparent;\n",
              "      border-left-color: var(--fill-color);\n",
              "      border-top-color: var(--fill-color);\n",
              "    }\n",
              "    30% {\n",
              "      border-color: transparent;\n",
              "      border-left-color: var(--fill-color);\n",
              "      border-top-color: var(--fill-color);\n",
              "      border-right-color: var(--fill-color);\n",
              "    }\n",
              "    40% {\n",
              "      border-color: transparent;\n",
              "      border-right-color: var(--fill-color);\n",
              "      border-top-color: var(--fill-color);\n",
              "    }\n",
              "    60% {\n",
              "      border-color: transparent;\n",
              "      border-right-color: var(--fill-color);\n",
              "    }\n",
              "    80% {\n",
              "      border-color: transparent;\n",
              "      border-right-color: var(--fill-color);\n",
              "      border-bottom-color: var(--fill-color);\n",
              "    }\n",
              "    90% {\n",
              "      border-color: transparent;\n",
              "      border-bottom-color: var(--fill-color);\n",
              "    }\n",
              "  }\n",
              "</style>\n",
              "\n",
              "  <script>\n",
              "    async function quickchart(key) {\n",
              "      const quickchartButtonEl =\n",
              "        document.querySelector('#' + key + ' button');\n",
              "      quickchartButtonEl.disabled = true;  // To prevent multiple clicks.\n",
              "      quickchartButtonEl.classList.add('colab-df-spinner');\n",
              "      try {\n",
              "        const charts = await google.colab.kernel.invokeFunction(\n",
              "            'suggestCharts', [key], {});\n",
              "      } catch (error) {\n",
              "        console.error('Error during call to suggestCharts:', error);\n",
              "      }\n",
              "      quickchartButtonEl.classList.remove('colab-df-spinner');\n",
              "      quickchartButtonEl.classList.add('colab-df-quickchart-complete');\n",
              "    }\n",
              "    (() => {\n",
              "      let quickchartButtonEl =\n",
              "        document.querySelector('#df-1ebf83f4-c46a-4d54-8fb9-3ecd7a2682af button');\n",
              "      quickchartButtonEl.style.display =\n",
              "        google.colab.kernel.accessAllowed ? 'block' : 'none';\n",
              "    })();\n",
              "  </script>\n",
              "</div>\n",
              "\n",
              "    </div>\n",
              "  </div>\n"
            ]
          },
          "metadata": {},
          "execution_count": 438
        }
      ]
    },
    {
      "cell_type": "markdown",
      "source": [
        "## Clean new dataframe"
      ],
      "metadata": {
        "id": "3QNkAR016xQN"
      }
    },
    {
      "cell_type": "code",
      "source": [
        "#check overarching size of dataframe d\n",
        "d.shape"
      ],
      "metadata": {
        "colab": {
          "base_uri": "https://localhost:8080/"
        },
        "id": "llG5yDpOO5Zl",
        "outputId": "2e86226c-5b89-485c-eaeb-cd5e3cdc9709"
      },
      "execution_count": 439,
      "outputs": [
        {
          "output_type": "execute_result",
          "data": {
            "text/plain": [
              "(1211, 10)"
            ]
          },
          "metadata": {},
          "execution_count": 439
        }
      ]
    },
    {
      "cell_type": "code",
      "source": [
        "#check count of rows with null values in descriptors of concern\n",
        "null_mask = d.isna().any(axis=1)\n",
        "len(d[null_mask])"
      ],
      "metadata": {
        "colab": {
          "base_uri": "https://localhost:8080/"
        },
        "id": "4y6bFdL9D8qN",
        "outputId": "c89d8e9f-5c5b-405a-d3de-c6f692815b38"
      },
      "execution_count": 440,
      "outputs": [
        {
          "output_type": "execute_result",
          "data": {
            "text/plain": [
              "54"
            ]
          },
          "metadata": {},
          "execution_count": 440
        }
      ]
    },
    {
      "cell_type": "code",
      "source": [
        "#drop null values if minimal impact\n",
        "d = d.dropna()\n",
        "\n",
        "#verify no null values\n",
        "null_mask = d.isna().any(axis=1)\n",
        "len(d[null_mask])"
      ],
      "metadata": {
        "colab": {
          "base_uri": "https://localhost:8080/"
        },
        "id": "TVyEGWfoE6ZU",
        "outputId": "47c3a234-bf0f-417f-8ffc-62a6241668c3"
      },
      "execution_count": 441,
      "outputs": [
        {
          "output_type": "execute_result",
          "data": {
            "text/plain": [
              "0"
            ]
          },
          "metadata": {},
          "execution_count": 441
        }
      ]
    },
    {
      "cell_type": "code",
      "source": [
        "#change counts to integer\n",
        "d[d.columns[2:]] = d[d.columns[2:]].astype(int)\n",
        "\n",
        "#verify update\n",
        "d.info()"
      ],
      "metadata": {
        "colab": {
          "base_uri": "https://localhost:8080/"
        },
        "id": "4EaPx0vIU8l3",
        "outputId": "47254ec6-f495-4ab5-b3be-9b11deda9cfa"
      },
      "execution_count": 442,
      "outputs": [
        {
          "output_type": "stream",
          "name": "stdout",
          "text": [
            "<class 'pandas.core.frame.DataFrame'>\n",
            "Int64Index: 1157 entries, 0 to 1289\n",
            "Data columns (total 10 columns):\n",
            " #   Column                 Non-Null Count  Dtype  \n",
            "---  ------                 --------------  -----  \n",
            " 0   Price                  1157 non-null   float64\n",
            " 1   Price_per              1157 non-null   object \n",
            " 2   Description_char       1157 non-null   int64  \n",
            " 3   Description_words      1157 non-null   int64  \n",
            " 4   Characteristics_char   1157 non-null   int64  \n",
            " 5   Characteristics_words  1157 non-null   int64  \n",
            " 6   Style_char             1157 non-null   int64  \n",
            " 7   Style_words            1157 non-null   int64  \n",
            " 8   Total_char             1157 non-null   int64  \n",
            " 9   Total_words            1157 non-null   int64  \n",
            "dtypes: float64(1), int64(8), object(1)\n",
            "memory usage: 99.4+ KB\n"
          ]
        }
      ]
    },
    {
      "cell_type": "code",
      "source": [
        "#check unique values in each column\n",
        "d.apply(pd.Series.nunique)"
      ],
      "metadata": {
        "colab": {
          "base_uri": "https://localhost:8080/"
        },
        "id": "gUwl9g062ohG",
        "outputId": "4ba9a1f1-a76e-45a7-b126-6552a06e4f32"
      },
      "execution_count": 443,
      "outputs": [
        {
          "output_type": "execute_result",
          "data": {
            "text/plain": [
              "Price                    110\n",
              "Price_per                  1\n",
              "Description_char         555\n",
              "Description_words        145\n",
              "Characteristics_char      87\n",
              "Characteristics_words     12\n",
              "Style_char                 8\n",
              "Style_words                2\n",
              "Total_char               562\n",
              "Total_words              149\n",
              "dtype: int64"
            ]
          },
          "metadata": {},
          "execution_count": 443
        }
      ]
    },
    {
      "cell_type": "code",
      "source": [
        "#drop minimally impactful values, verify\n",
        "d = d.drop(['Price_per', 'Style_words'], axis = 1)\n",
        "d.apply(pd.Series.nunique)"
      ],
      "metadata": {
        "colab": {
          "base_uri": "https://localhost:8080/"
        },
        "id": "4pw7sTwUP1JB",
        "outputId": "53ae994f-5ce0-4350-9dda-09a974507735"
      },
      "execution_count": 444,
      "outputs": [
        {
          "output_type": "execute_result",
          "data": {
            "text/plain": [
              "Price                    110\n",
              "Description_char         555\n",
              "Description_words        145\n",
              "Characteristics_char      87\n",
              "Characteristics_words     12\n",
              "Style_char                 8\n",
              "Total_char               562\n",
              "Total_words              149\n",
              "dtype: int64"
            ]
          },
          "metadata": {},
          "execution_count": 444
        }
      ]
    },
    {
      "cell_type": "code",
      "source": [
        "#review numerical data for anomalies\n",
        "for col in list(d.select_dtypes(include=['int', 'float']).columns):\n",
        "  print('Details for',col,\n",
        "        '\\n  Min:',d[col].min(),\n",
        "        '\\n  Max:',d[col].max(),\n",
        "        '\\n  Median:',d[col].median().round(),\n",
        "        '\\n  Mean:',d[col].mean().round(),'\\n'\n",
        "        )"
      ],
      "metadata": {
        "colab": {
          "base_uri": "https://localhost:8080/"
        },
        "id": "vuZIQxEtTKWP",
        "outputId": "f1901546-26d9-4557-e6c1-d73c08b6c6ce"
      },
      "execution_count": 445,
      "outputs": [
        {
          "output_type": "stream",
          "name": "stdout",
          "text": [
            "Details for Price \n",
            "  Min: 4.99 \n",
            "  Max: 430.0 \n",
            "  Median: 17.0 \n",
            "  Mean: 28.0 \n",
            "\n",
            "Details for Description_char \n",
            "  Min: 85 \n",
            "  Max: 1328 \n",
            "  Median: 504.0 \n",
            "  Mean: 521.0 \n",
            "\n",
            "Details for Description_words \n",
            "  Min: 15 \n",
            "  Max: 212 \n",
            "  Median: 84.0 \n",
            "  Mean: 86.0 \n",
            "\n",
            "Details for Characteristics_char \n",
            "  Min: 18 \n",
            "  Max: 117 \n",
            "  Median: 38.0 \n",
            "  Mean: 41.0 \n",
            "\n",
            "Details for Characteristics_words \n",
            "  Min: 3 \n",
            "  Max: 14 \n",
            "  Median: 5.0 \n",
            "  Mean: 6.0 \n",
            "\n",
            "Details for Style_char \n",
            "  Min: 12 \n",
            "  Max: 21 \n",
            "  Median: 14.0 \n",
            "  Mean: 15.0 \n",
            "\n",
            "Details for Total_char \n",
            "  Min: 133 \n",
            "  Max: 1382 \n",
            "  Median: 560.0 \n",
            "  Mean: 577.0 \n",
            "\n",
            "Details for Total_words \n",
            "  Min: 23 \n",
            "  Max: 221 \n",
            "  Median: 93.0 \n",
            "  Mean: 95.0 \n",
            "\n"
          ]
        }
      ]
    },
    {
      "cell_type": "code",
      "source": [
        "#display boxplot for Price\n",
        "plt.figure(figsize=(10,1))\n",
        "sns.boxplot(x=d['Price'], color='darkorange')"
      ],
      "metadata": {
        "colab": {
          "base_uri": "https://localhost:8080/",
          "height": 183
        },
        "id": "okvh8lZ2Rlc4",
        "outputId": "2880411c-cb02-40f9-bfe4-cc56cf4cc25b"
      },
      "execution_count": 446,
      "outputs": [
        {
          "output_type": "execute_result",
          "data": {
            "text/plain": [
              "<Axes: xlabel='Price'>"
            ]
          },
          "metadata": {},
          "execution_count": 446
        },
        {
          "output_type": "display_data",
          "data": {
            "text/plain": [
              "<Figure size 1000x100 with 1 Axes>"
            ],
            "image/png": "[encoded data removed]"
          },
          "metadata": {}
        }
      ]
    },
    {
      "cell_type": "code",
      "source": [
        "#Top values for Price to determine minimal impact cutoff\n",
        "top = d.query('Price > 75')\n",
        "print('Min Outlier Values:',top['Price'].min(),\n",
        "      '\\nMax Outlier Values:',top['Price'].max(),\n",
        "      '\\nCount of values:',len(top.index))"
      ],
      "metadata": {
        "colab": {
          "base_uri": "https://localhost:8080/"
        },
        "id": "AGxoMk9KW40E",
        "outputId": "9e792785-7ba9-4f70-eb85-56abb3d847f0"
      },
      "execution_count": 447,
      "outputs": [
        {
          "output_type": "stream",
          "name": "stdout",
          "text": [
            "Min Outlier Values: 75.99 \n",
            "Max Outlier Values: 430.0 \n",
            "Count of values: 50\n"
          ]
        }
      ]
    },
    {
      "cell_type": "code",
      "source": [
        "#After determining minimal impact cutof, remove outliers\n",
        "d = d.query('Price < 75')\n",
        "\n",
        "#display updated boxplot\n",
        "plt.figure(figsize=(10,1))\n",
        "sns.boxplot(x=d['Price'], color='darkorange')"
      ],
      "metadata": {
        "colab": {
          "base_uri": "https://localhost:8080/",
          "height": 183
        },
        "id": "mU69uYZQXTdB",
        "outputId": "e29631b9-84ff-4a4a-8657-c1d5ed067234"
      },
      "execution_count": 448,
      "outputs": [
        {
          "output_type": "execute_result",
          "data": {
            "text/plain": [
              "<Axes: xlabel='Price'>"
            ]
          },
          "metadata": {},
          "execution_count": 448
        },
        {
          "output_type": "display_data",
          "data": {
            "text/plain": [
              "<Figure size 1000x100 with 1 Axes>"
            ],
            "image/png": "[encoded data removed]"
          },
          "metadata": {}
        }
      ]
    },
    {
      "cell_type": "markdown",
      "source": [
        "## Data Analysis"
      ],
      "metadata": {
        "id": "E09hHjZJY0R6"
      }
    },
    {
      "cell_type": "code",
      "source": [
        "#review correlation between target and features\n",
        "d.corr()['Price'].sort_values().round(2)"
      ],
      "metadata": {
        "colab": {
          "base_uri": "https://localhost:8080/"
        },
        "id": "WendLUz_Y2Nx",
        "outputId": "7302b4e4-dd59-4721-bb91-b4346cd640bf"
      },
      "execution_count": 449,
      "outputs": [
        {
          "output_type": "execute_result",
          "data": {
            "text/plain": [
              "Description_words       -0.09\n",
              "Description_char        -0.08\n",
              "Total_words             -0.07\n",
              "Total_char              -0.06\n",
              "Style_char               0.11\n",
              "Characteristics_words    0.14\n",
              "Characteristics_char     0.15\n",
              "Price                    1.00\n",
              "Name: Price, dtype: float64"
            ]
          },
          "metadata": {},
          "execution_count": 449
        }
      ]
    },
    {
      "cell_type": "code",
      "source": [
        "#FIX THIS!!!! BROKEN\n",
        "#set target and predictors to continue feature selection\n",
        "columns = list(d.columns)\n",
        "pred_vars = list(d.columns[1:])\n",
        "\n",
        "y = d['Price']\n",
        "X = d[pred_vars]\n",
        "\n",
        "#manual feature selection\n",
        "vif = pd.DataFrame()\n",
        "vif['Predictor'] = X.columns\n",
        "vif['VIF'] = [variance_inflation_factor(X.values, i)\n",
        "  for i in range(X.shape[1])]"
      ],
      "metadata": {
        "colab": {
          "base_uri": "https://localhost:8080/"
        },
        "id": "7lB7mUcOZXux",
        "outputId": "923b11cf-e4df-4238-971f-b8cf5ac8dc68"
      },
      "execution_count": 453,
      "outputs": [
        {
          "output_type": "stream",
          "name": "stderr",
          "text": [
            "/usr/local/lib/python3.10/dist-packages/statsmodels/stats/outliers_influence.py:198: RuntimeWarning: divide by zero encountered in double_scalars\n",
            "  vif = 1. / (1. - r_squared_i)\n"
          ]
        }
      ]
    },
    {
      "cell_type": "code",
      "source": [
        "\n",
        "\n",
        "\n",
        "cr = d.corr()['Price'].round(3)\n",
        "vif['Relevance'] = [cr[i]\n",
        "  for i in range(X.shape[1])]\n",
        "vif"
      ],
      "metadata": {
        "id": "Tfh_ObRjc6rX"
      },
      "execution_count": null,
      "outputs": []
    },
    {
      "cell_type": "code",
      "source": [
        "#check for intercorrelation between features\n",
        "sns.set(rc={\"figure.figsize\":(7, 5)})\n",
        "sns.heatmap(d.corr().round(2), linewidths=2.0,\n",
        "            annot=True, annot_kws={\"size\": 10},\n",
        "            cmap=sns.dark_palette(\"darkorange\")\n",
        "            )"
      ],
      "metadata": {
        "id": "-Q6xyZJ7Zg_Y"
      },
      "execution_count": null,
      "outputs": []
    },
    {
      "cell_type": "code",
      "source": [
        "d.columns[1:]"
      ],
      "metadata": {
        "colab": {
          "base_uri": "https://localhost:8080/"
        },
        "id": "q4dXDYcSaHJc",
        "outputId": "2280eb7a-76d5-4f72-d88b-5bd1032df661"
      },
      "execution_count": 399,
      "outputs": [
        {
          "output_type": "execute_result",
          "data": {
            "text/plain": [
              "Index(['Description_char', 'Description_words', 'Characteristics_char',\n",
              "       'Characteristics_words', 'Style_char', 'Total_char', 'Total_words'],\n",
              "      dtype='object')"
            ]
          },
          "metadata": {},
          "execution_count": 399
        }
      ]
    }
  ]
}