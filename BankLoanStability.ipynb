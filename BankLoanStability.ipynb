{
  "nbformat": 4,
  "nbformat_minor": 0,
  "metadata": {
    "colab": {
      "provenance": [],
      "authorship_tag": "ABX9TyNNTLqhrz4IvAYF7oBe+535"
    },
    "kernelspec": {
      "name": "python3",
      "display_name": "Python 3"
    },
    "language_info": {
      "name": "python"
    }
  },
  "cells": [
    {
      "cell_type": "markdown",
      "source": [
        "# Bank Loan Stability\n",
        "**Author**: Ashley Nilson\n",
        "\n",
        "**Overview**: This analysis reviews a [bank loan status dataset](https://www.kaggle.com/datasets/zaurbegiev/my-dataset) obtained from [Kaggle](https://www.kaggle.com). The original dataset contains 100,000 samples of individual loans which have either been charged off or paid in full, with various details on the customer and loan itself.\n",
        "\n",
        "The goal of this analysis is to identify correlations between loans that are charged off versus those that are not. Using the results of this review, we can adapt our approval methods for new loans to reduce the likihood of charge offs for new loans. With that goal in mind, we will conduct a k-cluster, linear regression, and logistic regression analysis.\n",
        "\n",
        "As we conduct this analysis, the focus will be on recall (sensitivity) false negatives are more impactful to our business functions than false positives since the entire goal of this analysis is to ensure we do not give loans to individual who are likely to have it charged off.\n",
        "\n",
        "The variables used for the analysis portion of this dataset are:\n",
        "\n",
        "*  Charged_Off: binary variable\n",
        " * Indicates if the loan was charged off (1) or paid in full (0)\n",
        "*  Loan_Amount: continuous variable\n",
        " * Total amount loaned to the customer\n",
        "*  Credit_Score: continuous variable\n",
        " * Customer's credit score\n",
        "*  Annual_Income: continuous variable\n",
        " * Customer's gross pay per year.\n",
        "*  Employment_Years: continuous variable\n",
        " * Total years of employment with current employer\n",
        "*  Monthly_Debt: continuous variable\n",
        " * How much debt the customer has to pay off per month\n",
        "*  Credit_History_Years: continuous variable\n",
        " * Count of the number of years int he customer's credit history\n",
        "*  Months_Last_Delinquent: continuous variable\n",
        " * Count of the number of months since the customer was last delinquent\n",
        "*  Total_Open_Accts: continuous variable\n",
        " * Count of the open accounts the customer has\n",
        "*  Credit_Problems: continuous variable\n",
        " * Count of the customer's credit problems.\n",
        "*  Credit_Balance: continuous variable\n",
        " * Total credit in use for the customer\n",
        "*  Max_Credit: continuous variable\n",
        " * Total credit available to a customer.\n",
        "*  Bankruptcies: continuous variable\n",
        " * Count of a customer's bankruptcies. Note: after removing outliers, this appears as a binary variable since most customers have 1 or 0 bankruptcies.  \n",
        "*  Num_Loans: continuous variable\n",
        " * Total count of the number of loans for an individual customer included in this dataset.\n",
        "*  Term_Short: binary variable\n",
        " * Indicates if the loan is a short-term (1) or long-term (0) loan.\n",
        "* Home: binary variables generated from categorical column\n",
        " * The options are: Home_Own, Home_Rent, or Home_Mortgage. These are used to indicate the customer's housing situation.\n",
        "* Purpose: variables values generated from categorical column\n",
        " * The options are: Purpose_Business, Purpose_Debt, Purpose_Educational_Expenses, Purpose_HomeImprovement, Purpose_MajorPurchase, Purpose_Other, or Purpose_Recreation. These are used to indicate the purpose for the customer's loan.\n",
        "\n",
        "\n",
        "**Analysis Results Summary**: None of the machine learning models used in this analysis generated a predictive model that performed better than the null hypothesis. This is not to say that creating a model from this dataset is not possible. Rather, it is simply that the methods used to clean and organize the data thus far do not assist the model. As next steps, we would recommend delving deeper into calculations that can be made from the available data (for example, using Monthly_Debt and Annual_Income to create a debt-to-income ratio).\n",
        "\n",
        "As a note: the model would also be improved by normalizing the training and testing data separately, rather than in bulk as we have in this notebook."
      ],
      "metadata": {
        "id": "G3-xcjK04f80"
      }
    },
    {
      "cell_type": "markdown",
      "source": [
        "## Preliminaries\n",
        "\n",
        "To set up the notebook we must install needed packages, set common variables, and establish the working directory. As general best practices, we will also include the date/time for the most recent analysis in GMT."
      ],
      "metadata": {
        "id": "21sDYrhVdZ2E"
      }
    },
    {
      "cell_type": "code",
      "source": [
        "#install packages\n",
        "import pandas as pd\n",
        "import numpy as np\n",
        "import seaborn as sns\n",
        "import matplotlib.pyplot as plt\n",
        "import datetime as dt\n",
        "import re\n",
        "from datetime import datetime\n",
        "from sklearn import metrics, preprocessing\n",
        "from sklearn.preprocessing import MinMaxScaler\n",
        "from sklearn.cluster import KMeans\n",
        "from sklearn.metrics import pairwise_distances, silhouette_samples, silhouette_score, accuracy_score, confusion_matrix, \\\n",
        "      recall_score, precision_score, f1_score\n",
        "from sklearn.linear_model import LinearRegression, LogisticRegression\n",
        "from sklearn.model_selection import train_test_split, KFold, cross_validate\n",
        "from sklearn.feature_selection import RFE\n",
        "\n",
        "#set variable names for processing\n",
        "mm_scaler = preprocessing.MinMaxScaler()\n",
        "\n",
        "#set working directory\n",
        "import os\n",
        "os.getcwd( )\n",
        "\n",
        "#mount Google drive - add all data files to top-level folder \"data\" to access via '/content/drive/MyDrive/data/'\n",
        "from google.colab import drive\n",
        "drive.mount('/content/drive')\n",
        "\n",
        "#date time\n",
        "now = datetime.now()\n",
        "print(\"Analysis on\", now.strftime(\"%Y-%m-%d\"), \"at\", now.strftime(\"%H:%M\"))"
      ],
      "metadata": {
        "id": "PLab7lZV4wFU",
        "colab": {
          "base_uri": "https://localhost:8080/"
        },
        "outputId": "fde085e7-c88f-4832-9b9a-7df1f7b3fba7"
      },
      "execution_count": null,
      "outputs": [
        {
          "output_type": "stream",
          "name": "stdout",
          "text": [
            "Drive already mounted at /content/drive; to attempt to forcibly remount, call drive.mount(\"/content/drive\", force_remount=True).\n",
            "Analysis on 2023-08-20 at 23:02\n"
          ]
        }
      ]
    },
    {
      "cell_type": "markdown",
      "source": [
        "## Data wrangling\n",
        "\n",
        "In this section, we'll be importing our dataset and completing some basic modifications to ensure our analysis is not skewed by inaccurate or extreme data representations.\n"
      ],
      "metadata": {
        "id": "q9WJkMxWCdt0"
      }
    },
    {
      "cell_type": "code",
      "source": [
        "#read in data and review\n",
        "d = pd.read_csv('https://raw.githubusercontent.com/ash-nil/loananalysis/main/bank_loan.csv')\n",
        "\n",
        "#set loan as index\n",
        "d = d.set_index('Loan ID')\n",
        "\n",
        "d.shape"
      ],
      "metadata": {
        "colab": {
          "base_uri": "https://localhost:8080/"
        },
        "id": "5lgT3_BUReHt",
        "outputId": "981e24e2-2ba0-47b4-ba9f-7f0a2ad1bb60"
      },
      "execution_count": null,
      "outputs": [
        {
          "output_type": "execute_result",
          "data": {
            "text/plain": [
              "(100000, 18)"
            ]
          },
          "metadata": {},
          "execution_count": 584
        }
      ]
    },
    {
      "cell_type": "code",
      "source": [
        "#replace spaces with underscores in column names\n",
        "d.columns = d.columns.str.replace(' ', '_')\n",
        "\n",
        "#replace spaces with underscores in text values, and review values\n",
        "for col in list(d.select_dtypes(include=['object', 'category']).columns):\n",
        "  d[col] = d[col].str.replace(' ', '_')\n",
        "  print('Unique values from',col,':\\n',d[col].unique(),'\\n')"
      ],
      "metadata": {
        "colab": {
          "base_uri": "https://localhost:8080/"
        },
        "id": "Gkv_ZAb_YDAT",
        "outputId": "9d0a99ca-b5c2-42e9-fd91-68d3136e96d0"
      },
      "execution_count": null,
      "outputs": [
        {
          "output_type": "stream",
          "name": "stdout",
          "text": [
            "Unique values from Customer_ID :\n",
            " ['981165ec-3274-42f5-a3b4-d104041a9ca9'\n",
            " '2de017a3-2e01-49cb-a581-08169e83be29'\n",
            " '5efb2b2b-bf11-4dfd-a572-3761a2694725' ...\n",
            " '2ced5f10-bd60-4a11-9134-cadce4e7b0a3'\n",
            " '3e45ffda-99fd-4cfc-b8b8-446f4a505f36'\n",
            " '1b3014be-5c07-4d41-abe7-44573c375886'] \n",
            "\n",
            "Unique values from Loan_Status :\n",
            " ['Fully_Paid' 'Charged_Off'] \n",
            "\n",
            "Unique values from Term :\n",
            " ['Short_Term' 'Long_Term'] \n",
            "\n",
            "Unique values from Years_in_current_job :\n",
            " ['8_years' '10+_years' '3_years' '5_years' '<_1_year' '2_years' '4_years'\n",
            " '9_years' '7_years' '1_year' nan '6_years'] \n",
            "\n",
            "Unique values from Home_Ownership :\n",
            " ['Home_Mortgage' 'Own_Home' 'Rent' 'HaveMortgage'] \n",
            "\n",
            "Unique values from Purpose :\n",
            " ['Home_Improvements' 'Debt_Consolidation' 'Buy_House' 'other'\n",
            " 'Business_Loan' 'Buy_a_Car' 'major_purchase' 'Take_a_Trip' 'Other'\n",
            " 'small_business' 'Medical_Bills' 'wedding' 'vacation'\n",
            " 'Educational_Expenses' 'moving' 'renewable_energy'] \n",
            "\n"
          ]
        }
      ]
    },
    {
      "cell_type": "code",
      "source": [
        "#update values in columns containing text for uniformity\n",
        "d['Years_in_current_job'] = pd.to_numeric(d['Years_in_current_job'].str.replace(r'\\D', '', regex=True))\n",
        "d['Term'] = d['Term'].str.replace('_Term', '', regex=False)\n",
        "d['Home_Ownership'] = d['Home_Ownership'].str.replace('.*Mortgage', 'Mortgage', regex=True)\n",
        "d['Home_Ownership'] = d['Home_Ownership'].str.replace('Own.*', 'Own', regex=True)\n",
        "d['Purpose'] = d['Purpose'].str.replace('.*(Home|energy).*', 'HomeImprovement', regex=True)\n",
        "d['Purpose'] = d['Purpose'].str.replace('.*(Debt|Bills).*', 'Debt', regex=True)\n",
        "d['Purpose'] = d['Purpose'].str.replace('.*(wedding|Trip|vacation).*', 'Recreation', regex=True)\n",
        "d['Purpose'] = d['Purpose'].str.replace('Educational Expenses', 'Education', regex=False)\n",
        "d['Purpose'] = d['Purpose'].str.replace('(other|moving)', 'Other', regex=True)\n",
        "d['Purpose'] = d['Purpose'].str.replace('.*(B|b)usiness.*', 'Business', regex=True)\n",
        "d['Purpose'] = d['Purpose'].str.replace('.*(purchase|Car|House).*', 'MajorPurchase', regex=True)\n",
        "\n",
        "for col in list(d.select_dtypes(include=['object', 'category']).columns):\n",
        "  print('Unique values from',col,':\\n',d[col].unique(),'\\n')"
      ],
      "metadata": {
        "colab": {
          "base_uri": "https://localhost:8080/"
        },
        "id": "mdOaW_d59fTi",
        "outputId": "9e8fe5d7-559f-4a64-af05-aaca3841349c"
      },
      "execution_count": null,
      "outputs": [
        {
          "output_type": "stream",
          "name": "stdout",
          "text": [
            "Unique values from Customer_ID :\n",
            " ['981165ec-3274-42f5-a3b4-d104041a9ca9'\n",
            " '2de017a3-2e01-49cb-a581-08169e83be29'\n",
            " '5efb2b2b-bf11-4dfd-a572-3761a2694725' ...\n",
            " '2ced5f10-bd60-4a11-9134-cadce4e7b0a3'\n",
            " '3e45ffda-99fd-4cfc-b8b8-446f4a505f36'\n",
            " '1b3014be-5c07-4d41-abe7-44573c375886'] \n",
            "\n",
            "Unique values from Loan_Status :\n",
            " ['Fully_Paid' 'Charged_Off'] \n",
            "\n",
            "Unique values from Term :\n",
            " ['Short' 'Long'] \n",
            "\n",
            "Unique values from Home_Ownership :\n",
            " ['Mortgage' 'Own' 'Rent'] \n",
            "\n",
            "Unique values from Purpose :\n",
            " ['HomeImprovement' 'Debt' 'MajorPurchase' 'Other' 'Business' 'Recreation'\n",
            " 'Educational_Expenses'] \n",
            "\n"
          ]
        }
      ]
    },
    {
      "cell_type": "code",
      "source": [
        "#review numerical data for anomalies\n",
        "for col in list(d.select_dtypes(include=['int', 'float']).columns):\n",
        "  print('Details for',col,\n",
        "        '\\n  Min:',d[col].min(),\n",
        "        '\\n  Max:',d[col].max(),\n",
        "        '\\n  Median:',d[col].median().round(),\n",
        "        '\\n  Mean:',d[col].mean().round(),'\\n'\n",
        "        )"
      ],
      "metadata": {
        "colab": {
          "base_uri": "https://localhost:8080/"
        },
        "id": "aunDsVf79nhz",
        "outputId": "04965ae9-0027-4052-e10c-e551d55f89c3"
      },
      "execution_count": null,
      "outputs": [
        {
          "output_type": "stream",
          "name": "stdout",
          "text": [
            "Details for Current_Loan_Amount \n",
            "  Min: 10802 \n",
            "  Max: 99999999 \n",
            "  Median: 312246.0 \n",
            "  Mean: 11760447.0 \n",
            "\n",
            "Details for Credit_Score \n",
            "  Min: 585.0 \n",
            "  Max: 7510.0 \n",
            "  Median: 724.0 \n",
            "  Mean: 1076.0 \n",
            "\n",
            "Details for Annual_Income \n",
            "  Min: 76627.0 \n",
            "  Max: 165557393.0 \n",
            "  Median: 1174162.0 \n",
            "  Mean: 1378277.0 \n",
            "\n",
            "Details for Years_in_current_job \n",
            "  Min: 1.0 \n",
            "  Max: 10.0 \n",
            "  Median: 6.0 \n",
            "  Mean: 6.0 \n",
            "\n",
            "Details for Monthly_Debt \n",
            "  Min: 0.0 \n",
            "  Max: 435843.28 \n",
            "  Median: 16220.0 \n",
            "  Mean: 18472.0 \n",
            "\n",
            "Details for Years_of_Credit_History \n",
            "  Min: 3.6 \n",
            "  Max: 70.5 \n",
            "  Median: 17.0 \n",
            "  Mean: 18.0 \n",
            "\n",
            "Details for Months_since_last_delinquent \n",
            "  Min: 0.0 \n",
            "  Max: 176.0 \n",
            "  Median: 32.0 \n",
            "  Mean: 35.0 \n",
            "\n",
            "Details for Number_of_Open_Accounts \n",
            "  Min: 0 \n",
            "  Max: 76 \n",
            "  Median: 10.0 \n",
            "  Mean: 11.0 \n",
            "\n",
            "Details for Number_of_Credit_Problems \n",
            "  Min: 0 \n",
            "  Max: 15 \n",
            "  Median: 0.0 \n",
            "  Mean: 0.0 \n",
            "\n",
            "Details for Current_Credit_Balance \n",
            "  Min: 0 \n",
            "  Max: 32878968 \n",
            "  Median: 209817.0 \n",
            "  Mean: 294637.0 \n",
            "\n",
            "Details for Maximum_Open_Credit \n",
            "  Min: 0.0 \n",
            "  Max: 1539737892.0 \n",
            "  Median: 467874.0 \n",
            "  Mean: 760798.0 \n",
            "\n",
            "Details for Bankruptcies \n",
            "  Min: 0.0 \n",
            "  Max: 7.0 \n",
            "  Median: 0.0 \n",
            "  Mean: 0.0 \n",
            "\n",
            "Details for Tax_Liens \n",
            "  Min: 0.0 \n",
            "  Max: 15.0 \n",
            "  Median: 0.0 \n",
            "  Mean: 0.0 \n",
            "\n"
          ]
        }
      ]
    },
    {
      "cell_type": "code",
      "source": [
        "#Amount: top value ranges\n",
        "top = d.query('Current_Loan_Amount > 800000')\n",
        "print('Min Outlier Values:',top['Current_Loan_Amount'].min(),\n",
        "      '\\nMax Outlier Values:',top['Current_Loan_Amount'].max(),\n",
        "      '\\nCount of values:',len(top.index))"
      ],
      "metadata": {
        "colab": {
          "base_uri": "https://localhost:8080/"
        },
        "id": "LtDK4Q959oBr",
        "outputId": "827c057b-c661-44da-876b-71c844cc0ba0"
      },
      "execution_count": null,
      "outputs": [
        {
          "output_type": "stream",
          "name": "stdout",
          "text": [
            "Min Outlier Values: 99999999 \n",
            "Max Outlier Values: 99999999 \n",
            "Count of values: 11484\n"
          ]
        }
      ]
    },
    {
      "cell_type": "code",
      "source": [
        "#check the next highest values, as we wouldn't want to remove 10k+ samples\n",
        "check = d.query('Current_Loan_Amount < 800000')\n",
        "check['Current_Loan_Amount'].nlargest(2)"
      ],
      "metadata": {
        "colab": {
          "base_uri": "https://localhost:8080/"
        },
        "id": "WxYqHPYfSD8N",
        "outputId": "4ff60072-d9b7-4fee-d194-a0717759cffe"
      },
      "execution_count": null,
      "outputs": [
        {
          "output_type": "execute_result",
          "data": {
            "text/plain": [
              "Loan ID\n",
              "4fed402f-4298-4f5c-8d30-05b1f1819c00    789250\n",
              "b7923e12-395b-49d6-97ee-ca0ed25b65c2    789250\n",
              "Name: Current_Loan_Amount, dtype: int64"
            ]
          },
          "metadata": {},
          "execution_count": 589
        }
      ]
    },
    {
      "cell_type": "code",
      "source": [
        "#Replace highest values with 1mil to bring them closer to the standard range\n",
        "d['Current_Loan_Amount'] = d['Current_Loan_Amount'].replace(99999999, 1000000)\n",
        "\n",
        "#verify\n",
        "d['Current_Loan_Amount'].max()"
      ],
      "metadata": {
        "id": "LVDHYOA99yUx",
        "colab": {
          "base_uri": "https://localhost:8080/"
        },
        "outputId": "026e79d9-7832-4af0-8950-ac8cd5cea089"
      },
      "execution_count": null,
      "outputs": [
        {
          "output_type": "execute_result",
          "data": {
            "text/plain": [
              "1000000"
            ]
          },
          "metadata": {},
          "execution_count": 590
        }
      ]
    },
    {
      "cell_type": "code",
      "source": [
        "#Credit scores: review anything outside standard values\n",
        "d.query('Credit_Score > 800')"
      ],
      "metadata": {
        "colab": {
          "base_uri": "https://localhost:8080/",
          "height": 996
        },
        "id": "7nz__0rH9yLv",
        "outputId": "4787eee4-690d-46c3-8b56-fb5d4301a99d"
      },
      "execution_count": null,
      "outputs": [
        {
          "output_type": "execute_result",
          "data": {
            "text/plain": [
              "                                                               Customer_ID  \\\n",
              "Loan ID                                                                      \n",
              "89d8cb0c-e5c2-4f54-b056-48a645c543dd  4ffe99d3-7f2a-44db-afc1-40943f1f9750   \n",
              "0c84b81a-e5a9-4a92-8dc8-fb179add03a4  628b0914-b1d7-4028-b590-b50f5da53d06   \n",
              "0daecc08-0354-4753-b282-52124b2420df  2884d362-391a-4941-af69-c825cae18002   \n",
              "a5ada080-a058-4ad2-8953-002b7ec1ae31  9966e08c-04a6-41ab-86d0-e4062c64bd41   \n",
              "1704367e-1d71-4551-8d33-49aa15cab4b1  88f97adf-070a-47b1-9657-38276eef7d19   \n",
              "...                                                                    ...   \n",
              "5eee6c31-62d4-400c-a81f-37bd373db926  039ee8d2-3321-4683-9592-cb1a360c34e2   \n",
              "ce1f8220-7eba-4ec1-8bef-ca28f4916801  3e108ac9-9b7c-44a9-9289-e389cf3085b1   \n",
              "096471bd-820e-4d0e-88a7-d699a59ab87a  4cfda7f6-790e-4493-a9b1-4d35a8b63af9   \n",
              "36da0533-8664-4156-8e96-f0d07966acdb  070e3aa9-d077-404c-8946-59ce976e0b70   \n",
              "0ee71c4c-10ca-4849-b437-314317022f62  05979eaa-82f7-4909-8cbb-548bd44d1b02   \n",
              "\n",
              "                                      Loan_Status  Current_Loan_Amount   Term  \\\n",
              "Loan ID                                                                         \n",
              "89d8cb0c-e5c2-4f54-b056-48a645c543dd  Charged_Off               206602  Short   \n",
              "0c84b81a-e5a9-4a92-8dc8-fb179add03a4  Charged_Off               288948  Short   \n",
              "0daecc08-0354-4753-b282-52124b2420df  Charged_Off               219692   Long   \n",
              "a5ada080-a058-4ad2-8953-002b7ec1ae31  Charged_Off                78012  Short   \n",
              "1704367e-1d71-4551-8d33-49aa15cab4b1  Charged_Off               523908   Long   \n",
              "...                                           ...                  ...    ...   \n",
              "5eee6c31-62d4-400c-a81f-37bd373db926  Charged_Off               198572  Short   \n",
              "ce1f8220-7eba-4ec1-8bef-ca28f4916801  Charged_Off               110924  Short   \n",
              "096471bd-820e-4d0e-88a7-d699a59ab87a  Charged_Off               175362  Short   \n",
              "36da0533-8664-4156-8e96-f0d07966acdb  Charged_Off                88968  Short   \n",
              "0ee71c4c-10ca-4849-b437-314317022f62  Charged_Off               205458   Long   \n",
              "\n",
              "                                      Credit_Score  Annual_Income  \\\n",
              "Loan ID                                                             \n",
              "89d8cb0c-e5c2-4f54-b056-48a645c543dd        7290.0       896857.0   \n",
              "0c84b81a-e5a9-4a92-8dc8-fb179add03a4        7120.0       537472.0   \n",
              "0daecc08-0354-4753-b282-52124b2420df        6610.0       527839.0   \n",
              "a5ada080-a058-4ad2-8953-002b7ec1ae31        7380.0       728726.0   \n",
              "1704367e-1d71-4551-8d33-49aa15cab4b1        7370.0      1028774.0   \n",
              "...                                            ...            ...   \n",
              "5eee6c31-62d4-400c-a81f-37bd373db926        7420.0       526205.0   \n",
              "ce1f8220-7eba-4ec1-8bef-ca28f4916801        7070.0       804631.0   \n",
              "096471bd-820e-4d0e-88a7-d699a59ab87a        6880.0      1060162.0   \n",
              "36da0533-8664-4156-8e96-f0d07966acdb        6790.0       441845.0   \n",
              "0ee71c4c-10ca-4849-b437-314317022f62        6940.0      1681101.0   \n",
              "\n",
              "                                      Years_in_current_job Home_Ownership  \\\n",
              "Loan ID                                                                     \n",
              "89d8cb0c-e5c2-4f54-b056-48a645c543dd                  10.0       Mortgage   \n",
              "0c84b81a-e5a9-4a92-8dc8-fb179add03a4                  10.0           Rent   \n",
              "0daecc08-0354-4753-b282-52124b2420df                  10.0           Rent   \n",
              "a5ada080-a058-4ad2-8953-002b7ec1ae31                   4.0           Rent   \n",
              "1704367e-1d71-4551-8d33-49aa15cab4b1                   6.0       Mortgage   \n",
              "...                                                    ...            ...   \n",
              "5eee6c31-62d4-400c-a81f-37bd373db926                   2.0           Rent   \n",
              "ce1f8220-7eba-4ec1-8bef-ca28f4916801                   4.0           Rent   \n",
              "096471bd-820e-4d0e-88a7-d699a59ab87a                   9.0           Rent   \n",
              "36da0533-8664-4156-8e96-f0d07966acdb                   1.0           Rent   \n",
              "0ee71c4c-10ca-4849-b437-314317022f62                   6.0           Rent   \n",
              "\n",
              "                                            Purpose  Monthly_Debt  \\\n",
              "Loan ID                                                             \n",
              "89d8cb0c-e5c2-4f54-b056-48a645c543dd           Debt      16367.74   \n",
              "0c84b81a-e5a9-4a92-8dc8-fb179add03a4           Debt       5777.90   \n",
              "0daecc08-0354-4753-b282-52124b2420df           Debt      14207.63   \n",
              "a5ada080-a058-4ad2-8953-002b7ec1ae31  MajorPurchase      10135.36   \n",
              "1704367e-1d71-4551-8d33-49aa15cab4b1           Debt      22632.99   \n",
              "...                                             ...           ...   \n",
              "5eee6c31-62d4-400c-a81f-37bd373db926           Debt       9910.02   \n",
              "ce1f8220-7eba-4ec1-8bef-ca28f4916801           Debt      11533.00   \n",
              "096471bd-820e-4d0e-88a7-d699a59ab87a           Debt      16079.13   \n",
              "36da0533-8664-4156-8e96-f0d07966acdb          Other       5375.86   \n",
              "0ee71c4c-10ca-4849-b437-314317022f62       Business      14877.76   \n",
              "\n",
              "                                      Years_of_Credit_History  \\\n",
              "Loan ID                                                         \n",
              "89d8cb0c-e5c2-4f54-b056-48a645c543dd                     17.3   \n",
              "0c84b81a-e5a9-4a92-8dc8-fb179add03a4                     14.8   \n",
              "0daecc08-0354-4753-b282-52124b2420df                     17.0   \n",
              "a5ada080-a058-4ad2-8953-002b7ec1ae31                     11.4   \n",
              "1704367e-1d71-4551-8d33-49aa15cab4b1                     19.3   \n",
              "...                                                       ...   \n",
              "5eee6c31-62d4-400c-a81f-37bd373db926                     16.5   \n",
              "ce1f8220-7eba-4ec1-8bef-ca28f4916801                     13.3   \n",
              "096471bd-820e-4d0e-88a7-d699a59ab87a                     17.3   \n",
              "36da0533-8664-4156-8e96-f0d07966acdb                      8.5   \n",
              "0ee71c4c-10ca-4849-b437-314317022f62                     10.5   \n",
              "\n",
              "                                      Months_since_last_delinquent  \\\n",
              "Loan ID                                                              \n",
              "89d8cb0c-e5c2-4f54-b056-48a645c543dd                           NaN   \n",
              "0c84b81a-e5a9-4a92-8dc8-fb179add03a4                           NaN   \n",
              "0daecc08-0354-4753-b282-52124b2420df                          48.0   \n",
              "a5ada080-a058-4ad2-8953-002b7ec1ae31                           NaN   \n",
              "1704367e-1d71-4551-8d33-49aa15cab4b1                           NaN   \n",
              "...                                                            ...   \n",
              "5eee6c31-62d4-400c-a81f-37bd373db926                           NaN   \n",
              "ce1f8220-7eba-4ec1-8bef-ca28f4916801                          61.0   \n",
              "096471bd-820e-4d0e-88a7-d699a59ab87a                           NaN   \n",
              "36da0533-8664-4156-8e96-f0d07966acdb                           NaN   \n",
              "0ee71c4c-10ca-4849-b437-314317022f62                           NaN   \n",
              "\n",
              "                                      Number_of_Open_Accounts  \\\n",
              "Loan ID                                                         \n",
              "89d8cb0c-e5c2-4f54-b056-48a645c543dd                        6   \n",
              "0c84b81a-e5a9-4a92-8dc8-fb179add03a4                        4   \n",
              "0daecc08-0354-4753-b282-52124b2420df                        9   \n",
              "a5ada080-a058-4ad2-8953-002b7ec1ae31                        8   \n",
              "1704367e-1d71-4551-8d33-49aa15cab4b1                        5   \n",
              "...                                                       ...   \n",
              "5eee6c31-62d4-400c-a81f-37bd373db926                        8   \n",
              "ce1f8220-7eba-4ec1-8bef-ca28f4916801                        9   \n",
              "096471bd-820e-4d0e-88a7-d699a59ab87a                       13   \n",
              "36da0533-8664-4156-8e96-f0d07966acdb                       10   \n",
              "0ee71c4c-10ca-4849-b437-314317022f62                        8   \n",
              "\n",
              "                                      Number_of_Credit_Problems  \\\n",
              "Loan ID                                                           \n",
              "89d8cb0c-e5c2-4f54-b056-48a645c543dd                          0   \n",
              "0c84b81a-e5a9-4a92-8dc8-fb179add03a4                          0   \n",
              "0daecc08-0354-4753-b282-52124b2420df                          0   \n",
              "a5ada080-a058-4ad2-8953-002b7ec1ae31                          0   \n",
              "1704367e-1d71-4551-8d33-49aa15cab4b1                          0   \n",
              "...                                                         ...   \n",
              "5eee6c31-62d4-400c-a81f-37bd373db926                          0   \n",
              "ce1f8220-7eba-4ec1-8bef-ca28f4916801                          0   \n",
              "096471bd-820e-4d0e-88a7-d699a59ab87a                          0   \n",
              "36da0533-8664-4156-8e96-f0d07966acdb                          0   \n",
              "0ee71c4c-10ca-4849-b437-314317022f62                          0   \n",
              "\n",
              "                                      Current_Credit_Balance  \\\n",
              "Loan ID                                                        \n",
              "89d8cb0c-e5c2-4f54-b056-48a645c543dd                  215308   \n",
              "0c84b81a-e5a9-4a92-8dc8-fb179add03a4                  132468   \n",
              "0daecc08-0354-4753-b282-52124b2420df                  254277   \n",
              "a5ada080-a058-4ad2-8953-002b7ec1ae31                  104633   \n",
              "1704367e-1d71-4551-8d33-49aa15cab4b1                  474658   \n",
              "...                                                      ...   \n",
              "5eee6c31-62d4-400c-a81f-37bd373db926                  296704   \n",
              "ce1f8220-7eba-4ec1-8bef-ca28f4916801                   60154   \n",
              "096471bd-820e-4d0e-88a7-d699a59ab87a                  277153   \n",
              "36da0533-8664-4156-8e96-f0d07966acdb                  193306   \n",
              "0ee71c4c-10ca-4849-b437-314317022f62                  259844   \n",
              "\n",
              "                                      Maximum_Open_Credit  Bankruptcies  \\\n",
              "Loan ID                                                                   \n",
              "89d8cb0c-e5c2-4f54-b056-48a645c543dd             272448.0           0.0   \n",
              "0c84b81a-e5a9-4a92-8dc8-fb179add03a4             164406.0           0.0   \n",
              "0daecc08-0354-4753-b282-52124b2420df             379918.0           0.0   \n",
              "a5ada080-a058-4ad2-8953-002b7ec1ae31             199936.0           0.0   \n",
              "1704367e-1d71-4551-8d33-49aa15cab4b1             742720.0           0.0   \n",
              "...                                                   ...           ...   \n",
              "5eee6c31-62d4-400c-a81f-37bd373db926             433224.0           0.0   \n",
              "ce1f8220-7eba-4ec1-8bef-ca28f4916801              96470.0           0.0   \n",
              "096471bd-820e-4d0e-88a7-d699a59ab87a             333234.0           0.0   \n",
              "36da0533-8664-4156-8e96-f0d07966acdb             535458.0           0.0   \n",
              "0ee71c4c-10ca-4849-b437-314317022f62             527846.0           0.0   \n",
              "\n",
              "                                      Tax_Liens  \n",
              "Loan ID                                          \n",
              "89d8cb0c-e5c2-4f54-b056-48a645c543dd        0.0  \n",
              "0c84b81a-e5a9-4a92-8dc8-fb179add03a4        0.0  \n",
              "0daecc08-0354-4753-b282-52124b2420df        0.0  \n",
              "a5ada080-a058-4ad2-8953-002b7ec1ae31        0.0  \n",
              "1704367e-1d71-4551-8d33-49aa15cab4b1        0.0  \n",
              "...                                         ...  \n",
              "5eee6c31-62d4-400c-a81f-37bd373db926        0.0  \n",
              "ce1f8220-7eba-4ec1-8bef-ca28f4916801        0.0  \n",
              "096471bd-820e-4d0e-88a7-d699a59ab87a        0.0  \n",
              "36da0533-8664-4156-8e96-f0d07966acdb        0.0  \n",
              "0ee71c4c-10ca-4849-b437-314317022f62        0.0  \n",
              "\n",
              "[4551 rows x 18 columns]"
            ],
            "text/html": [
              "\n",
              "  <div id=\"df-9f9ce34a-48b6-45f1-a929-6d9d0f24b93d\" class=\"colab-df-container\">\n",
              "    <div>\n",
              "<style scoped>\n",
              "    .dataframe tbody tr th:only-of-type {\n",
              "        vertical-align: middle;\n",
              "    }\n",
              "\n",
              "    .dataframe tbody tr th {\n",
              "        vertical-align: top;\n",
              "    }\n",
              "\n",
              "    .dataframe thead th {\n",
              "        text-align: right;\n",
              "    }\n",
              "</style>\n",
              "<table border=\"1\" class=\"dataframe\">\n",
              "  <thead>\n",
              "    <tr style=\"text-align: right;\">\n",
              "      <th></th>\n",
              "      <th>Customer_ID</th>\n",
              "      <th>Loan_Status</th>\n",
              "      <th>Current_Loan_Amount</th>\n",
              "      <th>Term</th>\n",
              "      <th>Credit_Score</th>\n",
              "      <th>Annual_Income</th>\n",
              "      <th>Years_in_current_job</th>\n",
              "      <th>Home_Ownership</th>\n",
              "      <th>Purpose</th>\n",
              "      <th>Monthly_Debt</th>\n",
              "      <th>Years_of_Credit_History</th>\n",
              "      <th>Months_since_last_delinquent</th>\n",
              "      <th>Number_of_Open_Accounts</th>\n",
              "      <th>Number_of_Credit_Problems</th>\n",
              "      <th>Current_Credit_Balance</th>\n",
              "      <th>Maximum_Open_Credit</th>\n",
              "      <th>Bankruptcies</th>\n",
              "      <th>Tax_Liens</th>\n",
              "    </tr>\n",
              "    <tr>\n",
              "      <th>Loan ID</th>\n",
              "      <th></th>\n",
              "      <th></th>\n",
              "      <th></th>\n",
              "      <th></th>\n",
              "      <th></th>\n",
              "      <th></th>\n",
              "      <th></th>\n",
              "      <th></th>\n",
              "      <th></th>\n",
              "      <th></th>\n",
              "      <th></th>\n",
              "      <th></th>\n",
              "      <th></th>\n",
              "      <th></th>\n",
              "      <th></th>\n",
              "      <th></th>\n",
              "      <th></th>\n",
              "      <th></th>\n",
              "    </tr>\n",
              "  </thead>\n",
              "  <tbody>\n",
              "    <tr>\n",
              "      <th>89d8cb0c-e5c2-4f54-b056-48a645c543dd</th>\n",
              "      <td>4ffe99d3-7f2a-44db-afc1-40943f1f9750</td>\n",
              "      <td>Charged_Off</td>\n",
              "      <td>206602</td>\n",
              "      <td>Short</td>\n",
              "      <td>7290.0</td>\n",
              "      <td>896857.0</td>\n",
              "      <td>10.0</td>\n",
              "      <td>Mortgage</td>\n",
              "      <td>Debt</td>\n",
              "      <td>16367.74</td>\n",
              "      <td>17.3</td>\n",
              "      <td>NaN</td>\n",
              "      <td>6</td>\n",
              "      <td>0</td>\n",
              "      <td>215308</td>\n",
              "      <td>272448.0</td>\n",
              "      <td>0.0</td>\n",
              "      <td>0.0</td>\n",
              "    </tr>\n",
              "    <tr>\n",
              "      <th>0c84b81a-e5a9-4a92-8dc8-fb179add03a4</th>\n",
              "      <td>628b0914-b1d7-4028-b590-b50f5da53d06</td>\n",
              "      <td>Charged_Off</td>\n",
              "      <td>288948</td>\n",
              "      <td>Short</td>\n",
              "      <td>7120.0</td>\n",
              "      <td>537472.0</td>\n",
              "      <td>10.0</td>\n",
              "      <td>Rent</td>\n",
              "      <td>Debt</td>\n",
              "      <td>5777.90</td>\n",
              "      <td>14.8</td>\n",
              "      <td>NaN</td>\n",
              "      <td>4</td>\n",
              "      <td>0</td>\n",
              "      <td>132468</td>\n",
              "      <td>164406.0</td>\n",
              "      <td>0.0</td>\n",
              "      <td>0.0</td>\n",
              "    </tr>\n",
              "    <tr>\n",
              "      <th>0daecc08-0354-4753-b282-52124b2420df</th>\n",
              "      <td>2884d362-391a-4941-af69-c825cae18002</td>\n",
              "      <td>Charged_Off</td>\n",
              "      <td>219692</td>\n",
              "      <td>Long</td>\n",
              "      <td>6610.0</td>\n",
              "      <td>527839.0</td>\n",
              "      <td>10.0</td>\n",
              "      <td>Rent</td>\n",
              "      <td>Debt</td>\n",
              "      <td>14207.63</td>\n",
              "      <td>17.0</td>\n",
              "      <td>48.0</td>\n",
              "      <td>9</td>\n",
              "      <td>0</td>\n",
              "      <td>254277</td>\n",
              "      <td>379918.0</td>\n",
              "      <td>0.0</td>\n",
              "      <td>0.0</td>\n",
              "    </tr>\n",
              "    <tr>\n",
              "      <th>a5ada080-a058-4ad2-8953-002b7ec1ae31</th>\n",
              "      <td>9966e08c-04a6-41ab-86d0-e4062c64bd41</td>\n",
              "      <td>Charged_Off</td>\n",
              "      <td>78012</td>\n",
              "      <td>Short</td>\n",
              "      <td>7380.0</td>\n",
              "      <td>728726.0</td>\n",
              "      <td>4.0</td>\n",
              "      <td>Rent</td>\n",
              "      <td>MajorPurchase</td>\n",
              "      <td>10135.36</td>\n",
              "      <td>11.4</td>\n",
              "      <td>NaN</td>\n",
              "      <td>8</td>\n",
              "      <td>0</td>\n",
              "      <td>104633</td>\n",
              "      <td>199936.0</td>\n",
              "      <td>0.0</td>\n",
              "      <td>0.0</td>\n",
              "    </tr>\n",
              "    <tr>\n",
              "      <th>1704367e-1d71-4551-8d33-49aa15cab4b1</th>\n",
              "      <td>88f97adf-070a-47b1-9657-38276eef7d19</td>\n",
              "      <td>Charged_Off</td>\n",
              "      <td>523908</td>\n",
              "      <td>Long</td>\n",
              "      <td>7370.0</td>\n",
              "      <td>1028774.0</td>\n",
              "      <td>6.0</td>\n",
              "      <td>Mortgage</td>\n",
              "      <td>Debt</td>\n",
              "      <td>22632.99</td>\n",
              "      <td>19.3</td>\n",
              "      <td>NaN</td>\n",
              "      <td>5</td>\n",
              "      <td>0</td>\n",
              "      <td>474658</td>\n",
              "      <td>742720.0</td>\n",
              "      <td>0.0</td>\n",
              "      <td>0.0</td>\n",
              "    </tr>\n",
              "    <tr>\n",
              "      <th>...</th>\n",
              "      <td>...</td>\n",
              "      <td>...</td>\n",
              "      <td>...</td>\n",
              "      <td>...</td>\n",
              "      <td>...</td>\n",
              "      <td>...</td>\n",
              "      <td>...</td>\n",
              "      <td>...</td>\n",
              "      <td>...</td>\n",
              "      <td>...</td>\n",
              "      <td>...</td>\n",
              "      <td>...</td>\n",
              "      <td>...</td>\n",
              "      <td>...</td>\n",
              "      <td>...</td>\n",
              "      <td>...</td>\n",
              "      <td>...</td>\n",
              "      <td>...</td>\n",
              "    </tr>\n",
              "    <tr>\n",
              "      <th>5eee6c31-62d4-400c-a81f-37bd373db926</th>\n",
              "      <td>039ee8d2-3321-4683-9592-cb1a360c34e2</td>\n",
              "      <td>Charged_Off</td>\n",
              "      <td>198572</td>\n",
              "      <td>Short</td>\n",
              "      <td>7420.0</td>\n",
              "      <td>526205.0</td>\n",
              "      <td>2.0</td>\n",
              "      <td>Rent</td>\n",
              "      <td>Debt</td>\n",
              "      <td>9910.02</td>\n",
              "      <td>16.5</td>\n",
              "      <td>NaN</td>\n",
              "      <td>8</td>\n",
              "      <td>0</td>\n",
              "      <td>296704</td>\n",
              "      <td>433224.0</td>\n",
              "      <td>0.0</td>\n",
              "      <td>0.0</td>\n",
              "    </tr>\n",
              "    <tr>\n",
              "      <th>ce1f8220-7eba-4ec1-8bef-ca28f4916801</th>\n",
              "      <td>3e108ac9-9b7c-44a9-9289-e389cf3085b1</td>\n",
              "      <td>Charged_Off</td>\n",
              "      <td>110924</td>\n",
              "      <td>Short</td>\n",
              "      <td>7070.0</td>\n",
              "      <td>804631.0</td>\n",
              "      <td>4.0</td>\n",
              "      <td>Rent</td>\n",
              "      <td>Debt</td>\n",
              "      <td>11533.00</td>\n",
              "      <td>13.3</td>\n",
              "      <td>61.0</td>\n",
              "      <td>9</td>\n",
              "      <td>0</td>\n",
              "      <td>60154</td>\n",
              "      <td>96470.0</td>\n",
              "      <td>0.0</td>\n",
              "      <td>0.0</td>\n",
              "    </tr>\n",
              "    <tr>\n",
              "      <th>096471bd-820e-4d0e-88a7-d699a59ab87a</th>\n",
              "      <td>4cfda7f6-790e-4493-a9b1-4d35a8b63af9</td>\n",
              "      <td>Charged_Off</td>\n",
              "      <td>175362</td>\n",
              "      <td>Short</td>\n",
              "      <td>6880.0</td>\n",
              "      <td>1060162.0</td>\n",
              "      <td>9.0</td>\n",
              "      <td>Rent</td>\n",
              "      <td>Debt</td>\n",
              "      <td>16079.13</td>\n",
              "      <td>17.3</td>\n",
              "      <td>NaN</td>\n",
              "      <td>13</td>\n",
              "      <td>0</td>\n",
              "      <td>277153</td>\n",
              "      <td>333234.0</td>\n",
              "      <td>0.0</td>\n",
              "      <td>0.0</td>\n",
              "    </tr>\n",
              "    <tr>\n",
              "      <th>36da0533-8664-4156-8e96-f0d07966acdb</th>\n",
              "      <td>070e3aa9-d077-404c-8946-59ce976e0b70</td>\n",
              "      <td>Charged_Off</td>\n",
              "      <td>88968</td>\n",
              "      <td>Short</td>\n",
              "      <td>6790.0</td>\n",
              "      <td>441845.0</td>\n",
              "      <td>1.0</td>\n",
              "      <td>Rent</td>\n",
              "      <td>Other</td>\n",
              "      <td>5375.86</td>\n",
              "      <td>8.5</td>\n",
              "      <td>NaN</td>\n",
              "      <td>10</td>\n",
              "      <td>0</td>\n",
              "      <td>193306</td>\n",
              "      <td>535458.0</td>\n",
              "      <td>0.0</td>\n",
              "      <td>0.0</td>\n",
              "    </tr>\n",
              "    <tr>\n",
              "      <th>0ee71c4c-10ca-4849-b437-314317022f62</th>\n",
              "      <td>05979eaa-82f7-4909-8cbb-548bd44d1b02</td>\n",
              "      <td>Charged_Off</td>\n",
              "      <td>205458</td>\n",
              "      <td>Long</td>\n",
              "      <td>6940.0</td>\n",
              "      <td>1681101.0</td>\n",
              "      <td>6.0</td>\n",
              "      <td>Rent</td>\n",
              "      <td>Business</td>\n",
              "      <td>14877.76</td>\n",
              "      <td>10.5</td>\n",
              "      <td>NaN</td>\n",
              "      <td>8</td>\n",
              "      <td>0</td>\n",
              "      <td>259844</td>\n",
              "      <td>527846.0</td>\n",
              "      <td>0.0</td>\n",
              "      <td>0.0</td>\n",
              "    </tr>\n",
              "  </tbody>\n",
              "</table>\n",
              "<p>4551 rows × 18 columns</p>\n",
              "</div>\n",
              "    <div class=\"colab-df-buttons\">\n",
              "\n",
              "  <div class=\"colab-df-container\">\n",
              "    <button class=\"colab-df-convert\" onclick=\"convertToInteractive('df-9f9ce34a-48b6-45f1-a929-6d9d0f24b93d')\"\n",
              "            title=\"Convert this dataframe to an interactive table.\"\n",
              "            style=\"display:none;\">\n",
              "\n",
              "  <svg xmlns=\"http://www.w3.org/2000/svg\" height=\"24px\" viewBox=\"0 -960 960 960\">\n",
              "    <path d=\"M120-120v-720h720v720H120Zm60-500h600v-160H180v160Zm220 220h160v-160H400v160Zm0 220h160v-160H400v160ZM180-400h160v-160H180v160Zm440 0h160v-160H620v160ZM180-180h160v-160H180v160Zm440 0h160v-160H620v160Z\"/>\n",
              "  </svg>\n",
              "    </button>\n",
              "\n",
              "  <style>\n",
              "    .colab-df-container {\n",
              "      display:flex;\n",
              "      gap: 12px;\n",
              "    }\n",
              "\n",
              "    .colab-df-convert {\n",
              "      background-color: #E8F0FE;\n",
              "      border: none;\n",
              "      border-radius: 50%;\n",
              "      cursor: pointer;\n",
              "      display: none;\n",
              "      fill: #1967D2;\n",
              "      height: 32px;\n",
              "      padding: 0 0 0 0;\n",
              "      width: 32px;\n",
              "    }\n",
              "\n",
              "    .colab-df-convert:hover {\n",
              "      background-color: #E2EBFA;\n",
              "      box-shadow: 0px 1px 2px rgba(60, 64, 67, 0.3), 0px 1px 3px 1px rgba(60, 64, 67, 0.15);\n",
              "      fill: #174EA6;\n",
              "    }\n",
              "\n",
              "    .colab-df-buttons div {\n",
              "      margin-bottom: 4px;\n",
              "    }\n",
              "\n",
              "    [theme=dark] .colab-df-convert {\n",
              "      background-color: #3B4455;\n",
              "      fill: #D2E3FC;\n",
              "    }\n",
              "\n",
              "    [theme=dark] .colab-df-convert:hover {\n",
              "      background-color: #434B5C;\n",
              "      box-shadow: 0px 1px 3px 1px rgba(0, 0, 0, 0.15);\n",
              "      filter: drop-shadow(0px 1px 2px rgba(0, 0, 0, 0.3));\n",
              "      fill: #FFFFFF;\n",
              "    }\n",
              "  </style>\n",
              "\n",
              "    <script>\n",
              "      const buttonEl =\n",
              "        document.querySelector('#df-9f9ce34a-48b6-45f1-a929-6d9d0f24b93d button.colab-df-convert');\n",
              "      buttonEl.style.display =\n",
              "        google.colab.kernel.accessAllowed ? 'block' : 'none';\n",
              "\n",
              "      async function convertToInteractive(key) {\n",
              "        const element = document.querySelector('#df-9f9ce34a-48b6-45f1-a929-6d9d0f24b93d');\n",
              "        const dataTable =\n",
              "          await google.colab.kernel.invokeFunction('convertToInteractive',\n",
              "                                                    [key], {});\n",
              "        if (!dataTable) return;\n",
              "\n",
              "        const docLinkHtml = 'Like what you see? Visit the ' +\n",
              "          '<a target=\"_blank\" href=https://colab.research.google.com/notebooks/data_table.ipynb>data table notebook</a>'\n",
              "          + ' to learn more about interactive tables.';\n",
              "        element.innerHTML = '';\n",
              "        dataTable['output_type'] = 'display_data';\n",
              "        await google.colab.output.renderOutput(dataTable, element);\n",
              "        const docLink = document.createElement('div');\n",
              "        docLink.innerHTML = docLinkHtml;\n",
              "        element.appendChild(docLink);\n",
              "      }\n",
              "    </script>\n",
              "  </div>\n",
              "\n",
              "\n",
              "<div id=\"df-b4c3526f-bb41-4837-b679-9f5b6297fced\">\n",
              "  <button class=\"colab-df-quickchart\" onclick=\"quickchart('df-b4c3526f-bb41-4837-b679-9f5b6297fced')\"\n",
              "            title=\"Suggest charts.\"\n",
              "            style=\"display:none;\">\n",
              "\n",
              "<svg xmlns=\"http://www.w3.org/2000/svg\" height=\"24px\"viewBox=\"0 0 24 24\"\n",
              "     width=\"24px\">\n",
              "    <g>\n",
              "        <path d=\"M19 3H5c-1.1 0-2 .9-2 2v14c0 1.1.9 2 2 2h14c1.1 0 2-.9 2-2V5c0-1.1-.9-2-2-2zM9 17H7v-7h2v7zm4 0h-2V7h2v10zm4 0h-2v-4h2v4z\"/>\n",
              "    </g>\n",
              "</svg>\n",
              "  </button>\n",
              "\n",
              "<style>\n",
              "  .colab-df-quickchart {\n",
              "    background-color: #E8F0FE;\n",
              "    border: none;\n",
              "    border-radius: 50%;\n",
              "    cursor: pointer;\n",
              "    display: none;\n",
              "    fill: #1967D2;\n",
              "    height: 32px;\n",
              "    padding: 0 0 0 0;\n",
              "    width: 32px;\n",
              "  }\n",
              "\n",
              "  .colab-df-quickchart:hover {\n",
              "    background-color: #E2EBFA;\n",
              "    box-shadow: 0px 1px 2px rgba(60, 64, 67, 0.3), 0px 1px 3px 1px rgba(60, 64, 67, 0.15);\n",
              "    fill: #174EA6;\n",
              "  }\n",
              "\n",
              "  [theme=dark] .colab-df-quickchart {\n",
              "    background-color: #3B4455;\n",
              "    fill: #D2E3FC;\n",
              "  }\n",
              "\n",
              "  [theme=dark] .colab-df-quickchart:hover {\n",
              "    background-color: #434B5C;\n",
              "    box-shadow: 0px 1px 3px 1px rgba(0, 0, 0, 0.15);\n",
              "    filter: drop-shadow(0px 1px 2px rgba(0, 0, 0, 0.3));\n",
              "    fill: #FFFFFF;\n",
              "  }\n",
              "</style>\n",
              "\n",
              "  <script>\n",
              "    async function quickchart(key) {\n",
              "      const charts = await google.colab.kernel.invokeFunction(\n",
              "          'suggestCharts', [key], {});\n",
              "    }\n",
              "    (() => {\n",
              "      let quickchartButtonEl =\n",
              "        document.querySelector('#df-b4c3526f-bb41-4837-b679-9f5b6297fced button');\n",
              "      quickchartButtonEl.style.display =\n",
              "        google.colab.kernel.accessAllowed ? 'block' : 'none';\n",
              "    })();\n",
              "  </script>\n",
              "</div>\n",
              "    </div>\n",
              "  </div>\n"
            ]
          },
          "metadata": {},
          "execution_count": 591
        }
      ]
    },
    {
      "cell_type": "code",
      "source": [
        "#Credit scores: adjust any with extra 0's (likely typos)\n",
        "for row in range(0,len(d.index)):\n",
        "  if d.iloc[row,4] > 800:\n",
        "    d.iloc[row,4] = d.iloc[row,4]/10\n",
        "\n",
        "#verify\n",
        "d.loc['89d8cb0c-e5c2-4f54-b056-48a645c543dd','Credit_Score']"
      ],
      "metadata": {
        "colab": {
          "base_uri": "https://localhost:8080/"
        },
        "id": "Y0tA6mR89x_J",
        "outputId": "05666fcf-d55a-4ab2-df2b-7c7f7a5dcaa0"
      },
      "execution_count": null,
      "outputs": [
        {
          "output_type": "execute_result",
          "data": {
            "text/plain": [
              "729.0"
            ]
          },
          "metadata": {},
          "execution_count": 592
        }
      ]
    },
    {
      "cell_type": "code",
      "source": [
        "#Income: review top value ranges\n",
        "top = d.query('Annual_Income > 10000000')\n",
        "print('Min Outlier Values:',top['Annual_Income'].min(),\n",
        "      '\\nMax Outlier Values:',top['Annual_Income'].max(),\n",
        "      '\\nTotal Outlier Values:',len(top.index))"
      ],
      "metadata": {
        "colab": {
          "base_uri": "https://localhost:8080/"
        },
        "id": "PQZP7rVSy-YR",
        "outputId": "ee71c3cb-7b9f-4ecc-ed02-2b8621af9e82"
      },
      "execution_count": null,
      "outputs": [
        {
          "output_type": "stream",
          "name": "stdout",
          "text": [
            "Min Outlier Values: 10148546.0 \n",
            "Max Outlier Values: 165557393.0 \n",
            "Total Outlier Values: 68\n"
          ]
        }
      ]
    },
    {
      "cell_type": "code",
      "source": [
        "#Income: remove any at or above 10mil\n",
        "d = d.query('Annual_Income < 10000000')"
      ],
      "metadata": {
        "id": "uyOu-entzYvz"
      },
      "execution_count": null,
      "outputs": []
    },
    {
      "cell_type": "code",
      "source": [
        "d.shape"
      ],
      "metadata": {
        "colab": {
          "base_uri": "https://localhost:8080/"
        },
        "id": "qDyXh89uYRas",
        "outputId": "2f3345f5-620e-451e-aeb4-f94b6953b51a"
      },
      "execution_count": null,
      "outputs": [
        {
          "output_type": "execute_result",
          "data": {
            "text/plain": [
              "(80778, 18)"
            ]
          },
          "metadata": {},
          "execution_count": 595
        }
      ]
    },
    {
      "cell_type": "markdown",
      "source": [
        "## Data preprocessing\n",
        "\n",
        "Prior to our analysis we will clean the data to elimitate and account for values that will impact the accuracy of our analysis. In this section we will:\n",
        "\n",
        "\n",
        "1.   Review samples with null values to remove or fill in those values according to use case.\n",
        "2. Review outliers for each numerical variable to adjust and remove as needed.\n",
        "3.   Establish an additional column that has a count of total loans in this dataset for each customer.\n",
        "4. Make binary columns for text-based column values to ensure all data is numerical.\n",
        "\n"
      ],
      "metadata": {
        "id": "e0z5Kk0h-L_L"
      }
    },
    {
      "cell_type": "code",
      "source": [
        "#check for NaN\n",
        "print(d.isna().sum())\n",
        "print('\\nRows with Missing Data:', d.isnull().any(axis=1).sum())"
      ],
      "metadata": {
        "colab": {
          "base_uri": "https://localhost:8080/"
        },
        "id": "nj8igkq2aNVn",
        "outputId": "da2fb476-f051-499f-c020-fb587dbb8494"
      },
      "execution_count": null,
      "outputs": [
        {
          "output_type": "stream",
          "name": "stdout",
          "text": [
            "Customer_ID                         0\n",
            "Loan_Status                         0\n",
            "Current_Loan_Amount                 0\n",
            "Term                                0\n",
            "Credit_Score                        0\n",
            "Annual_Income                       0\n",
            "Years_in_current_job             3412\n",
            "Home_Ownership                      0\n",
            "Purpose                             0\n",
            "Monthly_Debt                        0\n",
            "Years_of_Credit_History             0\n",
            "Months_since_last_delinquent    42637\n",
            "Number_of_Open_Accounts             0\n",
            "Number_of_Credit_Problems           0\n",
            "Current_Credit_Balance              0\n",
            "Maximum_Open_Credit                 1\n",
            "Bankruptcies                      161\n",
            "Tax_Liens                           6\n",
            "dtype: int64\n",
            "\n",
            "Rows with Missing Data: 44386\n"
          ]
        }
      ]
    },
    {
      "cell_type": "code",
      "source": [
        "#drop rows with na values in columns that have few na values\n",
        "d = d.dropna(subset = ['Maximum_Open_Credit','Tax_Liens'])\n",
        "\n",
        "#review na col details\n",
        "nacol = d.columns[d.isna().any()].tolist()\n",
        "for col in nacol:\n",
        "  print('Details for',col,\n",
        "        '\\n  Min:',d[col].min(),\n",
        "        '\\n  Max:',d[col].max(),\n",
        "        '\\n  Median:',d[col].median().round(),\n",
        "        '\\n  Mean:',d[col].mean().round(),'\\n'\n",
        "        )"
      ],
      "metadata": {
        "colab": {
          "base_uri": "https://localhost:8080/"
        },
        "id": "HsElLf6EwD0j",
        "outputId": "2af379e2-cbfa-4d6f-9ab0-73de41f0ba2b"
      },
      "execution_count": null,
      "outputs": [
        {
          "output_type": "stream",
          "name": "stdout",
          "text": [
            "Details for Years_in_current_job \n",
            "  Min: 1.0 \n",
            "  Max: 10.0 \n",
            "  Median: 6.0 \n",
            "  Mean: 6.0 \n",
            "\n",
            "Details for Months_since_last_delinquent \n",
            "  Min: 0.0 \n",
            "  Max: 176.0 \n",
            "  Median: 32.0 \n",
            "  Mean: 35.0 \n",
            "\n",
            "Details for Bankruptcies \n",
            "  Min: 0.0 \n",
            "  Max: 7.0 \n",
            "  Median: 0.0 \n",
            "  Mean: 0.0 \n",
            "\n"
          ]
        }
      ]
    },
    {
      "cell_type": "code",
      "source": [
        "#fill in median remaining na values\n",
        "d = d.fillna(d.median(numeric_only = True))"
      ],
      "metadata": {
        "id": "YlvJtRr8-N9j"
      },
      "execution_count": null,
      "outputs": []
    },
    {
      "cell_type": "markdown",
      "source": [
        "Now that we've removed the most obvious data errors and outliers, we'll conduct a visual review to make further adjustments on samples that might skew our data."
      ],
      "metadata": {
        "id": "euXifRSJNGyt"
      }
    },
    {
      "cell_type": "code",
      "source": [
        "plt.figure(figsize=(10,1))\n",
        "sns.boxplot(x=d['Current_Loan_Amount'], color='darkorange')"
      ],
      "metadata": {
        "colab": {
          "base_uri": "https://localhost:8080/",
          "height": 183
        },
        "id": "jdTqTPusLeA6",
        "outputId": "56208210-0777-41d5-dd86-8e3fbba3bab9"
      },
      "execution_count": null,
      "outputs": [
        {
          "output_type": "execute_result",
          "data": {
            "text/plain": [
              "<Axes: xlabel='Current_Loan_Amount'>"
            ]
          },
          "metadata": {},
          "execution_count": 599
        },
        {
          "output_type": "display_data",
          "data": {
            "text/plain": [
              "<Figure size 1000x100 with 1 Axes>"
            ],
            "image/png": "[encoded data removed]"
          },
          "metadata": {}
        }
      ]
    },
    {
      "cell_type": "code",
      "source": [
        "plt.figure(figsize=(10,1))\n",
        "sns.boxplot(x=d['Credit_Score'], color='indigo')"
      ],
      "metadata": {
        "colab": {
          "base_uri": "https://localhost:8080/",
          "height": 184
        },
        "id": "hvQ36lm0MeDG",
        "outputId": "3c4fb4bb-345c-4a7e-8fd0-5eede91b76ef"
      },
      "execution_count": null,
      "outputs": [
        {
          "output_type": "execute_result",
          "data": {
            "text/plain": [
              "<Axes: xlabel='Credit_Score'>"
            ]
          },
          "metadata": {},
          "execution_count": 600
        },
        {
          "output_type": "display_data",
          "data": {
            "text/plain": [
              "<Figure size 1000x100 with 1 Axes>"
            ],
            "image/png": "[encoded data removed]"
          },
          "metadata": {}
        }
      ]
    },
    {
      "cell_type": "code",
      "source": [
        "plt.figure(figsize=(10,1))\n",
        "sns.boxplot(x=d['Annual_Income'], color='darkorange')"
      ],
      "metadata": {
        "colab": {
          "base_uri": "https://localhost:8080/",
          "height": 184
        },
        "id": "vFHhgWBHMfsF",
        "outputId": "9cf28233-6dfc-43cd-9900-b5f82f8230a8"
      },
      "execution_count": null,
      "outputs": [
        {
          "output_type": "execute_result",
          "data": {
            "text/plain": [
              "<Axes: xlabel='Annual_Income'>"
            ]
          },
          "metadata": {},
          "execution_count": 601
        },
        {
          "output_type": "display_data",
          "data": {
            "text/plain": [
              "<Figure size 1000x100 with 1 Axes>"
            ],
            "image/png": "[encoded data removed]"
          },
          "metadata": {}
        }
      ]
    },
    {
      "cell_type": "code",
      "source": [
        "#review count of upper income values to determine cutoff\n",
        "len(d[d[\"Annual_Income\"] > 5000000])"
      ],
      "metadata": {
        "colab": {
          "base_uri": "https://localhost:8080/"
        },
        "id": "ZI8Ljt23Nf1H",
        "outputId": "a93331a4-051c-487c-b6ff-28b7af2dda2c"
      },
      "execution_count": null,
      "outputs": [
        {
          "output_type": "execute_result",
          "data": {
            "text/plain": [
              "513"
            ]
          },
          "metadata": {},
          "execution_count": 602
        }
      ]
    },
    {
      "cell_type": "code",
      "source": [
        "#limit dataframe to values below cutoff\n",
        "d = d.query('Annual_Income < 5000000')\n",
        "d.shape"
      ],
      "metadata": {
        "colab": {
          "base_uri": "https://localhost:8080/"
        },
        "id": "KKlO7nSTOTi9",
        "outputId": "839625b2-6855-41dd-a02a-373f8d54659b"
      },
      "execution_count": null,
      "outputs": [
        {
          "output_type": "execute_result",
          "data": {
            "text/plain": [
              "(80258, 18)"
            ]
          },
          "metadata": {},
          "execution_count": 603
        }
      ]
    },
    {
      "cell_type": "code",
      "source": [
        "plt.figure(figsize=(10,1))\n",
        "sns.boxplot(x=d['Years_in_current_job'], color='indigo')"
      ],
      "metadata": {
        "colab": {
          "base_uri": "https://localhost:8080/",
          "height": 184
        },
        "id": "5MQxILH7Mg9N",
        "outputId": "53c35e87-8cd1-4d50-9452-285cccb7af14"
      },
      "execution_count": null,
      "outputs": [
        {
          "output_type": "execute_result",
          "data": {
            "text/plain": [
              "<Axes: xlabel='Years_in_current_job'>"
            ]
          },
          "metadata": {},
          "execution_count": 604
        },
        {
          "output_type": "display_data",
          "data": {
            "text/plain": [
              "<Figure size 1000x100 with 1 Axes>"
            ],
            "image/png": "[encoded data removed]"
          },
          "metadata": {}
        }
      ]
    },
    {
      "cell_type": "code",
      "source": [
        "plt.figure(figsize=(10,1))\n",
        "sns.boxplot(x=d['Monthly_Debt'], color='darkorange')"
      ],
      "metadata": {
        "colab": {
          "base_uri": "https://localhost:8080/",
          "height": 184
        },
        "id": "9WQs1Fx9MiFs",
        "outputId": "1c81f282-61f5-46c3-a8a4-f75447e76beb"
      },
      "execution_count": null,
      "outputs": [
        {
          "output_type": "execute_result",
          "data": {
            "text/plain": [
              "<Axes: xlabel='Monthly_Debt'>"
            ]
          },
          "metadata": {},
          "execution_count": 605
        },
        {
          "output_type": "display_data",
          "data": {
            "text/plain": [
              "<Figure size 1000x100 with 1 Axes>"
            ],
            "image/png": "[encoded data removed]"
          },
          "metadata": {}
        }
      ]
    },
    {
      "cell_type": "code",
      "source": [
        "#count outliers to help determine cutoff\n",
        "len(d[d[\"Monthly_Debt\"] > 100000])"
      ],
      "metadata": {
        "colab": {
          "base_uri": "https://localhost:8080/"
        },
        "id": "Ig13R-p_WkL7",
        "outputId": "b01fd45b-9d06-4c79-9b44-e0da33e7ecd2"
      },
      "execution_count": null,
      "outputs": [
        {
          "output_type": "execute_result",
          "data": {
            "text/plain": [
              "13"
            ]
          },
          "metadata": {},
          "execution_count": 606
        }
      ]
    },
    {
      "cell_type": "code",
      "source": [
        "#limit dataframe to remove outliers\n",
        "d = d.query('Monthly_Debt < 100000')\n",
        "d.shape"
      ],
      "metadata": {
        "colab": {
          "base_uri": "https://localhost:8080/"
        },
        "id": "If8ProWLO1Vl",
        "outputId": "92bf4611-00bb-47f2-82e4-9687dd405001"
      },
      "execution_count": null,
      "outputs": [
        {
          "output_type": "execute_result",
          "data": {
            "text/plain": [
              "(80245, 18)"
            ]
          },
          "metadata": {},
          "execution_count": 607
        }
      ]
    },
    {
      "cell_type": "code",
      "source": [
        "plt.figure(figsize=(10,1))\n",
        "sns.boxplot(x=d['Years_of_Credit_History'], color='indigo')"
      ],
      "metadata": {
        "colab": {
          "base_uri": "https://localhost:8080/",
          "height": 184
        },
        "id": "h-79qoF2Mj06",
        "outputId": "1ec4bf1c-63b3-45c0-c0c1-6e463ac4cd29"
      },
      "execution_count": null,
      "outputs": [
        {
          "output_type": "execute_result",
          "data": {
            "text/plain": [
              "<Axes: xlabel='Years_of_Credit_History'>"
            ]
          },
          "metadata": {},
          "execution_count": 608
        },
        {
          "output_type": "display_data",
          "data": {
            "text/plain": [
              "<Figure size 1000x100 with 1 Axes>"
            ],
            "image/png": "[encoded data removed]"
          },
          "metadata": {}
        }
      ]
    },
    {
      "cell_type": "code",
      "source": [
        "#count outliers to help determine cutoff\n",
        "len(d[d[\"Years_of_Credit_History\"] > 50])"
      ],
      "metadata": {
        "colab": {
          "base_uri": "https://localhost:8080/"
        },
        "id": "7Qb3YiqwW3DI",
        "outputId": "ab732858-6cd9-4736-b7fb-8276463c00b1"
      },
      "execution_count": null,
      "outputs": [
        {
          "output_type": "execute_result",
          "data": {
            "text/plain": [
              "65"
            ]
          },
          "metadata": {},
          "execution_count": 609
        }
      ]
    },
    {
      "cell_type": "code",
      "source": [
        "#limit dataframe to remove outliers\n",
        "d = d.query('Years_of_Credit_History < 50')\n",
        "d.shape"
      ],
      "metadata": {
        "colab": {
          "base_uri": "https://localhost:8080/"
        },
        "id": "DLnay8N1O8gs",
        "outputId": "4dfa8fb2-8829-443a-d6b7-703eb3a824db"
      },
      "execution_count": null,
      "outputs": [
        {
          "output_type": "execute_result",
          "data": {
            "text/plain": [
              "(80176, 18)"
            ]
          },
          "metadata": {},
          "execution_count": 610
        }
      ]
    },
    {
      "cell_type": "code",
      "source": [
        "plt.figure(figsize=(10,1))\n",
        "sns.boxplot(x=d['Months_since_last_delinquent'], color='darkorange')"
      ],
      "metadata": {
        "colab": {
          "base_uri": "https://localhost:8080/",
          "height": 184
        },
        "id": "AbC5VSjqMlEf",
        "outputId": "c09624b2-3282-4775-8146-bbad8c417efe"
      },
      "execution_count": null,
      "outputs": [
        {
          "output_type": "execute_result",
          "data": {
            "text/plain": [
              "<Axes: xlabel='Months_since_last_delinquent'>"
            ]
          },
          "metadata": {},
          "execution_count": 611
        },
        {
          "output_type": "display_data",
          "data": {
            "text/plain": [
              "<Figure size 1000x100 with 1 Axes>"
            ],
            "image/png": "[encoded data removed]"
          },
          "metadata": {}
        }
      ]
    },
    {
      "cell_type": "code",
      "source": [
        "#count outliers to help determine cutoff\n",
        "len(d[d[\"Months_since_last_delinquent\"] > 99])"
      ],
      "metadata": {
        "colab": {
          "base_uri": "https://localhost:8080/"
        },
        "id": "SBABB40yW_je",
        "outputId": "dbaeaccf-a2eb-4fd7-f77e-dc99f439faa5"
      },
      "execution_count": null,
      "outputs": [
        {
          "output_type": "execute_result",
          "data": {
            "text/plain": [
              "14"
            ]
          },
          "metadata": {},
          "execution_count": 612
        }
      ]
    },
    {
      "cell_type": "code",
      "source": [
        "#limit dataframe to remove outliers\n",
        "d = d.query('Months_since_last_delinquent < 100')\n",
        "d.shape"
      ],
      "metadata": {
        "colab": {
          "base_uri": "https://localhost:8080/"
        },
        "id": "CcbAmn3ePICV",
        "outputId": "fc2489cb-9597-4a3c-b171-a1b42d5b453f"
      },
      "execution_count": null,
      "outputs": [
        {
          "output_type": "execute_result",
          "data": {
            "text/plain": [
              "(80162, 18)"
            ]
          },
          "metadata": {},
          "execution_count": 613
        }
      ]
    },
    {
      "cell_type": "code",
      "source": [
        "plt.figure(figsize=(10,1))\n",
        "sns.boxplot(x=d['Number_of_Open_Accounts'], color='indigo')"
      ],
      "metadata": {
        "colab": {
          "base_uri": "https://localhost:8080/",
          "height": 184
        },
        "id": "_t4MwunRMmWI",
        "outputId": "ddaeaa1b-884a-4fc8-c609-d8e3aa847282"
      },
      "execution_count": null,
      "outputs": [
        {
          "output_type": "execute_result",
          "data": {
            "text/plain": [
              "<Axes: xlabel='Number_of_Open_Accounts'>"
            ]
          },
          "metadata": {},
          "execution_count": 614
        },
        {
          "output_type": "display_data",
          "data": {
            "text/plain": [
              "<Figure size 1000x100 with 1 Axes>"
            ],
            "image/png": "[encoded data removed]"
          },
          "metadata": {}
        }
      ]
    },
    {
      "cell_type": "code",
      "source": [
        "#count outliers to help determine cutoff\n",
        "len(d[d[\"Number_of_Open_Accounts\"] > 30])"
      ],
      "metadata": {
        "colab": {
          "base_uri": "https://localhost:8080/"
        },
        "id": "OkW_SSi0XInV",
        "outputId": "ba6b7fcc-52d9-4495-df6b-34e3c604e7ad"
      },
      "execution_count": null,
      "outputs": [
        {
          "output_type": "execute_result",
          "data": {
            "text/plain": [
              "301"
            ]
          },
          "metadata": {},
          "execution_count": 615
        }
      ]
    },
    {
      "cell_type": "code",
      "source": [
        "#limit dataframe to remove outliers\n",
        "d = d.query('Number_of_Open_Accounts < 30')\n",
        "d.shape"
      ],
      "metadata": {
        "colab": {
          "base_uri": "https://localhost:8080/"
        },
        "id": "Uix11ZE6PPwM",
        "outputId": "40a23a29-5591-4db8-f1d9-d7a97551e8d7"
      },
      "execution_count": null,
      "outputs": [
        {
          "output_type": "execute_result",
          "data": {
            "text/plain": [
              "(79775, 18)"
            ]
          },
          "metadata": {},
          "execution_count": 616
        }
      ]
    },
    {
      "cell_type": "code",
      "source": [
        "plt.figure(figsize=(10,1))\n",
        "sns.boxplot(x=d['Number_of_Credit_Problems'], color='darkorange')"
      ],
      "metadata": {
        "colab": {
          "base_uri": "https://localhost:8080/",
          "height": 184
        },
        "id": "dM0aDbfGMnhS",
        "outputId": "e96d858e-a294-49c3-a914-38a4cfa0883e"
      },
      "execution_count": null,
      "outputs": [
        {
          "output_type": "execute_result",
          "data": {
            "text/plain": [
              "<Axes: xlabel='Number_of_Credit_Problems'>"
            ]
          },
          "metadata": {},
          "execution_count": 617
        },
        {
          "output_type": "display_data",
          "data": {
            "text/plain": [
              "<Figure size 1000x100 with 1 Axes>"
            ],
            "image/png": "[encoded data removed]"
          },
          "metadata": {}
        }
      ]
    },
    {
      "cell_type": "code",
      "source": [
        "#count outliers to help determine cutoff\n",
        "len(d[d[\"Number_of_Credit_Problems\"] > 2])"
      ],
      "metadata": {
        "colab": {
          "base_uri": "https://localhost:8080/"
        },
        "id": "Zh7JBev6XRbQ",
        "outputId": "5ce9dc60-fd25-4e04-851a-1d9ed726ca12"
      },
      "execution_count": null,
      "outputs": [
        {
          "output_type": "execute_result",
          "data": {
            "text/plain": [
              "476"
            ]
          },
          "metadata": {},
          "execution_count": 618
        }
      ]
    },
    {
      "cell_type": "code",
      "source": [
        "#limit dataframe to remove outliers\n",
        "d = d.query('Number_of_Credit_Problems < 2')\n",
        "d.shape"
      ],
      "metadata": {
        "colab": {
          "base_uri": "https://localhost:8080/"
        },
        "id": "CoCrQdawPWvz",
        "outputId": "56680167-3846-4807-a60e-e3039526ad96"
      },
      "execution_count": null,
      "outputs": [
        {
          "output_type": "execute_result",
          "data": {
            "text/plain": [
              "(78258, 18)"
            ]
          },
          "metadata": {},
          "execution_count": 619
        }
      ]
    },
    {
      "cell_type": "code",
      "source": [
        "plt.figure(figsize=(10,1))\n",
        "sns.boxplot(x=d['Current_Credit_Balance'], color='indigo')"
      ],
      "metadata": {
        "colab": {
          "base_uri": "https://localhost:8080/",
          "height": 184
        },
        "id": "OZF09xhaMo8F",
        "outputId": "25e263ce-0aed-4a08-ef5b-153a2bcc0405"
      },
      "execution_count": null,
      "outputs": [
        {
          "output_type": "execute_result",
          "data": {
            "text/plain": [
              "<Axes: xlabel='Current_Credit_Balance'>"
            ]
          },
          "metadata": {},
          "execution_count": 620
        },
        {
          "output_type": "display_data",
          "data": {
            "text/plain": [
              "<Figure size 1000x100 with 1 Axes>"
            ],
            "image/png": "[encoded data removed]"
          },
          "metadata": {}
        }
      ]
    },
    {
      "cell_type": "code",
      "source": [
        "#review count of upper credit balances to determine cutoff\n",
        "len(d[d[\"Current_Credit_Balance\"] > 1500000])"
      ],
      "metadata": {
        "colab": {
          "base_uri": "https://localhost:8080/"
        },
        "id": "IArM1wNNPm6_",
        "outputId": "13097691-399f-4dc4-874e-9212957870f5"
      },
      "execution_count": null,
      "outputs": [
        {
          "output_type": "execute_result",
          "data": {
            "text/plain": [
              "728"
            ]
          },
          "metadata": {},
          "execution_count": 621
        }
      ]
    },
    {
      "cell_type": "code",
      "source": [
        "#limit dataframe to below cutoff\n",
        "d = d.query('Current_Credit_Balance < 1500000')\n",
        "d.shape"
      ],
      "metadata": {
        "colab": {
          "base_uri": "https://localhost:8080/"
        },
        "id": "aDydkbIpPr-q",
        "outputId": "3587adc9-f43f-494d-b097-9e5a27be399e"
      },
      "execution_count": null,
      "outputs": [
        {
          "output_type": "execute_result",
          "data": {
            "text/plain": [
              "(77530, 18)"
            ]
          },
          "metadata": {},
          "execution_count": 622
        }
      ]
    },
    {
      "cell_type": "code",
      "source": [
        "plt.figure(figsize=(10,1))\n",
        "sns.boxplot(x=d['Maximum_Open_Credit'], color='darkorange')"
      ],
      "metadata": {
        "colab": {
          "base_uri": "https://localhost:8080/",
          "height": 184
        },
        "id": "TZDp6EYsMqEb",
        "outputId": "5903a105-6291-4c5a-de5c-2fbfa5a68364"
      },
      "execution_count": null,
      "outputs": [
        {
          "output_type": "execute_result",
          "data": {
            "text/plain": [
              "<Axes: xlabel='Maximum_Open_Credit'>"
            ]
          },
          "metadata": {},
          "execution_count": 623
        },
        {
          "output_type": "display_data",
          "data": {
            "text/plain": [
              "<Figure size 1000x100 with 1 Axes>"
            ],
            "image/png": "[encoded data removed]"
          },
          "metadata": {}
        }
      ]
    },
    {
      "cell_type": "code",
      "source": [
        "#review count of maximum open credit to determine cutoff\n",
        "len(d[d[\"Maximum_Open_Credit\"] > 2500000])"
      ],
      "metadata": {
        "colab": {
          "base_uri": "https://localhost:8080/"
        },
        "id": "8QlLG06IP7jH",
        "outputId": "01259c00-4061-4e73-d053-709a5733c834"
      },
      "execution_count": null,
      "outputs": [
        {
          "output_type": "execute_result",
          "data": {
            "text/plain": [
              "728"
            ]
          },
          "metadata": {},
          "execution_count": 624
        }
      ]
    },
    {
      "cell_type": "code",
      "source": [
        "#limit dataframe to below cutoff\n",
        "d = d.query('Maximum_Open_Credit < 2500000')\n",
        "d.shape"
      ],
      "metadata": {
        "colab": {
          "base_uri": "https://localhost:8080/"
        },
        "id": "5q9FlarLP-lV",
        "outputId": "e9798b45-eb43-4f6d-b203-a63266a2f0bd"
      },
      "execution_count": null,
      "outputs": [
        {
          "output_type": "execute_result",
          "data": {
            "text/plain": [
              "(76802, 18)"
            ]
          },
          "metadata": {},
          "execution_count": 625
        }
      ]
    },
    {
      "cell_type": "code",
      "source": [
        "plt.figure(figsize=(10,1))\n",
        "sns.boxplot(x=d['Bankruptcies'], color='indigo')"
      ],
      "metadata": {
        "colab": {
          "base_uri": "https://localhost:8080/",
          "height": 183
        },
        "id": "HOpeqrh2MrIY",
        "outputId": "f680cde3-42eb-4cf1-9f1d-ee4b6c97d24c"
      },
      "execution_count": null,
      "outputs": [
        {
          "output_type": "execute_result",
          "data": {
            "text/plain": [
              "<Axes: xlabel='Bankruptcies'>"
            ]
          },
          "metadata": {},
          "execution_count": 626
        },
        {
          "output_type": "display_data",
          "data": {
            "text/plain": [
              "<Figure size 1000x100 with 1 Axes>"
            ],
            "image/png": "[encoded data removed]"
          },
          "metadata": {}
        }
      ]
    },
    {
      "cell_type": "code",
      "source": [
        "#review count of individuals with bankrupcies\n",
        "len(d[d[\"Bankruptcies\"] > 0]) #do not remove bankruptcies"
      ],
      "metadata": {
        "colab": {
          "base_uri": "https://localhost:8080/"
        },
        "id": "G2q6hn1XQaA_",
        "outputId": "d7578e40-846f-4773-90d2-edea409c395c"
      },
      "execution_count": null,
      "outputs": [
        {
          "output_type": "execute_result",
          "data": {
            "text/plain": [
              "8016"
            ]
          },
          "metadata": {},
          "execution_count": 627
        }
      ]
    },
    {
      "cell_type": "code",
      "source": [
        "plt.figure(figsize=(10,1))\n",
        "sns.boxplot(x=d['Tax_Liens'], color='darkorange')\n",
        "d.shape"
      ],
      "metadata": {
        "colab": {
          "base_uri": "https://localhost:8080/",
          "height": 184
        },
        "id": "7GFP_sC0MsLG",
        "outputId": "57d5f4cd-7cef-47ec-e5c8-babc9324df85"
      },
      "execution_count": null,
      "outputs": [
        {
          "output_type": "execute_result",
          "data": {
            "text/plain": [
              "(76802, 18)"
            ]
          },
          "metadata": {},
          "execution_count": 628
        },
        {
          "output_type": "display_data",
          "data": {
            "text/plain": [
              "<Figure size 1000x100 with 1 Axes>"
            ],
            "image/png": "[encoded data removed]"
          },
          "metadata": {}
        }
      ]
    },
    {
      "cell_type": "code",
      "source": [
        "#review count of individuals with bankrupcies\n",
        "len(d[d[\"Tax_Liens\"] > 0])"
      ],
      "metadata": {
        "colab": {
          "base_uri": "https://localhost:8080/"
        },
        "id": "E5KlhUprQuf3",
        "outputId": "2a13baff-cc9b-4618-c347-4d54b17bab9f"
      },
      "execution_count": null,
      "outputs": [
        {
          "output_type": "execute_result",
          "data": {
            "text/plain": [
              "750"
            ]
          },
          "metadata": {},
          "execution_count": 629
        }
      ]
    },
    {
      "cell_type": "code",
      "source": [
        "#remove rows with tax liens\n",
        "d = d.query('Tax_Liens == 0')\n",
        "d = d.drop(columns = 'Tax_Liens')\n",
        "d.shape"
      ],
      "metadata": {
        "colab": {
          "base_uri": "https://localhost:8080/"
        },
        "id": "lw9nflZIQ6Mx",
        "outputId": "52cc2633-e3d9-4294-e1d4-c4fcca730194"
      },
      "execution_count": null,
      "outputs": [
        {
          "output_type": "execute_result",
          "data": {
            "text/plain": [
              "(76052, 17)"
            ]
          },
          "metadata": {},
          "execution_count": 630
        }
      ]
    },
    {
      "cell_type": "code",
      "source": [
        "#make new column to account for customers with more than one lean in this list\n",
        "dupcust = pd.DataFrame(d.pivot_table(index = ['Customer_ID'], aggfunc ='size'),columns=['Num_Loans']).reset_index()\n",
        "d = d.merge(dupcust, on='Customer_ID', how='left').drop(columns = 'Customer_ID')\n",
        "\n",
        "#make dummies values for categorical values\n",
        "d = pd.get_dummies(d, columns=list(d.select_dtypes(include=['object', 'category']).columns), drop_first=False)\n",
        "\n",
        "#drop columns are duplicative\n",
        "d = d.drop(columns={'Loan_Status_Fully_Paid','Term_Long'})\n",
        "\n",
        "#rename columns\n",
        "d = d.rename(columns = {'Current_Loan_Amount': 'Loan_Amount',\n",
        "                        'Years_in_current_job': 'Employment_Years',\n",
        "                        'Years_of_Credit_History': 'Credit_History_Years',\n",
        "                        'Months_since_last_delinquent': 'Months_Last_Delinquent',\n",
        "                        'Number_of_Open_Accounts': 'Total_Open_Accts',\n",
        "                        'Number_of_Credit_Problems': 'Credit_Problems',\n",
        "                        'Current_Credit_Balance': 'Credit_Balance',\n",
        "                        'Maximum_Open_Credit': 'Max_Credit',\n",
        "                        'Loan_Status_Charged_Off': 'Charged_Off',\n",
        "                        'Home_Ownership_Mortgage': 'Home_Mortgage',\n",
        "                        'Home_Ownership_Own': 'Home_Own',\n",
        "                        'Home_Ownership_Rent': 'Home_Rent'})\n",
        "\n",
        "#move target to front of dataframe\n",
        "d.insert(0, 'Charged_Off', d.pop('Charged_Off'))\n",
        "\n",
        "d.info()"
      ],
      "metadata": {
        "colab": {
          "base_uri": "https://localhost:8080/"
        },
        "id": "bmxn4rCuayRn",
        "outputId": "06574079-774e-47c7-cca9-e97c0e7dcd71"
      },
      "execution_count": null,
      "outputs": [
        {
          "output_type": "stream",
          "name": "stdout",
          "text": [
            "<class 'pandas.core.frame.DataFrame'>\n",
            "Int64Index: 76052 entries, 0 to 76051\n",
            "Data columns (total 25 columns):\n",
            " #   Column                        Non-Null Count  Dtype  \n",
            "---  ------                        --------------  -----  \n",
            " 0   Charged_Off                   76052 non-null  uint8  \n",
            " 1   Loan_Amount                   76052 non-null  int64  \n",
            " 2   Credit_Score                  76052 non-null  float64\n",
            " 3   Annual_Income                 76052 non-null  float64\n",
            " 4   Employment_Years              76052 non-null  float64\n",
            " 5   Monthly_Debt                  76052 non-null  float64\n",
            " 6   Credit_History_Years          76052 non-null  float64\n",
            " 7   Months_Last_Delinquent        76052 non-null  float64\n",
            " 8   Total_Open_Accts              76052 non-null  int64  \n",
            " 9   Credit_Problems               76052 non-null  int64  \n",
            " 10  Credit_Balance                76052 non-null  int64  \n",
            " 11  Max_Credit                    76052 non-null  float64\n",
            " 12  Bankruptcies                  76052 non-null  float64\n",
            " 13  Num_Loans                     76052 non-null  int64  \n",
            " 14  Term_Short                    76052 non-null  uint8  \n",
            " 15  Home_Mortgage                 76052 non-null  uint8  \n",
            " 16  Home_Own                      76052 non-null  uint8  \n",
            " 17  Home_Rent                     76052 non-null  uint8  \n",
            " 18  Purpose_Business              76052 non-null  uint8  \n",
            " 19  Purpose_Debt                  76052 non-null  uint8  \n",
            " 20  Purpose_Educational_Expenses  76052 non-null  uint8  \n",
            " 21  Purpose_HomeImprovement       76052 non-null  uint8  \n",
            " 22  Purpose_MajorPurchase         76052 non-null  uint8  \n",
            " 23  Purpose_Other                 76052 non-null  uint8  \n",
            " 24  Purpose_Recreation            76052 non-null  uint8  \n",
            "dtypes: float64(8), int64(5), uint8(12)\n",
            "memory usage: 9.0 MB\n"
          ]
        }
      ]
    },
    {
      "cell_type": "code",
      "source": [
        "#frequency counts for values in target\n",
        "freq = d['Charged_Off'].value_counts()\n",
        "print(freq,'\\n')\n",
        "\n",
        "#visualization of target value counts\n",
        "sns.set(rc={\"figure.figsize\":(5, 4)})\n",
        "sns.countplot(x=d['Charged_Off'], color='orange')"
      ],
      "metadata": {
        "colab": {
          "base_uri": "https://localhost:8080/",
          "height": 486
        },
        "id": "auxSKZFIJhmB",
        "outputId": "2bf08df7-38ec-4e3d-945f-c81d2201566c"
      },
      "execution_count": null,
      "outputs": [
        {
          "output_type": "stream",
          "name": "stdout",
          "text": [
            "0    59735\n",
            "1    16317\n",
            "Name: Charged_Off, dtype: int64 \n",
            "\n"
          ]
        },
        {
          "output_type": "execute_result",
          "data": {
            "text/plain": [
              "<Axes: xlabel='Charged_Off', ylabel='count'>"
            ]
          },
          "metadata": {},
          "execution_count": 632
        },
        {
          "output_type": "display_data",
          "data": {
            "text/plain": [
              "<Figure size 500x400 with 1 Axes>"
            ],
            "image/png": "[encoded data removed]"
          },
          "metadata": {}
        }
      ]
    },
    {
      "cell_type": "code",
      "source": [
        "columns = list(d.columns)\n",
        "\n",
        "#standardize values\n",
        "d = mm_scaler.fit_transform(d) #normally we would do this later on to individual data, but I'm shortcutting\n",
        "\n",
        "#refit standardized values into dataframe and verify\n",
        "d = pd.DataFrame(d, columns=columns)\n",
        "\n",
        "d.head().transpose()"
      ],
      "metadata": {
        "colab": {
          "base_uri": "https://localhost:8080/",
          "height": 833
        },
        "id": "MWesP5h-5tBg",
        "outputId": "b67181ad-6709-4028-a1f4-3920e746078b"
      },
      "execution_count": null,
      "outputs": [
        {
          "output_type": "execute_result",
          "data": {
            "text/plain": [
              "                                     0         1         2         3         4\n",
              "Charged_Off                   0.000000  0.000000  0.000000  1.000000  0.000000\n",
              "Loan_Amount                   0.439106  1.000000  0.340249  0.197581  0.208751\n",
              "Credit_Score                  0.746988  0.939759  0.819277  0.867470  0.873494\n",
              "Annual_Income                 0.221779  0.438178  0.148479  0.166757  0.225175\n",
              "Employment_Years              0.777778  0.777778  0.222222  1.000000  0.000000\n",
              "Monthly_Debt                  0.053349  0.298735  0.089434  0.167449  0.111052\n",
              "Credit_History_Years          0.292208  0.242424  0.179654  0.294372  0.344156\n",
              "Months_Last_Delinquent        0.329897  0.298969  0.329897  0.329897  0.103093\n",
              "Total_Open_Accts              0.178571  0.607143  0.285714  0.178571  0.428571\n",
              "Credit_Problems               1.000000  1.000000  0.000000  0.000000  1.000000\n",
              "Credit_Balance                0.152174  0.198725  0.170939  0.143583  0.081472\n",
              "Max_Credit                    0.166796  0.300211  0.154874  0.109043  0.108884\n",
              "Bankruptcies                  1.000000  0.000000  0.000000  0.000000  1.000000\n",
              "Num_Loans                     1.000000  0.000000  1.000000  0.000000  0.000000\n",
              "Term_Short                    1.000000  1.000000  0.000000  1.000000  1.000000\n",
              "Home_Mortgage                 1.000000  0.000000  0.000000  1.000000  1.000000\n",
              "Home_Own                      0.000000  1.000000  1.000000  0.000000  0.000000\n",
              "Home_Rent                     0.000000  0.000000  0.000000  0.000000  0.000000\n",
              "Purpose_Business              0.000000  0.000000  0.000000  0.000000  0.000000\n",
              "Purpose_Debt                  0.000000  1.000000  1.000000  1.000000  1.000000\n",
              "Purpose_Educational_Expenses  0.000000  0.000000  0.000000  0.000000  0.000000\n",
              "Purpose_HomeImprovement       1.000000  0.000000  0.000000  0.000000  0.000000\n",
              "Purpose_MajorPurchase         0.000000  0.000000  0.000000  0.000000  0.000000\n",
              "Purpose_Other                 0.000000  0.000000  0.000000  0.000000  0.000000\n",
              "Purpose_Recreation            0.000000  0.000000  0.000000  0.000000  0.000000"
            ],
            "text/html": [
              "\n",
              "  <div id=\"df-f5f277e5-9ed9-422c-be21-d8ca662db74c\" class=\"colab-df-container\">\n",
              "    <div>\n",
              "<style scoped>\n",
              "    .dataframe tbody tr th:only-of-type {\n",
              "        vertical-align: middle;\n",
              "    }\n",
              "\n",
              "    .dataframe tbody tr th {\n",
              "        vertical-align: top;\n",
              "    }\n",
              "\n",
              "    .dataframe thead th {\n",
              "        text-align: right;\n",
              "    }\n",
              "</style>\n",
              "<table border=\"1\" class=\"dataframe\">\n",
              "  <thead>\n",
              "    <tr style=\"text-align: right;\">\n",
              "      <th></th>\n",
              "      <th>0</th>\n",
              "      <th>1</th>\n",
              "      <th>2</th>\n",
              "      <th>3</th>\n",
              "      <th>4</th>\n",
              "    </tr>\n",
              "  </thead>\n",
              "  <tbody>\n",
              "    <tr>\n",
              "      <th>Charged_Off</th>\n",
              "      <td>0.000000</td>\n",
              "      <td>0.000000</td>\n",
              "      <td>0.000000</td>\n",
              "      <td>1.000000</td>\n",
              "      <td>0.000000</td>\n",
              "    </tr>\n",
              "    <tr>\n",
              "      <th>Loan_Amount</th>\n",
              "      <td>0.439106</td>\n",
              "      <td>1.000000</td>\n",
              "      <td>0.340249</td>\n",
              "      <td>0.197581</td>\n",
              "      <td>0.208751</td>\n",
              "    </tr>\n",
              "    <tr>\n",
              "      <th>Credit_Score</th>\n",
              "      <td>0.746988</td>\n",
              "      <td>0.939759</td>\n",
              "      <td>0.819277</td>\n",
              "      <td>0.867470</td>\n",
              "      <td>0.873494</td>\n",
              "    </tr>\n",
              "    <tr>\n",
              "      <th>Annual_Income</th>\n",
              "      <td>0.221779</td>\n",
              "      <td>0.438178</td>\n",
              "      <td>0.148479</td>\n",
              "      <td>0.166757</td>\n",
              "      <td>0.225175</td>\n",
              "    </tr>\n",
              "    <tr>\n",
              "      <th>Employment_Years</th>\n",
              "      <td>0.777778</td>\n",
              "      <td>0.777778</td>\n",
              "      <td>0.222222</td>\n",
              "      <td>1.000000</td>\n",
              "      <td>0.000000</td>\n",
              "    </tr>\n",
              "    <tr>\n",
              "      <th>Monthly_Debt</th>\n",
              "      <td>0.053349</td>\n",
              "      <td>0.298735</td>\n",
              "      <td>0.089434</td>\n",
              "      <td>0.167449</td>\n",
              "      <td>0.111052</td>\n",
              "    </tr>\n",
              "    <tr>\n",
              "      <th>Credit_History_Years</th>\n",
              "      <td>0.292208</td>\n",
              "      <td>0.242424</td>\n",
              "      <td>0.179654</td>\n",
              "      <td>0.294372</td>\n",
              "      <td>0.344156</td>\n",
              "    </tr>\n",
              "    <tr>\n",
              "      <th>Months_Last_Delinquent</th>\n",
              "      <td>0.329897</td>\n",
              "      <td>0.298969</td>\n",
              "      <td>0.329897</td>\n",
              "      <td>0.329897</td>\n",
              "      <td>0.103093</td>\n",
              "    </tr>\n",
              "    <tr>\n",
              "      <th>Total_Open_Accts</th>\n",
              "      <td>0.178571</td>\n",
              "      <td>0.607143</td>\n",
              "      <td>0.285714</td>\n",
              "      <td>0.178571</td>\n",
              "      <td>0.428571</td>\n",
              "    </tr>\n",
              "    <tr>\n",
              "      <th>Credit_Problems</th>\n",
              "      <td>1.000000</td>\n",
              "      <td>1.000000</td>\n",
              "      <td>0.000000</td>\n",
              "      <td>0.000000</td>\n",
              "      <td>1.000000</td>\n",
              "    </tr>\n",
              "    <tr>\n",
              "      <th>Credit_Balance</th>\n",
              "      <td>0.152174</td>\n",
              "      <td>0.198725</td>\n",
              "      <td>0.170939</td>\n",
              "      <td>0.143583</td>\n",
              "      <td>0.081472</td>\n",
              "    </tr>\n",
              "    <tr>\n",
              "      <th>Max_Credit</th>\n",
              "      <td>0.166796</td>\n",
              "      <td>0.300211</td>\n",
              "      <td>0.154874</td>\n",
              "      <td>0.109043</td>\n",
              "      <td>0.108884</td>\n",
              "    </tr>\n",
              "    <tr>\n",
              "      <th>Bankruptcies</th>\n",
              "      <td>1.000000</td>\n",
              "      <td>0.000000</td>\n",
              "      <td>0.000000</td>\n",
              "      <td>0.000000</td>\n",
              "      <td>1.000000</td>\n",
              "    </tr>\n",
              "    <tr>\n",
              "      <th>Num_Loans</th>\n",
              "      <td>1.000000</td>\n",
              "      <td>0.000000</td>\n",
              "      <td>1.000000</td>\n",
              "      <td>0.000000</td>\n",
              "      <td>0.000000</td>\n",
              "    </tr>\n",
              "    <tr>\n",
              "      <th>Term_Short</th>\n",
              "      <td>1.000000</td>\n",
              "      <td>1.000000</td>\n",
              "      <td>0.000000</td>\n",
              "      <td>1.000000</td>\n",
              "      <td>1.000000</td>\n",
              "    </tr>\n",
              "    <tr>\n",
              "      <th>Home_Mortgage</th>\n",
              "      <td>1.000000</td>\n",
              "      <td>0.000000</td>\n",
              "      <td>0.000000</td>\n",
              "      <td>1.000000</td>\n",
              "      <td>1.000000</td>\n",
              "    </tr>\n",
              "    <tr>\n",
              "      <th>Home_Own</th>\n",
              "      <td>0.000000</td>\n",
              "      <td>1.000000</td>\n",
              "      <td>1.000000</td>\n",
              "      <td>0.000000</td>\n",
              "      <td>0.000000</td>\n",
              "    </tr>\n",
              "    <tr>\n",
              "      <th>Home_Rent</th>\n",
              "      <td>0.000000</td>\n",
              "      <td>0.000000</td>\n",
              "      <td>0.000000</td>\n",
              "      <td>0.000000</td>\n",
              "      <td>0.000000</td>\n",
              "    </tr>\n",
              "    <tr>\n",
              "      <th>Purpose_Business</th>\n",
              "      <td>0.000000</td>\n",
              "      <td>0.000000</td>\n",
              "      <td>0.000000</td>\n",
              "      <td>0.000000</td>\n",
              "      <td>0.000000</td>\n",
              "    </tr>\n",
              "    <tr>\n",
              "      <th>Purpose_Debt</th>\n",
              "      <td>0.000000</td>\n",
              "      <td>1.000000</td>\n",
              "      <td>1.000000</td>\n",
              "      <td>1.000000</td>\n",
              "      <td>1.000000</td>\n",
              "    </tr>\n",
              "    <tr>\n",
              "      <th>Purpose_Educational_Expenses</th>\n",
              "      <td>0.000000</td>\n",
              "      <td>0.000000</td>\n",
              "      <td>0.000000</td>\n",
              "      <td>0.000000</td>\n",
              "      <td>0.000000</td>\n",
              "    </tr>\n",
              "    <tr>\n",
              "      <th>Purpose_HomeImprovement</th>\n",
              "      <td>1.000000</td>\n",
              "      <td>0.000000</td>\n",
              "      <td>0.000000</td>\n",
              "      <td>0.000000</td>\n",
              "      <td>0.000000</td>\n",
              "    </tr>\n",
              "    <tr>\n",
              "      <th>Purpose_MajorPurchase</th>\n",
              "      <td>0.000000</td>\n",
              "      <td>0.000000</td>\n",
              "      <td>0.000000</td>\n",
              "      <td>0.000000</td>\n",
              "      <td>0.000000</td>\n",
              "    </tr>\n",
              "    <tr>\n",
              "      <th>Purpose_Other</th>\n",
              "      <td>0.000000</td>\n",
              "      <td>0.000000</td>\n",
              "      <td>0.000000</td>\n",
              "      <td>0.000000</td>\n",
              "      <td>0.000000</td>\n",
              "    </tr>\n",
              "    <tr>\n",
              "      <th>Purpose_Recreation</th>\n",
              "      <td>0.000000</td>\n",
              "      <td>0.000000</td>\n",
              "      <td>0.000000</td>\n",
              "      <td>0.000000</td>\n",
              "      <td>0.000000</td>\n",
              "    </tr>\n",
              "  </tbody>\n",
              "</table>\n",
              "</div>\n",
              "    <div class=\"colab-df-buttons\">\n",
              "\n",
              "  <div class=\"colab-df-container\">\n",
              "    <button class=\"colab-df-convert\" onclick=\"convertToInteractive('df-f5f277e5-9ed9-422c-be21-d8ca662db74c')\"\n",
              "            title=\"Convert this dataframe to an interactive table.\"\n",
              "            style=\"display:none;\">\n",
              "\n",
              "  <svg xmlns=\"http://www.w3.org/2000/svg\" height=\"24px\" viewBox=\"0 -960 960 960\">\n",
              "    <path d=\"M120-120v-720h720v720H120Zm60-500h600v-160H180v160Zm220 220h160v-160H400v160Zm0 220h160v-160H400v160ZM180-400h160v-160H180v160Zm440 0h160v-160H620v160ZM180-180h160v-160H180v160Zm440 0h160v-160H620v160Z\"/>\n",
              "  </svg>\n",
              "    </button>\n",
              "\n",
              "  <style>\n",
              "    .colab-df-container {\n",
              "      display:flex;\n",
              "      gap: 12px;\n",
              "    }\n",
              "\n",
              "    .colab-df-convert {\n",
              "      background-color: #E8F0FE;\n",
              "      border: none;\n",
              "      border-radius: 50%;\n",
              "      cursor: pointer;\n",
              "      display: none;\n",
              "      fill: #1967D2;\n",
              "      height: 32px;\n",
              "      padding: 0 0 0 0;\n",
              "      width: 32px;\n",
              "    }\n",
              "\n",
              "    .colab-df-convert:hover {\n",
              "      background-color: #E2EBFA;\n",
              "      box-shadow: 0px 1px 2px rgba(60, 64, 67, 0.3), 0px 1px 3px 1px rgba(60, 64, 67, 0.15);\n",
              "      fill: #174EA6;\n",
              "    }\n",
              "\n",
              "    .colab-df-buttons div {\n",
              "      margin-bottom: 4px;\n",
              "    }\n",
              "\n",
              "    [theme=dark] .colab-df-convert {\n",
              "      background-color: #3B4455;\n",
              "      fill: #D2E3FC;\n",
              "    }\n",
              "\n",
              "    [theme=dark] .colab-df-convert:hover {\n",
              "      background-color: #434B5C;\n",
              "      box-shadow: 0px 1px 3px 1px rgba(0, 0, 0, 0.15);\n",
              "      filter: drop-shadow(0px 1px 2px rgba(0, 0, 0, 0.3));\n",
              "      fill: #FFFFFF;\n",
              "    }\n",
              "  </style>\n",
              "\n",
              "    <script>\n",
              "      const buttonEl =\n",
              "        document.querySelector('#df-f5f277e5-9ed9-422c-be21-d8ca662db74c button.colab-df-convert');\n",
              "      buttonEl.style.display =\n",
              "        google.colab.kernel.accessAllowed ? 'block' : 'none';\n",
              "\n",
              "      async function convertToInteractive(key) {\n",
              "        const element = document.querySelector('#df-f5f277e5-9ed9-422c-be21-d8ca662db74c');\n",
              "        const dataTable =\n",
              "          await google.colab.kernel.invokeFunction('convertToInteractive',\n",
              "                                                    [key], {});\n",
              "        if (!dataTable) return;\n",
              "\n",
              "        const docLinkHtml = 'Like what you see? Visit the ' +\n",
              "          '<a target=\"_blank\" href=https://colab.research.google.com/notebooks/data_table.ipynb>data table notebook</a>'\n",
              "          + ' to learn more about interactive tables.';\n",
              "        element.innerHTML = '';\n",
              "        dataTable['output_type'] = 'display_data';\n",
              "        await google.colab.output.renderOutput(dataTable, element);\n",
              "        const docLink = document.createElement('div');\n",
              "        docLink.innerHTML = docLinkHtml;\n",
              "        element.appendChild(docLink);\n",
              "      }\n",
              "    </script>\n",
              "  </div>\n",
              "\n",
              "\n",
              "<div id=\"df-00c689d9-9b8d-4932-badc-1aac5a1df467\">\n",
              "  <button class=\"colab-df-quickchart\" onclick=\"quickchart('df-00c689d9-9b8d-4932-badc-1aac5a1df467')\"\n",
              "            title=\"Suggest charts.\"\n",
              "            style=\"display:none;\">\n",
              "\n",
              "<svg xmlns=\"http://www.w3.org/2000/svg\" height=\"24px\"viewBox=\"0 0 24 24\"\n",
              "     width=\"24px\">\n",
              "    <g>\n",
              "        <path d=\"M19 3H5c-1.1 0-2 .9-2 2v14c0 1.1.9 2 2 2h14c1.1 0 2-.9 2-2V5c0-1.1-.9-2-2-2zM9 17H7v-7h2v7zm4 0h-2V7h2v10zm4 0h-2v-4h2v4z\"/>\n",
              "    </g>\n",
              "</svg>\n",
              "  </button>\n",
              "\n",
              "<style>\n",
              "  .colab-df-quickchart {\n",
              "    background-color: #E8F0FE;\n",
              "    border: none;\n",
              "    border-radius: 50%;\n",
              "    cursor: pointer;\n",
              "    display: none;\n",
              "    fill: #1967D2;\n",
              "    height: 32px;\n",
              "    padding: 0 0 0 0;\n",
              "    width: 32px;\n",
              "  }\n",
              "\n",
              "  .colab-df-quickchart:hover {\n",
              "    background-color: #E2EBFA;\n",
              "    box-shadow: 0px 1px 2px rgba(60, 64, 67, 0.3), 0px 1px 3px 1px rgba(60, 64, 67, 0.15);\n",
              "    fill: #174EA6;\n",
              "  }\n",
              "\n",
              "  [theme=dark] .colab-df-quickchart {\n",
              "    background-color: #3B4455;\n",
              "    fill: #D2E3FC;\n",
              "  }\n",
              "\n",
              "  [theme=dark] .colab-df-quickchart:hover {\n",
              "    background-color: #434B5C;\n",
              "    box-shadow: 0px 1px 3px 1px rgba(0, 0, 0, 0.15);\n",
              "    filter: drop-shadow(0px 1px 2px rgba(0, 0, 0, 0.3));\n",
              "    fill: #FFFFFF;\n",
              "  }\n",
              "</style>\n",
              "\n",
              "  <script>\n",
              "    async function quickchart(key) {\n",
              "      const charts = await google.colab.kernel.invokeFunction(\n",
              "          'suggestCharts', [key], {});\n",
              "    }\n",
              "    (() => {\n",
              "      let quickchartButtonEl =\n",
              "        document.querySelector('#df-00c689d9-9b8d-4932-badc-1aac5a1df467 button');\n",
              "      quickchartButtonEl.style.display =\n",
              "        google.colab.kernel.accessAllowed ? 'block' : 'none';\n",
              "    })();\n",
              "  </script>\n",
              "</div>\n",
              "    </div>\n",
              "  </div>\n"
            ]
          },
          "metadata": {},
          "execution_count": 633
        }
      ]
    },
    {
      "cell_type": "markdown",
      "source": [
        "## Feature selection\n",
        "At this point we will conduct a feature review to narrow down the variables used for analysis.  "
      ],
      "metadata": {
        "id": "inDHKU_tBxgA"
      }
    },
    {
      "cell_type": "code",
      "source": [
        "#review correlation between target and features\n",
        "d.corr()['Charged_Off'].sort_values().round(2)"
      ],
      "metadata": {
        "colab": {
          "base_uri": "https://localhost:8080/"
        },
        "id": "ooXaCeRHmAcE",
        "outputId": "ddc035c8-ec0d-4954-b83e-6a8ac34beb28"
      },
      "execution_count": null,
      "outputs": [
        {
          "output_type": "execute_result",
          "data": {
            "text/plain": [
              "Num_Loans                      -0.37\n",
              "Loan_Amount                    -0.15\n",
              "Credit_Score                   -0.11\n",
              "Term_Short                     -0.10\n",
              "Annual_Income                  -0.08\n",
              "Home_Mortgage                  -0.05\n",
              "Max_Credit                     -0.03\n",
              "Credit_History_Years           -0.02\n",
              "Purpose_HomeImprovement        -0.01\n",
              "Purpose_MajorPurchase          -0.01\n",
              "Bankruptcies                   -0.01\n",
              "Months_Last_Delinquent         -0.01\n",
              "Credit_Problems                -0.01\n",
              "Purpose_Recreation             -0.01\n",
              "Purpose_Other                  -0.01\n",
              "Employment_Years               -0.01\n",
              "Purpose_Educational_Expenses   -0.00\n",
              "Home_Own                        0.00\n",
              "Credit_Balance                  0.01\n",
              "Purpose_Debt                    0.01\n",
              "Total_Open_Accts                0.01\n",
              "Monthly_Debt                    0.01\n",
              "Purpose_Business                0.03\n",
              "Home_Rent                       0.05\n",
              "Charged_Off                     1.00\n",
              "Name: Charged_Off, dtype: float64"
            ]
          },
          "metadata": {},
          "execution_count": 526
        }
      ]
    },
    {
      "cell_type": "code",
      "source": [
        "#limit d to target and features with correlation > |.01|\n",
        "d = d.drop(columns = {'Purpose_HomeImprovement',\n",
        "                      'Purpose_MajorPurchase',\n",
        "                      'Bankruptcies',\n",
        "                      'Months_Last_Delinquent',\n",
        "                      'Credit_Problems',\n",
        "                      'Purpose_Recreation',\n",
        "                      'Purpose_Other',\n",
        "                      'Employment_Years',\n",
        "                      'Purpose_Educational_Expenses',\n",
        "                      'Home_Own',\n",
        "                      'Credit_Balance',\n",
        "                      'Purpose_Debt',\n",
        "                      'Total_Open_Accts',\n",
        "                      'Monthly_Debt'})"
      ],
      "metadata": {
        "id": "XcWXD1wlkzJp"
      },
      "execution_count": null,
      "outputs": []
    },
    {
      "cell_type": "code",
      "source": [
        "#check for intercorrelation between features\n",
        "sns.set(rc={\"figure.figsize\":(7, 5)})\n",
        "sns.heatmap(d.corr().round(2), linewidths=2.0,\n",
        "            annot=True, annot_kws={\"size\": 10},\n",
        "            cmap=sns.dark_palette(\"darkorange\")\n",
        "            )"
      ],
      "metadata": {
        "colab": {
          "base_uri": "https://localhost:8080/",
          "height": 615
        },
        "id": "cNrQZuRKEKR6",
        "outputId": "79d9f1c2-fc62-4762-ce4f-93e1dcddaa4d"
      },
      "execution_count": null,
      "outputs": [
        {
          "output_type": "execute_result",
          "data": {
            "text/plain": [
              "<Axes: >"
            ]
          },
          "metadata": {},
          "execution_count": 528
        },
        {
          "output_type": "display_data",
          "data": {
            "text/plain": [
              "<Figure size 700x500 with 2 Axes>"
            ],
            "image/png": "[encoded data removed]"
          },
          "metadata": {}
        }
      ]
    },
    {
      "cell_type": "code",
      "source": [
        "#drop columns with high intercorrelation\n",
        "d = d.drop(columns='Home_Rent')\n",
        "\n",
        "#set target and predictors to continue feature selection\n",
        "y = d['Charged_Off']\n",
        "pred_vars = list(d.columns[1:])\n",
        "X = d[pred_vars]\n",
        "\n",
        "#manual feature selection\n",
        "from statsmodels.stats.outliers_influence import variance_inflation_factor\n",
        "vif = pd.DataFrame()\n",
        "vif['Predictor'] = X.columns\n",
        "vif['VIF'] = [variance_inflation_factor(X.values, i)\n",
        "  for i in range(X.shape[1])]\n",
        "cr = d.corr()['Charged_Off'].round(3)\n",
        "vif['Relevance'] = [cr[i]\n",
        "  for i in range(X.shape[1])]\n",
        "vif"
      ],
      "metadata": {
        "colab": {
          "base_uri": "https://localhost:8080/",
          "height": 332
        },
        "id": "NU5maSl381IX",
        "outputId": "043969e7-65af-4e6f-cff4-b375fcf48e8d"
      },
      "execution_count": null,
      "outputs": [
        {
          "output_type": "execute_result",
          "data": {
            "text/plain": [
              "              Predictor        VIF  Relevance\n",
              "0           Loan_Amount   3.116823      1.000\n",
              "1          Credit_Score  13.201130     -0.152\n",
              "2         Annual_Income   5.214027     -0.108\n",
              "3  Credit_History_Years   5.628883     -0.077\n",
              "4            Max_Credit   3.646951     -0.019\n",
              "5             Num_Loans   1.420106     -0.031\n",
              "6            Term_Short   4.873710     -0.375\n",
              "7         Home_Mortgage   2.119601     -0.101\n",
              "8      Purpose_Business   1.021335     -0.047"
            ],
            "text/html": [
              "\n",
              "  <div id=\"df-607ec8a9-08a7-4cfd-bd09-320dc4ecaec3\" class=\"colab-df-container\">\n",
              "    <div>\n",
              "<style scoped>\n",
              "    .dataframe tbody tr th:only-of-type {\n",
              "        vertical-align: middle;\n",
              "    }\n",
              "\n",
              "    .dataframe tbody tr th {\n",
              "        vertical-align: top;\n",
              "    }\n",
              "\n",
              "    .dataframe thead th {\n",
              "        text-align: right;\n",
              "    }\n",
              "</style>\n",
              "<table border=\"1\" class=\"dataframe\">\n",
              "  <thead>\n",
              "    <tr style=\"text-align: right;\">\n",
              "      <th></th>\n",
              "      <th>Predictor</th>\n",
              "      <th>VIF</th>\n",
              "      <th>Relevance</th>\n",
              "    </tr>\n",
              "  </thead>\n",
              "  <tbody>\n",
              "    <tr>\n",
              "      <th>0</th>\n",
              "      <td>Loan_Amount</td>\n",
              "      <td>3.116823</td>\n",
              "      <td>1.000</td>\n",
              "    </tr>\n",
              "    <tr>\n",
              "      <th>1</th>\n",
              "      <td>Credit_Score</td>\n",
              "      <td>13.201130</td>\n",
              "      <td>-0.152</td>\n",
              "    </tr>\n",
              "    <tr>\n",
              "      <th>2</th>\n",
              "      <td>Annual_Income</td>\n",
              "      <td>5.214027</td>\n",
              "      <td>-0.108</td>\n",
              "    </tr>\n",
              "    <tr>\n",
              "      <th>3</th>\n",
              "      <td>Credit_History_Years</td>\n",
              "      <td>5.628883</td>\n",
              "      <td>-0.077</td>\n",
              "    </tr>\n",
              "    <tr>\n",
              "      <th>4</th>\n",
              "      <td>Max_Credit</td>\n",
              "      <td>3.646951</td>\n",
              "      <td>-0.019</td>\n",
              "    </tr>\n",
              "    <tr>\n",
              "      <th>5</th>\n",
              "      <td>Num_Loans</td>\n",
              "      <td>1.420106</td>\n",
              "      <td>-0.031</td>\n",
              "    </tr>\n",
              "    <tr>\n",
              "      <th>6</th>\n",
              "      <td>Term_Short</td>\n",
              "      <td>4.873710</td>\n",
              "      <td>-0.375</td>\n",
              "    </tr>\n",
              "    <tr>\n",
              "      <th>7</th>\n",
              "      <td>Home_Mortgage</td>\n",
              "      <td>2.119601</td>\n",
              "      <td>-0.101</td>\n",
              "    </tr>\n",
              "    <tr>\n",
              "      <th>8</th>\n",
              "      <td>Purpose_Business</td>\n",
              "      <td>1.021335</td>\n",
              "      <td>-0.047</td>\n",
              "    </tr>\n",
              "  </tbody>\n",
              "</table>\n",
              "</div>\n",
              "    <div class=\"colab-df-buttons\">\n",
              "\n",
              "  <div class=\"colab-df-container\">\n",
              "    <button class=\"colab-df-convert\" onclick=\"convertToInteractive('df-607ec8a9-08a7-4cfd-bd09-320dc4ecaec3')\"\n",
              "            title=\"Convert this dataframe to an interactive table.\"\n",
              "            style=\"display:none;\">\n",
              "\n",
              "  <svg xmlns=\"http://www.w3.org/2000/svg\" height=\"24px\" viewBox=\"0 -960 960 960\">\n",
              "    <path d=\"M120-120v-720h720v720H120Zm60-500h600v-160H180v160Zm220 220h160v-160H400v160Zm0 220h160v-160H400v160ZM180-400h160v-160H180v160Zm440 0h160v-160H620v160ZM180-180h160v-160H180v160Zm440 0h160v-160H620v160Z\"/>\n",
              "  </svg>\n",
              "    </button>\n",
              "\n",
              "  <style>\n",
              "    .colab-df-container {\n",
              "      display:flex;\n",
              "      gap: 12px;\n",
              "    }\n",
              "\n",
              "    .colab-df-convert {\n",
              "      background-color: #E8F0FE;\n",
              "      border: none;\n",
              "      border-radius: 50%;\n",
              "      cursor: pointer;\n",
              "      display: none;\n",
              "      fill: #1967D2;\n",
              "      height: 32px;\n",
              "      padding: 0 0 0 0;\n",
              "      width: 32px;\n",
              "    }\n",
              "\n",
              "    .colab-df-convert:hover {\n",
              "      background-color: #E2EBFA;\n",
              "      box-shadow: 0px 1px 2px rgba(60, 64, 67, 0.3), 0px 1px 3px 1px rgba(60, 64, 67, 0.15);\n",
              "      fill: #174EA6;\n",
              "    }\n",
              "\n",
              "    .colab-df-buttons div {\n",
              "      margin-bottom: 4px;\n",
              "    }\n",
              "\n",
              "    [theme=dark] .colab-df-convert {\n",
              "      background-color: #3B4455;\n",
              "      fill: #D2E3FC;\n",
              "    }\n",
              "\n",
              "    [theme=dark] .colab-df-convert:hover {\n",
              "      background-color: #434B5C;\n",
              "      box-shadow: 0px 1px 3px 1px rgba(0, 0, 0, 0.15);\n",
              "      filter: drop-shadow(0px 1px 2px rgba(0, 0, 0, 0.3));\n",
              "      fill: #FFFFFF;\n",
              "    }\n",
              "  </style>\n",
              "\n",
              "    <script>\n",
              "      const buttonEl =\n",
              "        document.querySelector('#df-607ec8a9-08a7-4cfd-bd09-320dc4ecaec3 button.colab-df-convert');\n",
              "      buttonEl.style.display =\n",
              "        google.colab.kernel.accessAllowed ? 'block' : 'none';\n",
              "\n",
              "      async function convertToInteractive(key) {\n",
              "        const element = document.querySelector('#df-607ec8a9-08a7-4cfd-bd09-320dc4ecaec3');\n",
              "        const dataTable =\n",
              "          await google.colab.kernel.invokeFunction('convertToInteractive',\n",
              "                                                    [key], {});\n",
              "        if (!dataTable) return;\n",
              "\n",
              "        const docLinkHtml = 'Like what you see? Visit the ' +\n",
              "          '<a target=\"_blank\" href=https://colab.research.google.com/notebooks/data_table.ipynb>data table notebook</a>'\n",
              "          + ' to learn more about interactive tables.';\n",
              "        element.innerHTML = '';\n",
              "        dataTable['output_type'] = 'display_data';\n",
              "        await google.colab.output.renderOutput(dataTable, element);\n",
              "        const docLink = document.createElement('div');\n",
              "        docLink.innerHTML = docLinkHtml;\n",
              "        element.appendChild(docLink);\n",
              "      }\n",
              "    </script>\n",
              "  </div>\n",
              "\n",
              "\n",
              "<div id=\"df-02703837-5c67-4283-8f4f-cdf793a42277\">\n",
              "  <button class=\"colab-df-quickchart\" onclick=\"quickchart('df-02703837-5c67-4283-8f4f-cdf793a42277')\"\n",
              "            title=\"Suggest charts.\"\n",
              "            style=\"display:none;\">\n",
              "\n",
              "<svg xmlns=\"http://www.w3.org/2000/svg\" height=\"24px\"viewBox=\"0 0 24 24\"\n",
              "     width=\"24px\">\n",
              "    <g>\n",
              "        <path d=\"M19 3H5c-1.1 0-2 .9-2 2v14c0 1.1.9 2 2 2h14c1.1 0 2-.9 2-2V5c0-1.1-.9-2-2-2zM9 17H7v-7h2v7zm4 0h-2V7h2v10zm4 0h-2v-4h2v4z\"/>\n",
              "    </g>\n",
              "</svg>\n",
              "  </button>\n",
              "\n",
              "<style>\n",
              "  .colab-df-quickchart {\n",
              "    background-color: #E8F0FE;\n",
              "    border: none;\n",
              "    border-radius: 50%;\n",
              "    cursor: pointer;\n",
              "    display: none;\n",
              "    fill: #1967D2;\n",
              "    height: 32px;\n",
              "    padding: 0 0 0 0;\n",
              "    width: 32px;\n",
              "  }\n",
              "\n",
              "  .colab-df-quickchart:hover {\n",
              "    background-color: #E2EBFA;\n",
              "    box-shadow: 0px 1px 2px rgba(60, 64, 67, 0.3), 0px 1px 3px 1px rgba(60, 64, 67, 0.15);\n",
              "    fill: #174EA6;\n",
              "  }\n",
              "\n",
              "  [theme=dark] .colab-df-quickchart {\n",
              "    background-color: #3B4455;\n",
              "    fill: #D2E3FC;\n",
              "  }\n",
              "\n",
              "  [theme=dark] .colab-df-quickchart:hover {\n",
              "    background-color: #434B5C;\n",
              "    box-shadow: 0px 1px 3px 1px rgba(0, 0, 0, 0.15);\n",
              "    filter: drop-shadow(0px 1px 2px rgba(0, 0, 0, 0.3));\n",
              "    fill: #FFFFFF;\n",
              "  }\n",
              "</style>\n",
              "\n",
              "  <script>\n",
              "    async function quickchart(key) {\n",
              "      const charts = await google.colab.kernel.invokeFunction(\n",
              "          'suggestCharts', [key], {});\n",
              "    }\n",
              "    (() => {\n",
              "      let quickchartButtonEl =\n",
              "        document.querySelector('#df-02703837-5c67-4283-8f4f-cdf793a42277 button');\n",
              "      quickchartButtonEl.style.display =\n",
              "        google.colab.kernel.accessAllowed ? 'block' : 'none';\n",
              "    })();\n",
              "  </script>\n",
              "</div>\n",
              "    </div>\n",
              "  </div>\n"
            ]
          },
          "metadata": {},
          "execution_count": 529
        }
      ]
    },
    {
      "cell_type": "code",
      "source": [
        "#multivariate feature selection\n",
        "estimator = LinearRegression()\n",
        "selector = RFE(estimator, n_features_to_select=5, step=1).fit(X,y)\n",
        "\n",
        "rnk = pd.DataFrame()\n",
        "rnk['Feature'] = X.columns\n",
        "rnk['Rank']= selector.ranking_\n",
        "rnk.sort_values('Rank')"
      ],
      "metadata": {
        "colab": {
          "base_uri": "https://localhost:8080/",
          "height": 332
        },
        "id": "0t_poY4O9jKZ",
        "outputId": "4a4ff47d-f4e5-4a04-c2ad-fefac7223983"
      },
      "execution_count": null,
      "outputs": [
        {
          "output_type": "execute_result",
          "data": {
            "text/plain": [
              "                Feature  Rank\n",
              "0           Loan_Amount     1\n",
              "1          Credit_Score     1\n",
              "2         Annual_Income     1\n",
              "5             Num_Loans     1\n",
              "6            Term_Short     1\n",
              "8      Purpose_Business     2\n",
              "7         Home_Mortgage     3\n",
              "3  Credit_History_Years     4\n",
              "4            Max_Credit     5"
            ],
            "text/html": [
              "\n",
              "  <div id=\"df-1b240624-ef9d-42c7-9c8f-968fbc082044\" class=\"colab-df-container\">\n",
              "    <div>\n",
              "<style scoped>\n",
              "    .dataframe tbody tr th:only-of-type {\n",
              "        vertical-align: middle;\n",
              "    }\n",
              "\n",
              "    .dataframe tbody tr th {\n",
              "        vertical-align: top;\n",
              "    }\n",
              "\n",
              "    .dataframe thead th {\n",
              "        text-align: right;\n",
              "    }\n",
              "</style>\n",
              "<table border=\"1\" class=\"dataframe\">\n",
              "  <thead>\n",
              "    <tr style=\"text-align: right;\">\n",
              "      <th></th>\n",
              "      <th>Feature</th>\n",
              "      <th>Rank</th>\n",
              "    </tr>\n",
              "  </thead>\n",
              "  <tbody>\n",
              "    <tr>\n",
              "      <th>0</th>\n",
              "      <td>Loan_Amount</td>\n",
              "      <td>1</td>\n",
              "    </tr>\n",
              "    <tr>\n",
              "      <th>1</th>\n",
              "      <td>Credit_Score</td>\n",
              "      <td>1</td>\n",
              "    </tr>\n",
              "    <tr>\n",
              "      <th>2</th>\n",
              "      <td>Annual_Income</td>\n",
              "      <td>1</td>\n",
              "    </tr>\n",
              "    <tr>\n",
              "      <th>5</th>\n",
              "      <td>Num_Loans</td>\n",
              "      <td>1</td>\n",
              "    </tr>\n",
              "    <tr>\n",
              "      <th>6</th>\n",
              "      <td>Term_Short</td>\n",
              "      <td>1</td>\n",
              "    </tr>\n",
              "    <tr>\n",
              "      <th>8</th>\n",
              "      <td>Purpose_Business</td>\n",
              "      <td>2</td>\n",
              "    </tr>\n",
              "    <tr>\n",
              "      <th>7</th>\n",
              "      <td>Home_Mortgage</td>\n",
              "      <td>3</td>\n",
              "    </tr>\n",
              "    <tr>\n",
              "      <th>3</th>\n",
              "      <td>Credit_History_Years</td>\n",
              "      <td>4</td>\n",
              "    </tr>\n",
              "    <tr>\n",
              "      <th>4</th>\n",
              "      <td>Max_Credit</td>\n",
              "      <td>5</td>\n",
              "    </tr>\n",
              "  </tbody>\n",
              "</table>\n",
              "</div>\n",
              "    <div class=\"colab-df-buttons\">\n",
              "\n",
              "  <div class=\"colab-df-container\">\n",
              "    <button class=\"colab-df-convert\" onclick=\"convertToInteractive('df-1b240624-ef9d-42c7-9c8f-968fbc082044')\"\n",
              "            title=\"Convert this dataframe to an interactive table.\"\n",
              "            style=\"display:none;\">\n",
              "\n",
              "  <svg xmlns=\"http://www.w3.org/2000/svg\" height=\"24px\" viewBox=\"0 -960 960 960\">\n",
              "    <path d=\"M120-120v-720h720v720H120Zm60-500h600v-160H180v160Zm220 220h160v-160H400v160Zm0 220h160v-160H400v160ZM180-400h160v-160H180v160Zm440 0h160v-160H620v160ZM180-180h160v-160H180v160Zm440 0h160v-160H620v160Z\"/>\n",
              "  </svg>\n",
              "    </button>\n",
              "\n",
              "  <style>\n",
              "    .colab-df-container {\n",
              "      display:flex;\n",
              "      gap: 12px;\n",
              "    }\n",
              "\n",
              "    .colab-df-convert {\n",
              "      background-color: #E8F0FE;\n",
              "      border: none;\n",
              "      border-radius: 50%;\n",
              "      cursor: pointer;\n",
              "      display: none;\n",
              "      fill: #1967D2;\n",
              "      height: 32px;\n",
              "      padding: 0 0 0 0;\n",
              "      width: 32px;\n",
              "    }\n",
              "\n",
              "    .colab-df-convert:hover {\n",
              "      background-color: #E2EBFA;\n",
              "      box-shadow: 0px 1px 2px rgba(60, 64, 67, 0.3), 0px 1px 3px 1px rgba(60, 64, 67, 0.15);\n",
              "      fill: #174EA6;\n",
              "    }\n",
              "\n",
              "    .colab-df-buttons div {\n",
              "      margin-bottom: 4px;\n",
              "    }\n",
              "\n",
              "    [theme=dark] .colab-df-convert {\n",
              "      background-color: #3B4455;\n",
              "      fill: #D2E3FC;\n",
              "    }\n",
              "\n",
              "    [theme=dark] .colab-df-convert:hover {\n",
              "      background-color: #434B5C;\n",
              "      box-shadow: 0px 1px 3px 1px rgba(0, 0, 0, 0.15);\n",
              "      filter: drop-shadow(0px 1px 2px rgba(0, 0, 0, 0.3));\n",
              "      fill: #FFFFFF;\n",
              "    }\n",
              "  </style>\n",
              "\n",
              "    <script>\n",
              "      const buttonEl =\n",
              "        document.querySelector('#df-1b240624-ef9d-42c7-9c8f-968fbc082044 button.colab-df-convert');\n",
              "      buttonEl.style.display =\n",
              "        google.colab.kernel.accessAllowed ? 'block' : 'none';\n",
              "\n",
              "      async function convertToInteractive(key) {\n",
              "        const element = document.querySelector('#df-1b240624-ef9d-42c7-9c8f-968fbc082044');\n",
              "        const dataTable =\n",
              "          await google.colab.kernel.invokeFunction('convertToInteractive',\n",
              "                                                    [key], {});\n",
              "        if (!dataTable) return;\n",
              "\n",
              "        const docLinkHtml = 'Like what you see? Visit the ' +\n",
              "          '<a target=\"_blank\" href=https://colab.research.google.com/notebooks/data_table.ipynb>data table notebook</a>'\n",
              "          + ' to learn more about interactive tables.';\n",
              "        element.innerHTML = '';\n",
              "        dataTable['output_type'] = 'display_data';\n",
              "        await google.colab.output.renderOutput(dataTable, element);\n",
              "        const docLink = document.createElement('div');\n",
              "        docLink.innerHTML = docLinkHtml;\n",
              "        element.appendChild(docLink);\n",
              "      }\n",
              "    </script>\n",
              "  </div>\n",
              "\n",
              "\n",
              "<div id=\"df-481522e4-b274-4b1d-af52-99e461e59b93\">\n",
              "  <button class=\"colab-df-quickchart\" onclick=\"quickchart('df-481522e4-b274-4b1d-af52-99e461e59b93')\"\n",
              "            title=\"Suggest charts.\"\n",
              "            style=\"display:none;\">\n",
              "\n",
              "<svg xmlns=\"http://www.w3.org/2000/svg\" height=\"24px\"viewBox=\"0 0 24 24\"\n",
              "     width=\"24px\">\n",
              "    <g>\n",
              "        <path d=\"M19 3H5c-1.1 0-2 .9-2 2v14c0 1.1.9 2 2 2h14c1.1 0 2-.9 2-2V5c0-1.1-.9-2-2-2zM9 17H7v-7h2v7zm4 0h-2V7h2v10zm4 0h-2v-4h2v4z\"/>\n",
              "    </g>\n",
              "</svg>\n",
              "  </button>\n",
              "\n",
              "<style>\n",
              "  .colab-df-quickchart {\n",
              "    background-color: #E8F0FE;\n",
              "    border: none;\n",
              "    border-radius: 50%;\n",
              "    cursor: pointer;\n",
              "    display: none;\n",
              "    fill: #1967D2;\n",
              "    height: 32px;\n",
              "    padding: 0 0 0 0;\n",
              "    width: 32px;\n",
              "  }\n",
              "\n",
              "  .colab-df-quickchart:hover {\n",
              "    background-color: #E2EBFA;\n",
              "    box-shadow: 0px 1px 2px rgba(60, 64, 67, 0.3), 0px 1px 3px 1px rgba(60, 64, 67, 0.15);\n",
              "    fill: #174EA6;\n",
              "  }\n",
              "\n",
              "  [theme=dark] .colab-df-quickchart {\n",
              "    background-color: #3B4455;\n",
              "    fill: #D2E3FC;\n",
              "  }\n",
              "\n",
              "  [theme=dark] .colab-df-quickchart:hover {\n",
              "    background-color: #434B5C;\n",
              "    box-shadow: 0px 1px 3px 1px rgba(0, 0, 0, 0.15);\n",
              "    filter: drop-shadow(0px 1px 2px rgba(0, 0, 0, 0.3));\n",
              "    fill: #FFFFFF;\n",
              "  }\n",
              "</style>\n",
              "\n",
              "  <script>\n",
              "    async function quickchart(key) {\n",
              "      const charts = await google.colab.kernel.invokeFunction(\n",
              "          'suggestCharts', [key], {});\n",
              "    }\n",
              "    (() => {\n",
              "      let quickchartButtonEl =\n",
              "        document.querySelector('#df-481522e4-b274-4b1d-af52-99e461e59b93 button');\n",
              "      quickchartButtonEl.style.display =\n",
              "        google.colab.kernel.accessAllowed ? 'block' : 'none';\n",
              "    })();\n",
              "  </script>\n",
              "</div>\n",
              "    </div>\n",
              "  </div>\n"
            ]
          },
          "metadata": {},
          "execution_count": 530
        }
      ]
    },
    {
      "cell_type": "code",
      "source": [
        "#update predictor variables\n",
        "pred_vars = ['Loan_Amount','Credit_Score','Annual_Income','Num_Loans','Term_Short']\n",
        "X = d[pred_vars]"
      ],
      "metadata": {
        "id": "apg-Np9X_iAL"
      },
      "execution_count": null,
      "outputs": []
    },
    {
      "cell_type": "markdown",
      "source": [
        "## Initial analysis: k-cluster\n",
        "\n",
        "Prior to completing supervised machine learning, we would like to establish a stronger understanding of the groupings our features. We'll complete this task with a k-cluster analysis, a form of unsupervised machine learning."
      ],
      "metadata": {
        "id": "9ex3sWShyFkc"
      }
    },
    {
      "cell_type": "code",
      "source": [
        "#identify features\n",
        "features = ['Charged_Off','Loan_Amount','Credit_Score','Annual_Income','Num_Loans','Term_Short']\n",
        "X0 = d[features]\n",
        "\n",
        "#set arbitrary start for random_state\n",
        "start = 42\n",
        "\n",
        "#prep for cluster review\n",
        "max_nc = 15\n",
        "inertia = []\n",
        "silhouette = []\n",
        "\n",
        "#calculate silhousette and inertia for differing cluster counts\n",
        "for i in range(2, max_nc):\n",
        "  model = KMeans(n_clusters=i, init='k-means++', n_init=100, random_state=start)\n",
        "  model.fit(X0)\n",
        "  inertia.append(model.inertia_)\n",
        "  s_score = metrics.silhouette_score(X0, model.labels_, metric='euclidean')\n",
        "  silhouette.append(s_score)\n",
        "\n",
        "#print analysis\n",
        "print('{:>2}{:>11}{:>9}'.format('nc', 'Silhouette', 'Inertia'))\n",
        "print('-' * 24)\n",
        "for i in range(2, max_nc):\n",
        "  print('{:>2d}{:>8.3f}{:>12.3f}'.\\\n",
        "  format(i, silhouette[i-2], inertia[i-2]))"
      ],
      "metadata": {
        "id": "FiT8-_zzPGRu",
        "colab": {
          "base_uri": "https://localhost:8080/"
        },
        "outputId": "19e18725-f850-4082-8707-1338c61e6b7c"
      },
      "execution_count": null,
      "outputs": [
        {
          "output_type": "stream",
          "name": "stdout",
          "text": [
            "nc Silhouette  Inertia\n",
            "------------------------\n",
            " 2   0.389   36079.507\n",
            " 3   0.469   24209.088\n",
            " 4   0.523   16686.219\n",
            " 5   0.583   11955.767\n",
            " 6   0.598    8997.421\n",
            " 7   0.645    6078.293\n",
            " 8   0.644    4896.441\n",
            " 9   0.619    4412.966\n",
            "10   0.547    4046.228\n",
            "11   0.537    3759.770\n",
            "12   0.497    3540.888\n",
            "13   0.472    3356.151\n",
            "14   0.431    3175.628\n"
          ]
        }
      ]
    },
    {
      "cell_type": "code",
      "source": [
        "#set plot for inertia\n",
        "sns.set(rc={\"figure.figsize\":(6, 4)})\n",
        "plt.plot(range(2, max_nc), inertia, marker='o')\n",
        "plt.xlabel('Number of clusters')\n",
        "plt.ylabel('Inertia')\n",
        "plt.show()"
      ],
      "metadata": {
        "colab": {
          "base_uri": "https://localhost:8080/",
          "height": 396
        },
        "id": "mGBI46nvPj_s",
        "outputId": "9fd9ed33-74d8-4436-b5b2-4e039596ee0d"
      },
      "execution_count": null,
      "outputs": [
        {
          "output_type": "display_data",
          "data": {
            "text/plain": [
              "<Figure size 600x400 with 1 Axes>"
            ],
            "image/png": "[encoded data removed]"
          },
          "metadata": {}
        }
      ]
    },
    {
      "cell_type": "code",
      "source": [
        "#set plot for silhouette\n",
        "plt.plot(range(2, max_nc), silhouette, marker='o')\n",
        "plt.xlabel('Number of clusters')\n",
        "plt.ylabel('Silhouette')\n",
        "plt.show()"
      ],
      "metadata": {
        "colab": {
          "base_uri": "https://localhost:8080/",
          "height": 396
        },
        "id": "so0_QmzdPm2m",
        "outputId": "2df5b490-833a-4846-ed7b-b9498b55079f"
      },
      "execution_count": null,
      "outputs": [
        {
          "output_type": "display_data",
          "data": {
            "text/plain": [
              "<Figure size 600x400 with 1 Axes>"
            ],
            "image/png": "[encoded data removed]"
          },
          "metadata": {}
        }
      ]
    },
    {
      "cell_type": "code",
      "source": [
        "model = KMeans(n_clusters=7, init='k-means++', n_init=100, random_state=start)\n",
        "model.fit(X0)"
      ],
      "metadata": {
        "colab": {
          "base_uri": "https://localhost:8080/",
          "height": 75
        },
        "id": "ZtKAGPOnPzbO",
        "outputId": "bc50bd2b-1794-48f9-dead-12bdaab72f22"
      },
      "execution_count": null,
      "outputs": [
        {
          "output_type": "execute_result",
          "data": {
            "text/plain": [
              "KMeans(n_clusters=7, n_init=100, random_state=42)"
            ],
            "text/html": [
              "<style>#sk-container-id-6 {color: black;background-color: white;}#sk-container-id-6 pre{padding: 0;}#sk-container-id-6 div.sk-toggleable {background-color: white;}#sk-container-id-6 label.sk-toggleable__label {cursor: pointer;display: block;width: 100%;margin-bottom: 0;padding: 0.3em;box-sizing: border-box;text-align: center;}#sk-container-id-6 label.sk-toggleable__label-arrow:before {content: \"▸\";float: left;margin-right: 0.25em;color: #696969;}#sk-container-id-6 label.sk-toggleable__label-arrow:hover:before {color: black;}#sk-container-id-6 div.sk-estimator:hover label.sk-toggleable__label-arrow:before {color: black;}#sk-container-id-6 div.sk-toggleable__content {max-height: 0;max-width: 0;overflow: hidden;text-align: left;background-color: #f0f8ff;}#sk-container-id-6 div.sk-toggleable__content pre {margin: 0.2em;color: black;border-radius: 0.25em;background-color: #f0f8ff;}#sk-container-id-6 input.sk-toggleable__control:checked~div.sk-toggleable__content {max-height: 200px;max-width: 100%;overflow: auto;}#sk-container-id-6 input.sk-toggleable__control:checked~label.sk-toggleable__label-arrow:before {content: \"▾\";}#sk-container-id-6 div.sk-estimator input.sk-toggleable__control:checked~label.sk-toggleable__label {background-color: #d4ebff;}#sk-container-id-6 div.sk-label input.sk-toggleable__control:checked~label.sk-toggleable__label {background-color: #d4ebff;}#sk-container-id-6 input.sk-hidden--visually {border: 0;clip: rect(1px 1px 1px 1px);clip: rect(1px, 1px, 1px, 1px);height: 1px;margin: -1px;overflow: hidden;padding: 0;position: absolute;width: 1px;}#sk-container-id-6 div.sk-estimator {font-family: monospace;background-color: #f0f8ff;border: 1px dotted black;border-radius: 0.25em;box-sizing: border-box;margin-bottom: 0.5em;}#sk-container-id-6 div.sk-estimator:hover {background-color: #d4ebff;}#sk-container-id-6 div.sk-parallel-item::after {content: \"\";width: 100%;border-bottom: 1px solid gray;flex-grow: 1;}#sk-container-id-6 div.sk-label:hover label.sk-toggleable__label {background-color: #d4ebff;}#sk-container-id-6 div.sk-serial::before {content: \"\";position: absolute;border-left: 1px solid gray;box-sizing: border-box;top: 0;bottom: 0;left: 50%;z-index: 0;}#sk-container-id-6 div.sk-serial {display: flex;flex-direction: column;align-items: center;background-color: white;padding-right: 0.2em;padding-left: 0.2em;position: relative;}#sk-container-id-6 div.sk-item {position: relative;z-index: 1;}#sk-container-id-6 div.sk-parallel {display: flex;align-items: stretch;justify-content: center;background-color: white;position: relative;}#sk-container-id-6 div.sk-item::before, #sk-container-id-6 div.sk-parallel-item::before {content: \"\";position: absolute;border-left: 1px solid gray;box-sizing: border-box;top: 0;bottom: 0;left: 50%;z-index: -1;}#sk-container-id-6 div.sk-parallel-item {display: flex;flex-direction: column;z-index: 1;position: relative;background-color: white;}#sk-container-id-6 div.sk-parallel-item:first-child::after {align-self: flex-end;width: 50%;}#sk-container-id-6 div.sk-parallel-item:last-child::after {align-self: flex-start;width: 50%;}#sk-container-id-6 div.sk-parallel-item:only-child::after {width: 0;}#sk-container-id-6 div.sk-dashed-wrapped {border: 1px dashed gray;margin: 0 0.4em 0.5em 0.4em;box-sizing: border-box;padding-bottom: 0.4em;background-color: white;}#sk-container-id-6 div.sk-label label {font-family: monospace;font-weight: bold;display: inline-block;line-height: 1.2em;}#sk-container-id-6 div.sk-label-container {text-align: center;}#sk-container-id-6 div.sk-container {/* jupyter's `normalize.less` sets `[hidden] { display: none; }` but bootstrap.min.css set `[hidden] { display: none !important; }` so we also need the `!important` here to be able to override the default hidden behavior on the sphinx rendered scikit-learn.org. See: https://github.com/scikit-learn/scikit-learn/issues/21755 */display: inline-block !important;position: relative;}#sk-container-id-6 div.sk-text-repr-fallback {display: none;}</style><div id=\"sk-container-id-6\" class=\"sk-top-container\"><div class=\"sk-text-repr-fallback\"><pre>KMeans(n_clusters=7, n_init=100, random_state=42)</pre><b>In a Jupyter environment, please rerun this cell to show the HTML representation or trust the notebook. <br />On GitHub, the HTML representation is unable to render, please try loading this page with nbviewer.org.</b></div><div class=\"sk-container\" hidden><div class=\"sk-item\"><div class=\"sk-estimator sk-toggleable\"><input class=\"sk-toggleable__control sk-hidden--visually\" id=\"sk-estimator-id-10\" type=\"checkbox\" checked><label for=\"sk-estimator-id-10\" class=\"sk-toggleable__label sk-toggleable__label-arrow\">KMeans</label><div class=\"sk-toggleable__content\"><pre>KMeans(n_clusters=7, n_init=100, random_state=42)</pre></div></div></div></div></div>"
            ]
          },
          "metadata": {},
          "execution_count": 535
        }
      ]
    },
    {
      "cell_type": "code",
      "source": [
        "_score = metrics.silhouette_score(X0, model.labels_, metric='euclidean')\n",
        "print('Inertia: %.3f ' % model.inertia_)\n",
        "print('Mean silhouette score: %.3f' % s_score)"
      ],
      "metadata": {
        "colab": {
          "base_uri": "https://localhost:8080/"
        },
        "id": "muwAFXRlP1sI",
        "outputId": "019afff2-4153-48dd-f9b9-dda9b44d2012"
      },
      "execution_count": null,
      "outputs": [
        {
          "output_type": "stream",
          "name": "stdout",
          "text": [
            "Inertia: 6078.293 \n",
            "Mean silhouette score: 0.431\n"
          ]
        }
      ]
    },
    {
      "cell_type": "code",
      "source": [
        "s_values = silhouette_samples(X0, model.labels_)\n",
        "plt.hist(s_values.round(3))\n",
        "plt.xlabel('Silhouette Coefficient')\n",
        "plt.ylabel('Count')"
      ],
      "metadata": {
        "colab": {
          "base_uri": "https://localhost:8080/",
          "height": 414
        },
        "id": "8QATGSNcqB0a",
        "outputId": "6207d703-fe2f-44dc-91f6-08246dc45d97"
      },
      "execution_count": null,
      "outputs": [
        {
          "output_type": "execute_result",
          "data": {
            "text/plain": [
              "Text(0, 0.5, 'Count')"
            ]
          },
          "metadata": {},
          "execution_count": 537
        },
        {
          "output_type": "display_data",
          "data": {
            "text/plain": [
              "<Figure size 600x400 with 1 Axes>"
            ],
            "image/png": "[encoded data removed]"
          },
          "metadata": {}
        }
      ]
    },
    {
      "cell_type": "code",
      "source": [
        "dc = d[features].copy()\n",
        "dc['Cluster'] = model.labels_\n",
        "dc['S'] = s_values.round(3)\n",
        "d_lab = pd.DataFrame(model.labels_, columns=['labels'])\n",
        "count = d_lab['labels'].value_counts()\n",
        "count"
      ],
      "metadata": {
        "colab": {
          "base_uri": "https://localhost:8080/"
        },
        "id": "cbPr540FP6y3",
        "outputId": "75192414-abec-454f-9507-14a7c9c0f738"
      },
      "execution_count": null,
      "outputs": [
        {
          "output_type": "execute_result",
          "data": {
            "text/plain": [
              "1    20961\n",
              "0    15606\n",
              "2    10243\n",
              "4    10210\n",
              "6     7558\n",
              "5     6074\n",
              "3     5400\n",
              "Name: labels, dtype: int64"
            ]
          },
          "metadata": {},
          "execution_count": 552
        }
      ]
    },
    {
      "cell_type": "code",
      "source": [
        "dcc = pd.DataFrame(model.cluster_centers_,\n",
        "  columns=list(X0.columns)).round(3)\n",
        "dcc['Count'] = count\n",
        "dcc.sort_values('Charged_Off', ascending=False)"
      ],
      "metadata": {
        "colab": {
          "base_uri": "https://localhost:8080/",
          "height": 269
        },
        "id": "_FNI-im3P_Gh",
        "outputId": "92df50a5-9ceb-4d9e-9dfc-053d2e832cd6"
      },
      "execution_count": null,
      "outputs": [
        {
          "output_type": "execute_result",
          "data": {
            "text/plain": [
              "   Charged_Off  Loan_Amount  Credit_Score  Annual_Income  Num_Loans  \\\n",
              "2          1.0        0.249         0.824          0.213       -0.0   \n",
              "5          1.0        0.423         0.642          0.260       -0.0   \n",
              "0          0.0        0.340         0.735          0.230        1.0   \n",
              "1          0.0        0.232         0.900          0.244        0.0   \n",
              "3         -0.0        0.509         0.756          0.289       -0.0   \n",
              "4          0.0        0.507         0.633          0.287        1.0   \n",
              "6          0.0        0.961         0.921          0.280       -0.0   \n",
              "\n",
              "   Term_Short  Count  \n",
              "2         1.0  10243  \n",
              "5        -0.0   6074  \n",
              "0         1.0  15606  \n",
              "1         1.0  20961  \n",
              "3        -0.0   5400  \n",
              "4        -0.0  10210  \n",
              "6         1.0   7558  "
            ],
            "text/html": [
              "\n",
              "  <div id=\"df-d88a4873-320c-487d-8429-d4d5af467a43\" class=\"colab-df-container\">\n",
              "    <div>\n",
              "<style scoped>\n",
              "    .dataframe tbody tr th:only-of-type {\n",
              "        vertical-align: middle;\n",
              "    }\n",
              "\n",
              "    .dataframe tbody tr th {\n",
              "        vertical-align: top;\n",
              "    }\n",
              "\n",
              "    .dataframe thead th {\n",
              "        text-align: right;\n",
              "    }\n",
              "</style>\n",
              "<table border=\"1\" class=\"dataframe\">\n",
              "  <thead>\n",
              "    <tr style=\"text-align: right;\">\n",
              "      <th></th>\n",
              "      <th>Charged_Off</th>\n",
              "      <th>Loan_Amount</th>\n",
              "      <th>Credit_Score</th>\n",
              "      <th>Annual_Income</th>\n",
              "      <th>Num_Loans</th>\n",
              "      <th>Term_Short</th>\n",
              "      <th>Count</th>\n",
              "    </tr>\n",
              "  </thead>\n",
              "  <tbody>\n",
              "    <tr>\n",
              "      <th>2</th>\n",
              "      <td>1.0</td>\n",
              "      <td>0.249</td>\n",
              "      <td>0.824</td>\n",
              "      <td>0.213</td>\n",
              "      <td>-0.0</td>\n",
              "      <td>1.0</td>\n",
              "      <td>10243</td>\n",
              "    </tr>\n",
              "    <tr>\n",
              "      <th>5</th>\n",
              "      <td>1.0</td>\n",
              "      <td>0.423</td>\n",
              "      <td>0.642</td>\n",
              "      <td>0.260</td>\n",
              "      <td>-0.0</td>\n",
              "      <td>-0.0</td>\n",
              "      <td>6074</td>\n",
              "    </tr>\n",
              "    <tr>\n",
              "      <th>0</th>\n",
              "      <td>0.0</td>\n",
              "      <td>0.340</td>\n",
              "      <td>0.735</td>\n",
              "      <td>0.230</td>\n",
              "      <td>1.0</td>\n",
              "      <td>1.0</td>\n",
              "      <td>15606</td>\n",
              "    </tr>\n",
              "    <tr>\n",
              "      <th>1</th>\n",
              "      <td>0.0</td>\n",
              "      <td>0.232</td>\n",
              "      <td>0.900</td>\n",
              "      <td>0.244</td>\n",
              "      <td>0.0</td>\n",
              "      <td>1.0</td>\n",
              "      <td>20961</td>\n",
              "    </tr>\n",
              "    <tr>\n",
              "      <th>3</th>\n",
              "      <td>-0.0</td>\n",
              "      <td>0.509</td>\n",
              "      <td>0.756</td>\n",
              "      <td>0.289</td>\n",
              "      <td>-0.0</td>\n",
              "      <td>-0.0</td>\n",
              "      <td>5400</td>\n",
              "    </tr>\n",
              "    <tr>\n",
              "      <th>4</th>\n",
              "      <td>0.0</td>\n",
              "      <td>0.507</td>\n",
              "      <td>0.633</td>\n",
              "      <td>0.287</td>\n",
              "      <td>1.0</td>\n",
              "      <td>-0.0</td>\n",
              "      <td>10210</td>\n",
              "    </tr>\n",
              "    <tr>\n",
              "      <th>6</th>\n",
              "      <td>0.0</td>\n",
              "      <td>0.961</td>\n",
              "      <td>0.921</td>\n",
              "      <td>0.280</td>\n",
              "      <td>-0.0</td>\n",
              "      <td>1.0</td>\n",
              "      <td>7558</td>\n",
              "    </tr>\n",
              "  </tbody>\n",
              "</table>\n",
              "</div>\n",
              "    <div class=\"colab-df-buttons\">\n",
              "\n",
              "  <div class=\"colab-df-container\">\n",
              "    <button class=\"colab-df-convert\" onclick=\"convertToInteractive('df-d88a4873-320c-487d-8429-d4d5af467a43')\"\n",
              "            title=\"Convert this dataframe to an interactive table.\"\n",
              "            style=\"display:none;\">\n",
              "\n",
              "  <svg xmlns=\"http://www.w3.org/2000/svg\" height=\"24px\" viewBox=\"0 -960 960 960\">\n",
              "    <path d=\"M120-120v-720h720v720H120Zm60-500h600v-160H180v160Zm220 220h160v-160H400v160Zm0 220h160v-160H400v160ZM180-400h160v-160H180v160Zm440 0h160v-160H620v160ZM180-180h160v-160H180v160Zm440 0h160v-160H620v160Z\"/>\n",
              "  </svg>\n",
              "    </button>\n",
              "\n",
              "  <style>\n",
              "    .colab-df-container {\n",
              "      display:flex;\n",
              "      gap: 12px;\n",
              "    }\n",
              "\n",
              "    .colab-df-convert {\n",
              "      background-color: #E8F0FE;\n",
              "      border: none;\n",
              "      border-radius: 50%;\n",
              "      cursor: pointer;\n",
              "      display: none;\n",
              "      fill: #1967D2;\n",
              "      height: 32px;\n",
              "      padding: 0 0 0 0;\n",
              "      width: 32px;\n",
              "    }\n",
              "\n",
              "    .colab-df-convert:hover {\n",
              "      background-color: #E2EBFA;\n",
              "      box-shadow: 0px 1px 2px rgba(60, 64, 67, 0.3), 0px 1px 3px 1px rgba(60, 64, 67, 0.15);\n",
              "      fill: #174EA6;\n",
              "    }\n",
              "\n",
              "    .colab-df-buttons div {\n",
              "      margin-bottom: 4px;\n",
              "    }\n",
              "\n",
              "    [theme=dark] .colab-df-convert {\n",
              "      background-color: #3B4455;\n",
              "      fill: #D2E3FC;\n",
              "    }\n",
              "\n",
              "    [theme=dark] .colab-df-convert:hover {\n",
              "      background-color: #434B5C;\n",
              "      box-shadow: 0px 1px 3px 1px rgba(0, 0, 0, 0.15);\n",
              "      filter: drop-shadow(0px 1px 2px rgba(0, 0, 0, 0.3));\n",
              "      fill: #FFFFFF;\n",
              "    }\n",
              "  </style>\n",
              "\n",
              "    <script>\n",
              "      const buttonEl =\n",
              "        document.querySelector('#df-d88a4873-320c-487d-8429-d4d5af467a43 button.colab-df-convert');\n",
              "      buttonEl.style.display =\n",
              "        google.colab.kernel.accessAllowed ? 'block' : 'none';\n",
              "\n",
              "      async function convertToInteractive(key) {\n",
              "        const element = document.querySelector('#df-d88a4873-320c-487d-8429-d4d5af467a43');\n",
              "        const dataTable =\n",
              "          await google.colab.kernel.invokeFunction('convertToInteractive',\n",
              "                                                    [key], {});\n",
              "        if (!dataTable) return;\n",
              "\n",
              "        const docLinkHtml = 'Like what you see? Visit the ' +\n",
              "          '<a target=\"_blank\" href=https://colab.research.google.com/notebooks/data_table.ipynb>data table notebook</a>'\n",
              "          + ' to learn more about interactive tables.';\n",
              "        element.innerHTML = '';\n",
              "        dataTable['output_type'] = 'display_data';\n",
              "        await google.colab.output.renderOutput(dataTable, element);\n",
              "        const docLink = document.createElement('div');\n",
              "        docLink.innerHTML = docLinkHtml;\n",
              "        element.appendChild(docLink);\n",
              "      }\n",
              "    </script>\n",
              "  </div>\n",
              "\n",
              "\n",
              "<div id=\"df-afe51286-d1ad-4cb5-9285-2a622405cdf1\">\n",
              "  <button class=\"colab-df-quickchart\" onclick=\"quickchart('df-afe51286-d1ad-4cb5-9285-2a622405cdf1')\"\n",
              "            title=\"Suggest charts.\"\n",
              "            style=\"display:none;\">\n",
              "\n",
              "<svg xmlns=\"http://www.w3.org/2000/svg\" height=\"24px\"viewBox=\"0 0 24 24\"\n",
              "     width=\"24px\">\n",
              "    <g>\n",
              "        <path d=\"M19 3H5c-1.1 0-2 .9-2 2v14c0 1.1.9 2 2 2h14c1.1 0 2-.9 2-2V5c0-1.1-.9-2-2-2zM9 17H7v-7h2v7zm4 0h-2V7h2v10zm4 0h-2v-4h2v4z\"/>\n",
              "    </g>\n",
              "</svg>\n",
              "  </button>\n",
              "\n",
              "<style>\n",
              "  .colab-df-quickchart {\n",
              "    background-color: #E8F0FE;\n",
              "    border: none;\n",
              "    border-radius: 50%;\n",
              "    cursor: pointer;\n",
              "    display: none;\n",
              "    fill: #1967D2;\n",
              "    height: 32px;\n",
              "    padding: 0 0 0 0;\n",
              "    width: 32px;\n",
              "  }\n",
              "\n",
              "  .colab-df-quickchart:hover {\n",
              "    background-color: #E2EBFA;\n",
              "    box-shadow: 0px 1px 2px rgba(60, 64, 67, 0.3), 0px 1px 3px 1px rgba(60, 64, 67, 0.15);\n",
              "    fill: #174EA6;\n",
              "  }\n",
              "\n",
              "  [theme=dark] .colab-df-quickchart {\n",
              "    background-color: #3B4455;\n",
              "    fill: #D2E3FC;\n",
              "  }\n",
              "\n",
              "  [theme=dark] .colab-df-quickchart:hover {\n",
              "    background-color: #434B5C;\n",
              "    box-shadow: 0px 1px 3px 1px rgba(0, 0, 0, 0.15);\n",
              "    filter: drop-shadow(0px 1px 2px rgba(0, 0, 0, 0.3));\n",
              "    fill: #FFFFFF;\n",
              "  }\n",
              "</style>\n",
              "\n",
              "  <script>\n",
              "    async function quickchart(key) {\n",
              "      const charts = await google.colab.kernel.invokeFunction(\n",
              "          'suggestCharts', [key], {});\n",
              "    }\n",
              "    (() => {\n",
              "      let quickchartButtonEl =\n",
              "        document.querySelector('#df-afe51286-d1ad-4cb5-9285-2a622405cdf1 button');\n",
              "      quickchartButtonEl.style.display =\n",
              "        google.colab.kernel.accessAllowed ? 'block' : 'none';\n",
              "    })();\n",
              "  </script>\n",
              "</div>\n",
              "    </div>\n",
              "  </div>\n"
            ]
          },
          "metadata": {},
          "execution_count": 553
        }
      ]
    },
    {
      "cell_type": "code",
      "source": [
        "avg = dc.groupby(dc['Cluster'])[features].mean().round(2)\n",
        "d_avg = pd.DataFrame(avg, columns=features).round(3)\n",
        "d_avg['Count'] = count\n",
        "d_avg = d_avg.sort_values('Charged_Off', ascending=False)\n",
        "d_avg"
      ],
      "metadata": {
        "colab": {
          "base_uri": "https://localhost:8080/",
          "height": 300
        },
        "id": "XY8ulfI8QBMK",
        "outputId": "7cf2a62b-831d-4264-afcc-668bc4571bad"
      },
      "execution_count": null,
      "outputs": [
        {
          "output_type": "execute_result",
          "data": {
            "text/plain": [
              "         Charged_Off  Loan_Amount  Credit_Score  Annual_Income  Num_Loans  \\\n",
              "Cluster                                                                     \n",
              "2                1.0         0.25          0.82           0.21        0.0   \n",
              "5                1.0         0.42          0.64           0.26        0.0   \n",
              "0                0.0         0.34          0.74           0.23        1.0   \n",
              "1                0.0         0.23          0.90           0.24        0.0   \n",
              "3                0.0         0.51          0.76           0.29        0.0   \n",
              "4                0.0         0.51          0.63           0.29        1.0   \n",
              "6                0.0         0.96          0.92           0.28        0.0   \n",
              "\n",
              "         Term_Short  Count  \n",
              "Cluster                     \n",
              "2               1.0  10243  \n",
              "5               0.0   6074  \n",
              "0               1.0  15606  \n",
              "1               1.0  20961  \n",
              "3               0.0   5400  \n",
              "4               0.0  10210  \n",
              "6               1.0   7558  "
            ],
            "text/html": [
              "\n",
              "  <div id=\"df-d00dcacb-00b0-44ef-9dd1-d351bf57d84f\" class=\"colab-df-container\">\n",
              "    <div>\n",
              "<style scoped>\n",
              "    .dataframe tbody tr th:only-of-type {\n",
              "        vertical-align: middle;\n",
              "    }\n",
              "\n",
              "    .dataframe tbody tr th {\n",
              "        vertical-align: top;\n",
              "    }\n",
              "\n",
              "    .dataframe thead th {\n",
              "        text-align: right;\n",
              "    }\n",
              "</style>\n",
              "<table border=\"1\" class=\"dataframe\">\n",
              "  <thead>\n",
              "    <tr style=\"text-align: right;\">\n",
              "      <th></th>\n",
              "      <th>Charged_Off</th>\n",
              "      <th>Loan_Amount</th>\n",
              "      <th>Credit_Score</th>\n",
              "      <th>Annual_Income</th>\n",
              "      <th>Num_Loans</th>\n",
              "      <th>Term_Short</th>\n",
              "      <th>Count</th>\n",
              "    </tr>\n",
              "    <tr>\n",
              "      <th>Cluster</th>\n",
              "      <th></th>\n",
              "      <th></th>\n",
              "      <th></th>\n",
              "      <th></th>\n",
              "      <th></th>\n",
              "      <th></th>\n",
              "      <th></th>\n",
              "    </tr>\n",
              "  </thead>\n",
              "  <tbody>\n",
              "    <tr>\n",
              "      <th>2</th>\n",
              "      <td>1.0</td>\n",
              "      <td>0.25</td>\n",
              "      <td>0.82</td>\n",
              "      <td>0.21</td>\n",
              "      <td>0.0</td>\n",
              "      <td>1.0</td>\n",
              "      <td>10243</td>\n",
              "    </tr>\n",
              "    <tr>\n",
              "      <th>5</th>\n",
              "      <td>1.0</td>\n",
              "      <td>0.42</td>\n",
              "      <td>0.64</td>\n",
              "      <td>0.26</td>\n",
              "      <td>0.0</td>\n",
              "      <td>0.0</td>\n",
              "      <td>6074</td>\n",
              "    </tr>\n",
              "    <tr>\n",
              "      <th>0</th>\n",
              "      <td>0.0</td>\n",
              "      <td>0.34</td>\n",
              "      <td>0.74</td>\n",
              "      <td>0.23</td>\n",
              "      <td>1.0</td>\n",
              "      <td>1.0</td>\n",
              "      <td>15606</td>\n",
              "    </tr>\n",
              "    <tr>\n",
              "      <th>1</th>\n",
              "      <td>0.0</td>\n",
              "      <td>0.23</td>\n",
              "      <td>0.90</td>\n",
              "      <td>0.24</td>\n",
              "      <td>0.0</td>\n",
              "      <td>1.0</td>\n",
              "      <td>20961</td>\n",
              "    </tr>\n",
              "    <tr>\n",
              "      <th>3</th>\n",
              "      <td>0.0</td>\n",
              "      <td>0.51</td>\n",
              "      <td>0.76</td>\n",
              "      <td>0.29</td>\n",
              "      <td>0.0</td>\n",
              "      <td>0.0</td>\n",
              "      <td>5400</td>\n",
              "    </tr>\n",
              "    <tr>\n",
              "      <th>4</th>\n",
              "      <td>0.0</td>\n",
              "      <td>0.51</td>\n",
              "      <td>0.63</td>\n",
              "      <td>0.29</td>\n",
              "      <td>1.0</td>\n",
              "      <td>0.0</td>\n",
              "      <td>10210</td>\n",
              "    </tr>\n",
              "    <tr>\n",
              "      <th>6</th>\n",
              "      <td>0.0</td>\n",
              "      <td>0.96</td>\n",
              "      <td>0.92</td>\n",
              "      <td>0.28</td>\n",
              "      <td>0.0</td>\n",
              "      <td>1.0</td>\n",
              "      <td>7558</td>\n",
              "    </tr>\n",
              "  </tbody>\n",
              "</table>\n",
              "</div>\n",
              "    <div class=\"colab-df-buttons\">\n",
              "\n",
              "  <div class=\"colab-df-container\">\n",
              "    <button class=\"colab-df-convert\" onclick=\"convertToInteractive('df-d00dcacb-00b0-44ef-9dd1-d351bf57d84f')\"\n",
              "            title=\"Convert this dataframe to an interactive table.\"\n",
              "            style=\"display:none;\">\n",
              "\n",
              "  <svg xmlns=\"http://www.w3.org/2000/svg\" height=\"24px\" viewBox=\"0 -960 960 960\">\n",
              "    <path d=\"M120-120v-720h720v720H120Zm60-500h600v-160H180v160Zm220 220h160v-160H400v160Zm0 220h160v-160H400v160ZM180-400h160v-160H180v160Zm440 0h160v-160H620v160ZM180-180h160v-160H180v160Zm440 0h160v-160H620v160Z\"/>\n",
              "  </svg>\n",
              "    </button>\n",
              "\n",
              "  <style>\n",
              "    .colab-df-container {\n",
              "      display:flex;\n",
              "      gap: 12px;\n",
              "    }\n",
              "\n",
              "    .colab-df-convert {\n",
              "      background-color: #E8F0FE;\n",
              "      border: none;\n",
              "      border-radius: 50%;\n",
              "      cursor: pointer;\n",
              "      display: none;\n",
              "      fill: #1967D2;\n",
              "      height: 32px;\n",
              "      padding: 0 0 0 0;\n",
              "      width: 32px;\n",
              "    }\n",
              "\n",
              "    .colab-df-convert:hover {\n",
              "      background-color: #E2EBFA;\n",
              "      box-shadow: 0px 1px 2px rgba(60, 64, 67, 0.3), 0px 1px 3px 1px rgba(60, 64, 67, 0.15);\n",
              "      fill: #174EA6;\n",
              "    }\n",
              "\n",
              "    .colab-df-buttons div {\n",
              "      margin-bottom: 4px;\n",
              "    }\n",
              "\n",
              "    [theme=dark] .colab-df-convert {\n",
              "      background-color: #3B4455;\n",
              "      fill: #D2E3FC;\n",
              "    }\n",
              "\n",
              "    [theme=dark] .colab-df-convert:hover {\n",
              "      background-color: #434B5C;\n",
              "      box-shadow: 0px 1px 3px 1px rgba(0, 0, 0, 0.15);\n",
              "      filter: drop-shadow(0px 1px 2px rgba(0, 0, 0, 0.3));\n",
              "      fill: #FFFFFF;\n",
              "    }\n",
              "  </style>\n",
              "\n",
              "    <script>\n",
              "      const buttonEl =\n",
              "        document.querySelector('#df-d00dcacb-00b0-44ef-9dd1-d351bf57d84f button.colab-df-convert');\n",
              "      buttonEl.style.display =\n",
              "        google.colab.kernel.accessAllowed ? 'block' : 'none';\n",
              "\n",
              "      async function convertToInteractive(key) {\n",
              "        const element = document.querySelector('#df-d00dcacb-00b0-44ef-9dd1-d351bf57d84f');\n",
              "        const dataTable =\n",
              "          await google.colab.kernel.invokeFunction('convertToInteractive',\n",
              "                                                    [key], {});\n",
              "        if (!dataTable) return;\n",
              "\n",
              "        const docLinkHtml = 'Like what you see? Visit the ' +\n",
              "          '<a target=\"_blank\" href=https://colab.research.google.com/notebooks/data_table.ipynb>data table notebook</a>'\n",
              "          + ' to learn more about interactive tables.';\n",
              "        element.innerHTML = '';\n",
              "        dataTable['output_type'] = 'display_data';\n",
              "        await google.colab.output.renderOutput(dataTable, element);\n",
              "        const docLink = document.createElement('div');\n",
              "        docLink.innerHTML = docLinkHtml;\n",
              "        element.appendChild(docLink);\n",
              "      }\n",
              "    </script>\n",
              "  </div>\n",
              "\n",
              "\n",
              "<div id=\"df-5c9a6fc0-4133-4069-a23a-588391625907\">\n",
              "  <button class=\"colab-df-quickchart\" onclick=\"quickchart('df-5c9a6fc0-4133-4069-a23a-588391625907')\"\n",
              "            title=\"Suggest charts.\"\n",
              "            style=\"display:none;\">\n",
              "\n",
              "<svg xmlns=\"http://www.w3.org/2000/svg\" height=\"24px\"viewBox=\"0 0 24 24\"\n",
              "     width=\"24px\">\n",
              "    <g>\n",
              "        <path d=\"M19 3H5c-1.1 0-2 .9-2 2v14c0 1.1.9 2 2 2h14c1.1 0 2-.9 2-2V5c0-1.1-.9-2-2-2zM9 17H7v-7h2v7zm4 0h-2V7h2v10zm4 0h-2v-4h2v4z\"/>\n",
              "    </g>\n",
              "</svg>\n",
              "  </button>\n",
              "\n",
              "<style>\n",
              "  .colab-df-quickchart {\n",
              "    background-color: #E8F0FE;\n",
              "    border: none;\n",
              "    border-radius: 50%;\n",
              "    cursor: pointer;\n",
              "    display: none;\n",
              "    fill: #1967D2;\n",
              "    height: 32px;\n",
              "    padding: 0 0 0 0;\n",
              "    width: 32px;\n",
              "  }\n",
              "\n",
              "  .colab-df-quickchart:hover {\n",
              "    background-color: #E2EBFA;\n",
              "    box-shadow: 0px 1px 2px rgba(60, 64, 67, 0.3), 0px 1px 3px 1px rgba(60, 64, 67, 0.15);\n",
              "    fill: #174EA6;\n",
              "  }\n",
              "\n",
              "  [theme=dark] .colab-df-quickchart {\n",
              "    background-color: #3B4455;\n",
              "    fill: #D2E3FC;\n",
              "  }\n",
              "\n",
              "  [theme=dark] .colab-df-quickchart:hover {\n",
              "    background-color: #434B5C;\n",
              "    box-shadow: 0px 1px 3px 1px rgba(0, 0, 0, 0.15);\n",
              "    filter: drop-shadow(0px 1px 2px rgba(0, 0, 0, 0.3));\n",
              "    fill: #FFFFFF;\n",
              "  }\n",
              "</style>\n",
              "\n",
              "  <script>\n",
              "    async function quickchart(key) {\n",
              "      const charts = await google.colab.kernel.invokeFunction(\n",
              "          'suggestCharts', [key], {});\n",
              "    }\n",
              "    (() => {\n",
              "      let quickchartButtonEl =\n",
              "        document.querySelector('#df-5c9a6fc0-4133-4069-a23a-588391625907 button');\n",
              "      quickchartButtonEl.style.display =\n",
              "        google.colab.kernel.accessAllowed ? 'block' : 'none';\n",
              "    })();\n",
              "  </script>\n",
              "</div>\n",
              "    </div>\n",
              "  </div>\n"
            ]
          },
          "metadata": {},
          "execution_count": 554
        }
      ]
    },
    {
      "cell_type": "markdown",
      "source": [
        "To get a better understanding of the groupings in relation to the target value, we're going to group clusters with no, all, and some charge offs."
      ],
      "metadata": {
        "id": "Cf2TuE6MxOIm"
      }
    },
    {
      "cell_type": "code",
      "source": [
        "dc['Cluster'] = dc['Cluster'].replace({1,3,4,6}, 0)\n",
        "dc['Cluster'] = dc['Cluster'].replace({2,5}, 1)\n",
        "\n",
        "for cluster in range (0,2):\n",
        "  c = dc[dc['Cluster'] == cluster]\n",
        "  print('GROUP',cluster,', DETAILS\\n','-'*10,'\\n',\n",
        "        'Charge Off Count:',len(c[c['Charged_Off'] == 1]),'/',len(c.index),'\\n',\n",
        "        'Loan Amount Range:',c['Loan_Amount'].min(),'-',c['Loan_Amount'].max(),'\\n',\n",
        "        'Credit Score Range:',c['Credit_Score'].min(),'-',c['Credit_Score'].max(),'\\n',\n",
        "        'Income Range:',c['Annual_Income'].min(),'-',c['Annual_Income'].max(),'\\n',\n",
        "        'Loan Count Range:',c['Num_Loans'].min(),'-',c['Num_Loans'].max(),'\\n',\n",
        "        'Short Term Percent:',len(c[c['Term_Short'] == 1])/len(c.index)*100,'%\\n')"
      ],
      "metadata": {
        "colab": {
          "base_uri": "https://localhost:8080/"
        },
        "id": "G0Bb7Vsthzm9",
        "outputId": "91069ec3-d995-4d17-f54b-022a000035a5"
      },
      "execution_count": null,
      "outputs": [
        {
          "output_type": "stream",
          "name": "stdout",
          "text": [
            "GROUP 0 , DETAILS\n",
            " ---------- \n",
            " Charge Off Count: 0 / 59735 \n",
            " Loan Amount Range: 0.0 - 1.0 \n",
            " Credit Score Range: 0.0 - 1.0 \n",
            " Income Range: 0.0009077599959826793 - 1.0 \n",
            " Loan Count Range: 0.0 - 1.0 \n",
            " Short Term Percent: 73.86791663179041 %\n",
            "\n",
            "GROUP 1 , DETAILS\n",
            " ---------- \n",
            " Charge Off Count: 16317 / 16317 \n",
            " Loan Amount Range: 0.010324063117567697 - 0.7866980595858644 \n",
            " Credit Score Range: 0.0 - 1.0 \n",
            " Income Range: 0.0 - 0.9897287922156683 \n",
            " Loan Count Range: 0.0 - 0.0 \n",
            " Short Term Percent: 62.77501991787706 %\n",
            "\n"
          ]
        }
      ]
    },
    {
      "cell_type": "markdown",
      "source": [
        "### Summary: K-cluster analysis\n",
        "\n",
        "Based on final inertia and silhouette scores, the k-cluster analysis did not create distinct enough clusters to use as a standalone analysis. However, the individual clusters did create a full divide between charged-off loans and those that were not charged off. From that, we can see the following trends about loans that are more likely to be charged off:\n",
        "\n",
        "*   Loan amounts are generally in the middling range (at neither extreme of amount)\n",
        "*   Usually the only loan the customer has on file with us\n",
        "* Less likely to be a short term loan\n",
        "\n",
        "However, further refinement of the data being used prior to analysis would be needed to confirm any of these statements.\n",
        "\n",
        "\n",
        "\n"
      ],
      "metadata": {
        "id": "_ww3lK8bSVCa"
      }
    },
    {
      "cell_type": "markdown",
      "source": [
        "## Linear regression\n",
        "As a basic form of review, we will now conduct a linear regression analysis using the previously identified predictor variables for X and Charged_Off as y.   "
      ],
      "metadata": {
        "id": "-DLzbaQ6_5-l"
      }
    },
    {
      "cell_type": "code",
      "source": [
        "reg_model = LinearRegression()\n",
        "\n",
        "kf = KFold(n_splits=5, shuffle=True, random_state=1)\n",
        "\n",
        "scores = cross_validate(reg_model, X, y, cv=kf,\n",
        "scoring=('r2', 'neg_mean_squared_error'),\n",
        "                        return_train_score=True)\n",
        "\n",
        "ds = pd.DataFrame(scores)\n",
        "ds.rename(columns = {'test_neg_mean_squared_error': 'test_MSE',\n",
        "'train_neg_mean_squared_error': 'train_MSE'},\n",
        "inplace=True)\n",
        "ds['test_MSE'] = -ds['test_MSE']\n",
        "ds['train_MSE'] = -ds['train_MSE']\n",
        "print(ds.round(4))"
      ],
      "metadata": {
        "colab": {
          "base_uri": "https://localhost:8080/"
        },
        "id": "KnJxJyaa_8dW",
        "outputId": "87fe5e4a-5951-4411-d5e5-6ff304e4d20c"
      },
      "execution_count": null,
      "outputs": [
        {
          "output_type": "stream",
          "name": "stdout",
          "text": [
            "   fit_time  score_time  test_r2  train_r2  test_MSE  train_MSE\n",
            "0    0.0152      0.0030   0.2615    0.2501    0.1265     0.1259\n",
            "1    0.0191      0.0031   0.2516    0.2526    0.1236     0.1266\n",
            "2    0.0191      0.0045   0.2408    0.2553    0.1279     0.1255\n",
            "3    0.0191      0.0030   0.2537    0.2521    0.1259     0.1260\n",
            "4    0.0189      0.0031   0.2534    0.2522    0.1261     0.1260\n"
          ]
        }
      ]
    },
    {
      "cell_type": "code",
      "source": [
        "print('Mean of test R-squared scores: %.3f' % ds['test_r2'].mean(),'\\n')\n",
        "print('Mean of test MSE scores: %.3f' % ds['test_MSE'].mean())\n",
        "\n",
        "se = np.sqrt(ds['test_MSE'].mean())\n",
        "print('Standard deviation of mean test MSE scores: %.3f' % se)"
      ],
      "metadata": {
        "colab": {
          "base_uri": "https://localhost:8080/"
        },
        "id": "8untT1KUBlq-",
        "outputId": "773f7ad6-de68-4361-a274-57ab3adec362"
      },
      "execution_count": null,
      "outputs": [
        {
          "output_type": "stream",
          "name": "stdout",
          "text": [
            "Mean of test R-squared scores: 0.252 \n",
            "\n",
            "Mean of test MSE scores: 0.126\n",
            "Standard deviation of mean test MSE scores: 0.355\n"
          ]
        }
      ]
    },
    {
      "cell_type": "markdown",
      "source": [
        "### Summary: Linear regression\n",
        "As with the k-cluster analysis, the results from our linear regression analysis are inconclusive. While we have a low average for our Mean Squared Errors (MSE), we also have low r-squared scores. As such, the information available from this analysis cannot be used to make accurate predictions at this point."
      ],
      "metadata": {
        "id": "4qu9m3swIti7"
      }
    }
  ]
}
